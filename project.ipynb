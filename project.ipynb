{
 "cells": [
  {
   "cell_type": "code",
   "execution_count": 1,
   "metadata": {},
   "outputs": [],
   "source": [
    "%alias package {__import__('sys').executable} -m pip install --quiet --upgrade --upgrade-strategy eager %l"
   ]
  },
  {
   "cell_type": "code",
   "execution_count": 2,
   "metadata": {
    "id": "rU_Mxyr64tA9"
   },
   "outputs": [],
   "source": [
    "session_storage = 'downloads'\n",
    "\n",
    "import os\n",
    "os.makedirs(session_storage, exist_ok=True)"
   ]
  },
  {
   "cell_type": "code",
   "execution_count": 3,
   "metadata": {
    "id": "mmMz4GWV4tA9"
   },
   "outputs": [],
   "source": [
    "%package fsspec\n",
    "\n",
    "import fsspec\n",
    "\n",
    "fs_dataset = fsspec.filesystem(\n",
    "    'simplecache', \n",
    "    target_protocol='https', \n",
    "    cache_storage=session_storage\n",
    ")"
   ]
  },
  {
   "cell_type": "code",
   "execution_count": 4,
   "metadata": {
    "id": "wSh2EXOe4tA9"
   },
   "outputs": [],
   "source": [
    "%package numpy pandas \n",
    "\n",
    "import numpy as np\n",
    "import pandas as pd\n",
    "'''\n",
    "%package swifter\n",
    "import swifter\n",
    "swifter.set_defaults(\n",
    "    npartitions=None,\n",
    "    dask_thres=1,\n",
    "    scheduler='processes',\n",
    "    progress_bar=True,\n",
    "    progress_bar_desc=None,\n",
    "    allow_dask_on_strings=True,\n",
    "    force_parallel=False\n",
    ")\n",
    "'''\n",
    "\n",
    "%package scikit-learn\n",
    "import sklearn as skl\n",
    "import sklearn.base\n",
    "import sklearn.compose\n",
    "#import sklearn.ensemble\n",
    "import sklearn.feature_extraction\n",
    "import sklearn.linear_model\n",
    "import sklearn.metrics\n",
    "import sklearn.model_selection\n",
    "import sklearn.pipeline\n",
    "#import sklearn.svm\n",
    "\n",
    "#%package scikit-learn-intelex\n",
    "#import sklearnex\n",
    "#sklearnex.patch_sklearn()\n",
    "\n",
    "#%package xgboost\n",
    "#import xgboost"
   ]
  },
  {
   "cell_type": "code",
   "execution_count": 5,
   "metadata": {},
   "outputs": [
    {
     "name": "stderr",
     "output_type": "stream",
     "text": [
      "2022-12-03 05:16:13.762072: I tensorflow/core/platform/cpu_feature_guard.cc:193] This TensorFlow binary is optimized with oneAPI Deep Neural Network Library (oneDNN) to use the following CPU instructions in performance-critical operations:  AVX2 FMA\n",
      "To enable them in other operations, rebuild TensorFlow with the appropriate compiler flags.\n",
      "2022-12-03 05:16:15.212051: W tensorflow/compiler/xla/stream_executor/platform/default/dso_loader.cc:64] Could not load dynamic library 'libnvinfer.so.7'; dlerror: libnvinfer.so.7: cannot open shared object file: No such file or directory; LD_LIBRARY_PATH: /usr/local/nvidia/lib:/usr/local/nvidia/lib64:/opt/conda/lib/:/opt/conda/lib/\n",
      "2022-12-03 05:16:15.212166: W tensorflow/compiler/xla/stream_executor/platform/default/dso_loader.cc:64] Could not load dynamic library 'libnvinfer_plugin.so.7'; dlerror: libnvinfer_plugin.so.7: cannot open shared object file: No such file or directory; LD_LIBRARY_PATH: /usr/local/nvidia/lib:/usr/local/nvidia/lib64:/opt/conda/lib/:/opt/conda/lib/\n",
      "2022-12-03 05:16:15.212180: W tensorflow/compiler/tf2tensorrt/utils/py_utils.cc:38] TF-TRT Warning: Cannot dlopen some TensorRT libraries. If you would like to use Nvidia GPU with TensorRT, please make sure the missing libraries mentioned above are installed properly.\n"
     ]
    }
   ],
   "source": [
    "%package tensorflow tensorflow-gpu\n",
    "\n",
    "import tensorflow as tf\n",
    "from tensorflow import keras as keras\n",
    "\n",
    "from tensorflow.python.ops.numpy_ops import np_config\n",
    "np_config.enable_numpy_behavior()"
   ]
  },
  {
   "cell_type": "code",
   "execution_count": 6,
   "metadata": {},
   "outputs": [
    {
     "name": "stderr",
     "output_type": "stream",
     "text": [
      "/opt/conda/lib/python3.9/site-packages/tensorflow_addons/utils/ensure_tf_install.py:53: UserWarning: Tensorflow Addons supports using Python ops for all Tensorflow versions above or equal to 2.8.0 and strictly below 2.11.0 (nightly versions are not supported). \n",
      " The versions of TensorFlow you are currently using is 2.11.0 and is not supported. \n",
      "Some things might work, some things might not.\n",
      "If you were to encounter a bug, do not file an issue.\n",
      "If you want to make sure you're using a tested and supported configuration, either change the TensorFlow version or the TensorFlow Addons's version. \n",
      "You can find the compatibility matrix in TensorFlow Addon's readme:\n",
      "https://github.com/tensorflow/addons\n",
      "  warnings.warn(\n"
     ]
    }
   ],
   "source": [
    "%package tensorflow-addons\n",
    "import tensorflow_addons as tfa"
   ]
  },
  {
   "cell_type": "code",
   "execution_count": 7,
   "metadata": {},
   "outputs": [],
   "source": [
    "%package scikeras\n",
    "\n",
    "import scikeras as skeras\n",
    "import scikeras.wrappers"
   ]
  },
  {
   "cell_type": "code",
   "execution_count": 8,
   "metadata": {},
   "outputs": [],
   "source": [
    "import matplotlib as mpl\n",
    "%matplotlib inline\n",
    "%config InlineBackend.figure_formats = ['svg']\n",
    "\n",
    "import matplotlib.pyplot as plt\n",
    "def set_constrained_layout(plt):\n",
    "    plt.rcParams['figure.constrained_layout.use'] = True\n",
    "set_constrained_layout(plt)\n",
    "\n",
    "plt.style.use('default')"
   ]
  },
  {
   "cell_type": "code",
   "execution_count": 9,
   "metadata": {},
   "outputs": [],
   "source": [
    "import matplotlib\n",
    "import matplotlib.pyplot as plt\n",
    "import numpy as np\n",
    "\n",
    "def subplots(\n",
    "    n, \n",
    "    ncols = 1, visible = False, \n",
    "    *args, **kwargs\n",
    "):\n",
    "    fig, axs = plt.subplots(\n",
    "        *args, **kwargs,\n",
    "        ncols=ncols, \n",
    "        nrows=int(np.ceil(n / ncols))\n",
    "    )\n",
    "    for ax in axs.flatten():\n",
    "        ax.set(visible=visible)\n",
    "    return fig, axs"
   ]
  },
  {
   "cell_type": "markdown",
   "metadata": {},
   "source": [
    "## Dataset"
   ]
  },
  {
   "cell_type": "code",
   "execution_count": 10,
   "metadata": {},
   "outputs": [],
   "source": [
    "# TODO\n",
    "df_scripts = pd.read_pickle('./dataset.pkl', compression='gzip')"
   ]
  },
  {
   "cell_type": "code",
   "execution_count": 11,
   "metadata": {},
   "outputs": [
    {
     "data": {
      "text/html": [
       "<div>\n",
       "<style scoped>\n",
       "    .dataframe tbody tr th:only-of-type {\n",
       "        vertical-align: middle;\n",
       "    }\n",
       "\n",
       "    .dataframe tbody tr th {\n",
       "        vertical-align: top;\n",
       "    }\n",
       "\n",
       "    .dataframe thead th {\n",
       "        text-align: right;\n",
       "    }\n",
       "</style>\n",
       "<table border=\"1\" class=\"dataframe\">\n",
       "  <thead>\n",
       "    <tr style=\"text-align: right;\">\n",
       "      <th></th>\n",
       "      <th>script_name</th>\n",
       "      <th>script_text</th>\n",
       "    </tr>\n",
       "  </thead>\n",
       "  <tbody>\n",
       "    <tr>\n",
       "      <th>0</th>\n",
       "      <td>No Country for Old Men Script</td>\n",
       "      <td>[\\r\\n\\r\\n\\r\\n \\r\\n                          NO...</td>\n",
       "    </tr>\n",
       "    <tr>\n",
       "      <th>1</th>\n",
       "      <td>Strangers on a Train Script</td>\n",
       "      <td>[                   STRANGERS ON A TRAIN\\r\\n\\r...</td>\n",
       "    </tr>\n",
       "    <tr>\n",
       "      <th>2</th>\n",
       "      <td>Sex, Lies and Videotape Script</td>\n",
       "      <td>[\\r\\n\\r\\n&lt;b&gt;&lt;!--\\r\\n&lt;/b&gt;if (window!= top)\\r\\nt...</td>\n",
       "    </tr>\n",
       "    <tr>\n",
       "      <th>3</th>\n",
       "      <td>Absolute Power Script</td>\n",
       "      <td>[ABSOLUTE POWER\\r\\n\\r\\n      Written by\\r\\n   ...</td>\n",
       "    </tr>\n",
       "    <tr>\n",
       "      <th>4</th>\n",
       "      <td>World is not Enough, The Script</td>\n",
       "      <td>[\\t\\t\\r\\n\\r\\n       T H E   W O R L D   I S   ...</td>\n",
       "    </tr>\n",
       "    <tr>\n",
       "      <th>...</th>\n",
       "      <td>...</td>\n",
       "      <td>...</td>\n",
       "    </tr>\n",
       "    <tr>\n",
       "      <th>1204</th>\n",
       "      <td>Shivers Script</td>\n",
       "      <td>[\\r\\n\\r\\n\\r\\n                                 ...</td>\n",
       "    </tr>\n",
       "    <tr>\n",
       "      <th>1205</th>\n",
       "      <td>American Psycho Script</td>\n",
       "      <td>[\\r\\n\\r\\n\\r\\n&lt;b&gt;&lt;!--\\r\\n&lt;/b&gt;if (window!= top)\\...</td>\n",
       "    </tr>\n",
       "    <tr>\n",
       "      <th>1206</th>\n",
       "      <td>Five Easy Pieces Script</td>\n",
       "      <td>[\\r\\n\\r\\n\\r\\n&lt;b&gt;&lt;!--\\r\\n&lt;/b&gt;if (window!= top)\\...</td>\n",
       "    </tr>\n",
       "    <tr>\n",
       "      <th>1207</th>\n",
       "      <td>Saving Mr. Banks Script</td>\n",
       "      <td>[\\r\\n\\r\\n\\r\\n                                 ...</td>\n",
       "    </tr>\n",
       "    <tr>\n",
       "      <th>1208</th>\n",
       "      <td>Get Carter Script</td>\n",
       "      <td>[\\r\\n\\r\\n\\r\\n\\r\\n                             ...</td>\n",
       "    </tr>\n",
       "  </tbody>\n",
       "</table>\n",
       "<p>1209 rows × 2 columns</p>\n",
       "</div>"
      ],
      "text/plain": [
       "                          script_name  \\\n",
       "0       No Country for Old Men Script   \n",
       "1         Strangers on a Train Script   \n",
       "2      Sex, Lies and Videotape Script   \n",
       "3               Absolute Power Script   \n",
       "4     World is not Enough, The Script   \n",
       "...                               ...   \n",
       "1204                   Shivers Script   \n",
       "1205           American Psycho Script   \n",
       "1206          Five Easy Pieces Script   \n",
       "1207          Saving Mr. Banks Script   \n",
       "1208                Get Carter Script   \n",
       "\n",
       "                                            script_text  \n",
       "0     [\\r\\n\\r\\n\\r\\n \\r\\n                          NO...  \n",
       "1     [                   STRANGERS ON A TRAIN\\r\\n\\r...  \n",
       "2     [\\r\\n\\r\\n<b><!--\\r\\n</b>if (window!= top)\\r\\nt...  \n",
       "3     [ABSOLUTE POWER\\r\\n\\r\\n      Written by\\r\\n   ...  \n",
       "4     [\\t\\t\\r\\n\\r\\n       T H E   W O R L D   I S   ...  \n",
       "...                                                 ...  \n",
       "1204  [\\r\\n\\r\\n\\r\\n                                 ...  \n",
       "1205  [\\r\\n\\r\\n\\r\\n<b><!--\\r\\n</b>if (window!= top)\\...  \n",
       "1206  [\\r\\n\\r\\n\\r\\n<b><!--\\r\\n</b>if (window!= top)\\...  \n",
       "1207  [\\r\\n\\r\\n\\r\\n                                 ...  \n",
       "1208  [\\r\\n\\r\\n\\r\\n\\r\\n                             ...  \n",
       "\n",
       "[1209 rows x 2 columns]"
      ]
     },
     "execution_count": 11,
     "metadata": {},
     "output_type": "execute_result"
    }
   ],
   "source": [
    "df_scripts"
   ]
  },
  {
   "cell_type": "code",
   "execution_count": 12,
   "metadata": {},
   "outputs": [],
   "source": [
    "df_scripts = df_scripts.astype({\n",
    "    'script_name': 'category'\n",
    "})"
   ]
  },
  {
   "cell_type": "code",
   "execution_count": 13,
   "metadata": {},
   "outputs": [],
   "source": [
    "df_scripts = df_scripts.explode('script_text', ignore_index=True)"
   ]
  },
  {
   "cell_type": "code",
   "execution_count": 14,
   "metadata": {},
   "outputs": [],
   "source": [
    "df_scripts.dropna(inplace=True)\n",
    "df_scripts.reset_index(drop=True, inplace=True)"
   ]
  },
  {
   "cell_type": "code",
   "execution_count": 15,
   "metadata": {},
   "outputs": [
    {
     "data": {
      "text/html": [
       "<div>\n",
       "<style scoped>\n",
       "    .dataframe tbody tr th:only-of-type {\n",
       "        vertical-align: middle;\n",
       "    }\n",
       "\n",
       "    .dataframe tbody tr th {\n",
       "        vertical-align: top;\n",
       "    }\n",
       "\n",
       "    .dataframe thead th {\n",
       "        text-align: right;\n",
       "    }\n",
       "</style>\n",
       "<table border=\"1\" class=\"dataframe\">\n",
       "  <thead>\n",
       "    <tr style=\"text-align: right;\">\n",
       "      <th></th>\n",
       "      <th>script_name</th>\n",
       "      <th>script_text</th>\n",
       "    </tr>\n",
       "  </thead>\n",
       "  <tbody>\n",
       "    <tr>\n",
       "      <th>0</th>\n",
       "      <td>No Country for Old Men Script</td>\n",
       "      <td>\\r\\n\\r\\n\\r\\n \\r\\n                          NO ...</td>\n",
       "    </tr>\n",
       "    <tr>\n",
       "      <th>1</th>\n",
       "      <td>Strangers on a Train Script</td>\n",
       "      <td>STRANGERS ON A TRAIN\\r\\n\\r\\...</td>\n",
       "    </tr>\n",
       "    <tr>\n",
       "      <th>2</th>\n",
       "      <td>Sex, Lies and Videotape Script</td>\n",
       "      <td>\\r\\n\\r\\n&lt;b&gt;&lt;!--\\r\\n&lt;/b&gt;if (window!= top)\\r\\nto...</td>\n",
       "    </tr>\n",
       "    <tr>\n",
       "      <th>3</th>\n",
       "      <td>Absolute Power Script</td>\n",
       "      <td>ABSOLUTE POWER\\r\\n\\r\\n      Written by\\r\\n    ...</td>\n",
       "    </tr>\n",
       "    <tr>\n",
       "      <th>4</th>\n",
       "      <td>World is not Enough, The Script</td>\n",
       "      <td>\\t\\t\\r\\n\\r\\n       T H E   W O R L D   I S   N...</td>\n",
       "    </tr>\n",
       "    <tr>\n",
       "      <th>...</th>\n",
       "      <td>...</td>\n",
       "      <td>...</td>\n",
       "    </tr>\n",
       "    <tr>\n",
       "      <th>1172</th>\n",
       "      <td>Shivers Script</td>\n",
       "      <td>\\r\\n\\r\\n\\r\\n                                  ...</td>\n",
       "    </tr>\n",
       "    <tr>\n",
       "      <th>1173</th>\n",
       "      <td>American Psycho Script</td>\n",
       "      <td>\\r\\n\\r\\n\\r\\n&lt;b&gt;&lt;!--\\r\\n&lt;/b&gt;if (window!= top)\\r...</td>\n",
       "    </tr>\n",
       "    <tr>\n",
       "      <th>1174</th>\n",
       "      <td>Five Easy Pieces Script</td>\n",
       "      <td>\\r\\n\\r\\n\\r\\n&lt;b&gt;&lt;!--\\r\\n&lt;/b&gt;if (window!= top)\\r...</td>\n",
       "    </tr>\n",
       "    <tr>\n",
       "      <th>1175</th>\n",
       "      <td>Saving Mr. Banks Script</td>\n",
       "      <td>\\r\\n\\r\\n\\r\\n                                  ...</td>\n",
       "    </tr>\n",
       "    <tr>\n",
       "      <th>1176</th>\n",
       "      <td>Get Carter Script</td>\n",
       "      <td>\\r\\n\\r\\n\\r\\n\\r\\n                              ...</td>\n",
       "    </tr>\n",
       "  </tbody>\n",
       "</table>\n",
       "<p>1177 rows × 2 columns</p>\n",
       "</div>"
      ],
      "text/plain": [
       "                          script_name  \\\n",
       "0       No Country for Old Men Script   \n",
       "1         Strangers on a Train Script   \n",
       "2      Sex, Lies and Videotape Script   \n",
       "3               Absolute Power Script   \n",
       "4     World is not Enough, The Script   \n",
       "...                               ...   \n",
       "1172                   Shivers Script   \n",
       "1173           American Psycho Script   \n",
       "1174          Five Easy Pieces Script   \n",
       "1175          Saving Mr. Banks Script   \n",
       "1176                Get Carter Script   \n",
       "\n",
       "                                            script_text  \n",
       "0     \\r\\n\\r\\n\\r\\n \\r\\n                          NO ...  \n",
       "1                        STRANGERS ON A TRAIN\\r\\n\\r\\...  \n",
       "2     \\r\\n\\r\\n<b><!--\\r\\n</b>if (window!= top)\\r\\nto...  \n",
       "3     ABSOLUTE POWER\\r\\n\\r\\n      Written by\\r\\n    ...  \n",
       "4     \\t\\t\\r\\n\\r\\n       T H E   W O R L D   I S   N...  \n",
       "...                                                 ...  \n",
       "1172  \\r\\n\\r\\n\\r\\n                                  ...  \n",
       "1173  \\r\\n\\r\\n\\r\\n<b><!--\\r\\n</b>if (window!= top)\\r...  \n",
       "1174  \\r\\n\\r\\n\\r\\n<b><!--\\r\\n</b>if (window!= top)\\r...  \n",
       "1175  \\r\\n\\r\\n\\r\\n                                  ...  \n",
       "1176  \\r\\n\\r\\n\\r\\n\\r\\n                              ...  \n",
       "\n",
       "[1177 rows x 2 columns]"
      ]
     },
     "execution_count": 15,
     "metadata": {},
     "output_type": "execute_result"
    }
   ],
   "source": [
    "df_scripts"
   ]
  },
  {
   "cell_type": "code",
   "execution_count": 16,
   "metadata": {},
   "outputs": [],
   "source": [
    "#print(dataset_scripts.iloc[0]['script_text'][-1])"
   ]
  },
  {
   "cell_type": "markdown",
   "metadata": {},
   "source": [
    "TODO\n",
    "GOAL extract the following features from texts:\n",
    "\n",
    "Feature engineering TODO list: \n",
    "- location: Named Entity Recognition\n",
    "- character: Named Entity Recognition\n",
    "    see https://keras.io/examples/nlp/ner_transformers/\n",
    "    see https://towardsdatascience.com/named-entity-recognition-ner-using-keras-bidirectional-lstm-28cd3f301f54\n",
    "- convo: ??\n",
    "\n",
    "sentence embedding?"
   ]
  },
  {
   "cell_type": "markdown",
   "metadata": {},
   "source": [
    "## Feature Engineering"
   ]
  },
  {
   "cell_type": "code",
   "execution_count": 17,
   "metadata": {},
   "outputs": [],
   "source": [
    "def str_normalize_eol(s, eol=os.linesep):\n",
    "    return str.join(eol, str.splitlines(s))"
   ]
  },
  {
   "cell_type": "code",
   "execution_count": 18,
   "metadata": {},
   "outputs": [],
   "source": [
    "%package joblib\n",
    "\n",
    "import os\n",
    "import re\n",
    "\n",
    "import joblib\n",
    "\n",
    "class ParagraphExtractor(skl.base.TransformerMixin):\n",
    "    def __init__(self,\n",
    "        eol=os.linesep,\n",
    "        eol_freq_min=2,\n",
    "        n_jobs=1\n",
    "    ):\n",
    "        self.eol = eol\n",
    "        self.eol_freq_min = eol_freq_min\n",
    "        self.n_jobs = n_jobs\n",
    "\n",
    "        self._pattern = re.compile(\n",
    "            fr'(?:{self.eol}\\s*?){{{self.eol_freq_min},}}'\n",
    "        )\n",
    "\n",
    "    def fit(self, _X, _y=None):\n",
    "        return self\n",
    "\n",
    "    def transform(self, X, _y=None):\n",
    "        def _impl_single(s):\n",
    "            nonlocal self\n",
    "            return re.split(\n",
    "                self._pattern,\n",
    "                str_normalize_eol(s, eol=self.eol)\n",
    "            )\n",
    "\n",
    "        return joblib.Parallel(n_jobs=self.n_jobs)(\n",
    "            joblib.delayed(_impl_single)(s)\n",
    "                for s in X\n",
    "        )\n",
    "\n",
    "        \n",
    "df_scripts['script_paragraphs'] = ParagraphExtractor(n_jobs=-1).fit_transform(\n",
    "    df_scripts['script_text']#.iloc[:100]\n",
    ")"
   ]
  },
  {
   "cell_type": "code",
   "execution_count": 19,
   "metadata": {},
   "outputs": [],
   "source": [
    "df_scripts_para = (\n",
    "    df_scripts[['script_name', 'script_paragraphs']]\n",
    "        .explode('script_paragraphs', ignore_index=True)\n",
    ")"
   ]
  },
  {
   "cell_type": "code",
   "execution_count": 20,
   "metadata": {},
   "outputs": [],
   "source": [
    "df_scripts_para['script_paragraphs'] = (\n",
    "    df_scripts_para['script_paragraphs'].str.strip()\n",
    ")"
   ]
  },
  {
   "cell_type": "code",
   "execution_count": 21,
   "metadata": {},
   "outputs": [],
   "source": [
    "df_scripts_para = df_scripts_para[\n",
    "    # non-empty strings\n",
    "    df_scripts_para['script_paragraphs'].astype(bool)\n",
    "]"
   ]
  },
  {
   "cell_type": "code",
   "execution_count": 22,
   "metadata": {},
   "outputs": [],
   "source": [
    "df_scripts_para['script_name'] = (\n",
    "    df_scripts_para['script_name']\n",
    "        .cat.remove_unused_categories()\n",
    ")"
   ]
  },
  {
   "cell_type": "code",
   "execution_count": 23,
   "metadata": {},
   "outputs": [
    {
     "data": {
      "text/html": [
       "<div>\n",
       "<style scoped>\n",
       "    .dataframe tbody tr th:only-of-type {\n",
       "        vertical-align: middle;\n",
       "    }\n",
       "\n",
       "    .dataframe tbody tr th {\n",
       "        vertical-align: top;\n",
       "    }\n",
       "\n",
       "    .dataframe thead th {\n",
       "        text-align: right;\n",
       "    }\n",
       "</style>\n",
       "<table border=\"1\" class=\"dataframe\">\n",
       "  <thead>\n",
       "    <tr style=\"text-align: right;\">\n",
       "      <th></th>\n",
       "      <th>script_name</th>\n",
       "      <th>script_paragraphs</th>\n",
       "    </tr>\n",
       "  </thead>\n",
       "  <tbody>\n",
       "    <tr>\n",
       "      <th>1</th>\n",
       "      <td>No Country for Old Men Script</td>\n",
       "      <td>NO COUNTRY FOR OLD MEN</td>\n",
       "    </tr>\n",
       "    <tr>\n",
       "      <th>2</th>\n",
       "      <td>No Country for Old Men Script</td>\n",
       "      <td>Written by</td>\n",
       "    </tr>\n",
       "    <tr>\n",
       "      <th>3</th>\n",
       "      <td>No Country for Old Men Script</td>\n",
       "      <td>Joel Coen &amp; Ethan Coen</td>\n",
       "    </tr>\n",
       "    <tr>\n",
       "      <th>4</th>\n",
       "      <td>No Country for Old Men Script</td>\n",
       "      <td>Based on the Novel by</td>\n",
       "    </tr>\n",
       "    <tr>\n",
       "      <th>5</th>\n",
       "      <td>No Country for Old Men Script</td>\n",
       "      <td>Cormac McCarthy</td>\n",
       "    </tr>\n",
       "    <tr>\n",
       "      <th>...</th>\n",
       "      <td>...</td>\n",
       "      <td>...</td>\n",
       "    </tr>\n",
       "    <tr>\n",
       "      <th>1999877</th>\n",
       "      <td>Get Carter Script</td>\n",
       "      <td>Carter lies on the beach. The waves lap around...</td>\n",
       "    </tr>\n",
       "    <tr>\n",
       "      <th>1999878</th>\n",
       "      <td>Get Carter Script</td>\n",
       "      <td>EXT. CLIFF TOP - EARLY MORNING</td>\n",
       "    </tr>\n",
       "    <tr>\n",
       "      <th>1999879</th>\n",
       "      <td>Get Carter Script</td>\n",
       "      <td>Kinnear's hit man coolly dismantles his rifle....</td>\n",
       "    </tr>\n",
       "    <tr>\n",
       "      <th>1999880</th>\n",
       "      <td>Get Carter Script</td>\n",
       "      <td>FADE OUT:</td>\n",
       "    </tr>\n",
       "    <tr>\n",
       "      <th>1999881</th>\n",
       "      <td>Get Carter Script</td>\n",
       "      <td>THE END</td>\n",
       "    </tr>\n",
       "  </tbody>\n",
       "</table>\n",
       "<p>1905869 rows × 2 columns</p>\n",
       "</div>"
      ],
      "text/plain": [
       "                           script_name  \\\n",
       "1        No Country for Old Men Script   \n",
       "2        No Country for Old Men Script   \n",
       "3        No Country for Old Men Script   \n",
       "4        No Country for Old Men Script   \n",
       "5        No Country for Old Men Script   \n",
       "...                                ...   \n",
       "1999877              Get Carter Script   \n",
       "1999878              Get Carter Script   \n",
       "1999879              Get Carter Script   \n",
       "1999880              Get Carter Script   \n",
       "1999881              Get Carter Script   \n",
       "\n",
       "                                         script_paragraphs  \n",
       "1                                   NO COUNTRY FOR OLD MEN  \n",
       "2                                               Written by  \n",
       "3                                   Joel Coen & Ethan Coen  \n",
       "4                                    Based on the Novel by  \n",
       "5                                          Cormac McCarthy  \n",
       "...                                                    ...  \n",
       "1999877  Carter lies on the beach. The waves lap around...  \n",
       "1999878                     EXT. CLIFF TOP - EARLY MORNING  \n",
       "1999879  Kinnear's hit man coolly dismantles his rifle....  \n",
       "1999880                                          FADE OUT:  \n",
       "1999881                                            THE END  \n",
       "\n",
       "[1905869 rows x 2 columns]"
      ]
     },
     "execution_count": 23,
     "metadata": {},
     "output_type": "execute_result"
    }
   ],
   "source": [
    "df_scripts_para"
   ]
  },
  {
   "cell_type": "code",
   "execution_count": 24,
   "metadata": {},
   "outputs": [],
   "source": [
    "# TODO rm\n",
    "#df_scripts['script_paragraphs'].iloc[0][:20]"
   ]
  },
  {
   "cell_type": "code",
   "execution_count": 25,
   "metadata": {},
   "outputs": [],
   "source": [
    "df_n_paras = df_scripts_para.groupby('script_name').count()"
   ]
  },
  {
   "cell_type": "code",
   "execution_count": 26,
   "metadata": {},
   "outputs": [
    {
     "data": {
      "text/html": [
       "<div>\n",
       "<style scoped>\n",
       "    .dataframe tbody tr th:only-of-type {\n",
       "        vertical-align: middle;\n",
       "    }\n",
       "\n",
       "    .dataframe tbody tr th {\n",
       "        vertical-align: top;\n",
       "    }\n",
       "\n",
       "    .dataframe thead th {\n",
       "        text-align: right;\n",
       "    }\n",
       "</style>\n",
       "<table border=\"1\" class=\"dataframe\">\n",
       "  <thead>\n",
       "    <tr style=\"text-align: right;\">\n",
       "      <th></th>\n",
       "      <th>script_paragraphs</th>\n",
       "    </tr>\n",
       "    <tr>\n",
       "      <th>script_name</th>\n",
       "      <th></th>\n",
       "    </tr>\n",
       "  </thead>\n",
       "  <tbody>\n",
       "    <tr>\n",
       "      <th>Ace Ventura: Pet Detective Script</th>\n",
       "      <td>3</td>\n",
       "    </tr>\n",
       "    <tr>\n",
       "      <th>American Outlaws Script</th>\n",
       "      <td>1</td>\n",
       "    </tr>\n",
       "    <tr>\n",
       "      <th>Days of Heaven Script</th>\n",
       "      <td>2</td>\n",
       "    </tr>\n",
       "    <tr>\n",
       "      <th>Erik the Viking Script</th>\n",
       "      <td>3</td>\n",
       "    </tr>\n",
       "    <tr>\n",
       "      <th>Fletch Script</th>\n",
       "      <td>2</td>\n",
       "    </tr>\n",
       "    <tr>\n",
       "      <th>Four Feathers Script</th>\n",
       "      <td>8</td>\n",
       "    </tr>\n",
       "    <tr>\n",
       "      <th>Highlander: Endgame Script</th>\n",
       "      <td>4</td>\n",
       "    </tr>\n",
       "    <tr>\n",
       "      <th>Made Script</th>\n",
       "      <td>1</td>\n",
       "    </tr>\n",
       "    <tr>\n",
       "      <th>Never Been Kissed Script</th>\n",
       "      <td>6</td>\n",
       "    </tr>\n",
       "    <tr>\n",
       "      <th>Neverending Story, The Script</th>\n",
       "      <td>1</td>\n",
       "    </tr>\n",
       "    <tr>\n",
       "      <th>Omega Man Script</th>\n",
       "      <td>4</td>\n",
       "    </tr>\n",
       "    <tr>\n",
       "      <th>They Script</th>\n",
       "      <td>5</td>\n",
       "    </tr>\n",
       "    <tr>\n",
       "      <th>Training Day Script</th>\n",
       "      <td>1</td>\n",
       "    </tr>\n",
       "  </tbody>\n",
       "</table>\n",
       "</div>"
      ],
      "text/plain": [
       "                                   script_paragraphs\n",
       "script_name                                         \n",
       "Ace Ventura: Pet Detective Script                  3\n",
       "American Outlaws Script                            1\n",
       "Days of Heaven Script                              2\n",
       "Erik the Viking Script                             3\n",
       "Fletch Script                                      2\n",
       "Four Feathers Script                               8\n",
       "Highlander: Endgame Script                         4\n",
       "Made Script                                        1\n",
       "Never Been Kissed Script                           6\n",
       "Neverending Story, The Script                      1\n",
       "Omega Man Script                                   4\n",
       "They Script                                        5\n",
       "Training Day Script                                1"
      ]
     },
     "execution_count": 26,
     "metadata": {},
     "output_type": "execute_result"
    }
   ],
   "source": [
    "df_n_paras[df_n_paras['script_paragraphs'] < 10]"
   ]
  },
  {
   "cell_type": "code",
   "execution_count": 27,
   "metadata": {},
   "outputs": [
    {
     "data": {
      "text/html": [
       "<div>\n",
       "<style scoped>\n",
       "    .dataframe tbody tr th:only-of-type {\n",
       "        vertical-align: middle;\n",
       "    }\n",
       "\n",
       "    .dataframe tbody tr th {\n",
       "        vertical-align: top;\n",
       "    }\n",
       "\n",
       "    .dataframe thead th {\n",
       "        text-align: right;\n",
       "    }\n",
       "</style>\n",
       "<table border=\"1\" class=\"dataframe\">\n",
       "  <thead>\n",
       "    <tr style=\"text-align: right;\">\n",
       "      <th></th>\n",
       "      <th>script_name</th>\n",
       "      <th>script_paragraphs</th>\n",
       "    </tr>\n",
       "  </thead>\n",
       "  <tbody>\n",
       "    <tr>\n",
       "      <th>370547</th>\n",
       "      <td>Four Feathers Script</td>\n",
       "      <td>\"Four Feathers\" -- by Michael Schiffer, revise...</td>\n",
       "    </tr>\n",
       "    <tr>\n",
       "      <th>370548</th>\n",
       "      <td>Four Feathers Script</td>\n",
       "      <td>&lt;b&gt;&lt;!--\\n&lt;/b&gt;if (window!= top)\\ntop.location.h...</td>\n",
       "    </tr>\n",
       "    <tr>\n",
       "      <th>370549</th>\n",
       "      <td>Four Feathers Script</td>\n",
       "      <td>Four Feathers\\nScreenplay by Michael Schiffer\\...</td>\n",
       "    </tr>\n",
       "    <tr>\n",
       "      <th>370550</th>\n",
       "      <td>Four Feathers Script</td>\n",
       "      <td>EXT. TRAINING GROUND/ WESTMINSTER barracks/ LO...</td>\n",
       "    </tr>\n",
       "    <tr>\n",
       "      <th>370551</th>\n",
       "      <td>Four Feathers Script</td>\n",
       "      <td>COLONEL SUTCH\\nThrow them away. They don't mea...</td>\n",
       "    </tr>\n",
       "    <tr>\n",
       "      <th>370552</th>\n",
       "      <td>Four Feathers Script</td>\n",
       "      <td>- THE CHAPEL: is filled with MILITARY MEN; Fev...</td>\n",
       "    </tr>\n",
       "    <tr>\n",
       "      <th>370553</th>\n",
       "      <td>Four Feathers Script</td>\n",
       "      <td>CUT TO:\\nEXT. CHURCH - AFTER CEREMONY         ...</td>\n",
       "    </tr>\n",
       "    <tr>\n",
       "      <th>370554</th>\n",
       "      <td>Four Feathers Script</td>\n",
       "      <td>THE END.</td>\n",
       "    </tr>\n",
       "    <tr>\n",
       "      <th>407261</th>\n",
       "      <td>Training Day Script</td>\n",
       "      <td>\"Training Day\" -- by David Ayer               ...</td>\n",
       "    </tr>\n",
       "    <tr>\n",
       "      <th>540920</th>\n",
       "      <td>Never Been Kissed Script</td>\n",
       "      <td>\"Never Been Kissed\"</td>\n",
       "    </tr>\n",
       "    <tr>\n",
       "      <th>540921</th>\n",
       "      <td>Never Been Kissed Script</td>\n",
       "      <td>&lt;b&gt;&lt;!--\\n&lt;/b&gt;if (window!= top)\\ntop.location.h...</td>\n",
       "    </tr>\n",
       "    <tr>\n",
       "      <th>540922</th>\n",
       "      <td>Never Been Kissed Script</td>\n",
       "      <td>NEVER BEEN KISSED\\nRevised Draft by Jenny Bick...</td>\n",
       "    </tr>\n",
       "    <tr>\n",
       "      <th>540924</th>\n",
       "      <td>Never Been Kissed Script</td>\n",
       "      <td>Never Been Kissed\\n\\t    Writers :   Jerry Bic...</td>\n",
       "    </tr>\n",
       "    <tr>\n",
       "      <th>540925</th>\n",
       "      <td>Never Been Kissed Script</td>\n",
       "      <td>User Comments</td>\n",
       "    </tr>\n",
       "    <tr>\n",
       "      <th>540926</th>\n",
       "      <td>Never Been Kissed Script</td>\n",
       "      <td>Back to IMSDb</td>\n",
       "    </tr>\n",
       "    <tr>\n",
       "      <th>725801</th>\n",
       "      <td>Fletch Script</td>\n",
       "      <td>Fletch - by Phil Alden Robinson from a draft b...</td>\n",
       "    </tr>\n",
       "    <tr>\n",
       "      <th>725802</th>\n",
       "      <td>Fletch Script</td>\n",
       "      <td>&lt;b&gt; \\n&lt;/b&gt;body{\\n\\tfont-family: \"Courier New\",...</td>\n",
       "    </tr>\n",
       "    <tr>\n",
       "      <th>808805</th>\n",
       "      <td>Erik the Viking Script</td>\n",
       "      <td>Erik the Viking</td>\n",
       "    </tr>\n",
       "    <tr>\n",
       "      <th>808806</th>\n",
       "      <td>Erik the Viking Script</td>\n",
       "      <td>&lt;b&gt;&lt;!--\\n&lt;/b&gt;if (window!= top)\\ntop.location.h...</td>\n",
       "    </tr>\n",
       "    <tr>\n",
       "      <th>808807</th>\n",
       "      <td>Erik the Viking Script</td>\n",
       "      <td>ERIK THE VIKING - Terry Jones ---------------\\...</td>\n",
       "    </tr>\n",
       "    <tr>\n",
       "      <th>1007006</th>\n",
       "      <td>Omega Man Script</td>\n",
       "      <td>document.isTrellix = 1;</td>\n",
       "    </tr>\n",
       "    <tr>\n",
       "      <th>1007007</th>\n",
       "      <td>Omega Man Script</td>\n",
       "      <td>Omega Man Script</td>\n",
       "    </tr>\n",
       "    <tr>\n",
       "      <th>1007008</th>\n",
       "      <td>Omega Man Script</td>\n",
       "      <td>&lt;b&gt;&lt;!--\\n&lt;/b&gt;// Cache-busting LUBID bug.\\nvar ...</td>\n",
       "    </tr>\n",
       "    <tr>\n",
       "      <th>1007012</th>\n",
       "      <td>Omega Man Script</td>\n",
       "      <td>E-mail this page to a friend\\n\\tTell me when t...</td>\n",
       "    </tr>\n",
       "    <tr>\n",
       "      <th>1048165</th>\n",
       "      <td>They Script</td>\n",
       "      <td>THEY</td>\n",
       "    </tr>\n",
       "    <tr>\n",
       "      <th>1048166</th>\n",
       "      <td>They Script</td>\n",
       "      <td>@font-face {\\n\\tfont-family: Courier;\\n&lt;b&gt;}\\n&lt;...</td>\n",
       "    </tr>\n",
       "    <tr>\n",
       "      <th>1048167</th>\n",
       "      <td>They Script</td>\n",
       "      <td>THEY\\n&lt;![if !supportEmptyParas]&gt;&lt;![endif]&gt; \\nF...</td>\n",
       "    </tr>\n",
       "    <tr>\n",
       "      <th>1048168</th>\n",
       "      <td>They Script</td>\n",
       "      <td>WELCOME TO THE FOUNDER'S DAY FAIR\\nINT. LIBRAR...</td>\n",
       "    </tr>\n",
       "    <tr>\n",
       "      <th>1048169</th>\n",
       "      <td>They Script</td>\n",
       "      <td>She squeezes \\nher finger to help numb the pai...</td>\n",
       "    </tr>\n",
       "    <tr>\n",
       "      <th>1198568</th>\n",
       "      <td>Made Script</td>\n",
       "      <td>\"Made\" -- by Jon Favreau                      ...</td>\n",
       "    </tr>\n",
       "    <tr>\n",
       "      <th>1544381</th>\n",
       "      <td>Days of Heaven Script</td>\n",
       "      <td>&lt;b&gt;&lt;!--\\n&lt;/b&gt;if (window!= top)\\ntop.location.h...</td>\n",
       "    </tr>\n",
       "    <tr>\n",
       "      <th>1544382</th>\n",
       "      <td>Days of Heaven Script</td>\n",
       "      <td>DAYS OF HEAVEN\"\\nby Terry Malick\\nREVISED: 6/2...</td>\n",
       "    </tr>\n",
       "    <tr>\n",
       "      <th>1599460</th>\n",
       "      <td>Highlander: Endgame Script</td>\n",
       "      <td>\"HIGHLANDER IV: WORLD WITHOUT END\" -- Draft 9/...</td>\n",
       "    </tr>\n",
       "    <tr>\n",
       "      <th>1599461</th>\n",
       "      <td>Highlander: Endgame Script</td>\n",
       "      <td>&lt;b&gt;&lt;!--\\n&lt;/b&gt;if (window!= top)\\ntop.location.h...</td>\n",
       "    </tr>\n",
       "    <tr>\n",
       "      <th>1599462</th>\n",
       "      <td>Highlander: Endgame Script</td>\n",
       "      <td>HIGHLANDER IV\\nWORLD WITHOUT END</td>\n",
       "    </tr>\n",
       "    <tr>\n",
       "      <th>1599464</th>\n",
       "      <td>Highlander: Endgame Script</td>\n",
       "      <td>OVER BLACK, A VOICE:\\nVOICE\\nIN THE DAYS BEFOR...</td>\n",
       "    </tr>\n",
       "    <tr>\n",
       "      <th>1631365</th>\n",
       "      <td>Ace Ventura: Pet Detective Script</td>\n",
       "      <td>\"ACE VENTUREA, PET DETECTIVE by Jack Bernstein...</td>\n",
       "    </tr>\n",
       "    <tr>\n",
       "      <th>1631366</th>\n",
       "      <td>Ace Ventura: Pet Detective Script</td>\n",
       "      <td>&lt;b&gt;&lt;!--\\n&lt;/b&gt;if (window!= top)\\ntop.location.h...</td>\n",
       "    </tr>\n",
       "    <tr>\n",
       "      <th>1631367</th>\n",
       "      <td>Ace Ventura: Pet Detective Script</td>\n",
       "      <td>ACE VENTURA\\nPET DETECTIVE\\nWritten by\\nJack B...</td>\n",
       "    </tr>\n",
       "    <tr>\n",
       "      <th>1857221</th>\n",
       "      <td>Neverending Story, The Script</td>\n",
       "      <td>Script</td>\n",
       "    </tr>\n",
       "    <tr>\n",
       "      <th>1935948</th>\n",
       "      <td>American Outlaws Script</td>\n",
       "      <td>\"American Outlaws\" -- by Roderick Taylor and J...</td>\n",
       "    </tr>\n",
       "  </tbody>\n",
       "</table>\n",
       "</div>"
      ],
      "text/plain": [
       "                               script_name  \\\n",
       "370547                Four Feathers Script   \n",
       "370548                Four Feathers Script   \n",
       "370549                Four Feathers Script   \n",
       "370550                Four Feathers Script   \n",
       "370551                Four Feathers Script   \n",
       "370552                Four Feathers Script   \n",
       "370553                Four Feathers Script   \n",
       "370554                Four Feathers Script   \n",
       "407261                 Training Day Script   \n",
       "540920            Never Been Kissed Script   \n",
       "540921            Never Been Kissed Script   \n",
       "540922            Never Been Kissed Script   \n",
       "540924            Never Been Kissed Script   \n",
       "540925            Never Been Kissed Script   \n",
       "540926            Never Been Kissed Script   \n",
       "725801                       Fletch Script   \n",
       "725802                       Fletch Script   \n",
       "808805              Erik the Viking Script   \n",
       "808806              Erik the Viking Script   \n",
       "808807              Erik the Viking Script   \n",
       "1007006                   Omega Man Script   \n",
       "1007007                   Omega Man Script   \n",
       "1007008                   Omega Man Script   \n",
       "1007012                   Omega Man Script   \n",
       "1048165                        They Script   \n",
       "1048166                        They Script   \n",
       "1048167                        They Script   \n",
       "1048168                        They Script   \n",
       "1048169                        They Script   \n",
       "1198568                        Made Script   \n",
       "1544381              Days of Heaven Script   \n",
       "1544382              Days of Heaven Script   \n",
       "1599460         Highlander: Endgame Script   \n",
       "1599461         Highlander: Endgame Script   \n",
       "1599462         Highlander: Endgame Script   \n",
       "1599464         Highlander: Endgame Script   \n",
       "1631365  Ace Ventura: Pet Detective Script   \n",
       "1631366  Ace Ventura: Pet Detective Script   \n",
       "1631367  Ace Ventura: Pet Detective Script   \n",
       "1857221      Neverending Story, The Script   \n",
       "1935948            American Outlaws Script   \n",
       "\n",
       "                                         script_paragraphs  \n",
       "370547   \"Four Feathers\" -- by Michael Schiffer, revise...  \n",
       "370548   <b><!--\\n</b>if (window!= top)\\ntop.location.h...  \n",
       "370549   Four Feathers\\nScreenplay by Michael Schiffer\\...  \n",
       "370550   EXT. TRAINING GROUND/ WESTMINSTER barracks/ LO...  \n",
       "370551   COLONEL SUTCH\\nThrow them away. They don't mea...  \n",
       "370552   - THE CHAPEL: is filled with MILITARY MEN; Fev...  \n",
       "370553   CUT TO:\\nEXT. CHURCH - AFTER CEREMONY         ...  \n",
       "370554                                            THE END.  \n",
       "407261   \"Training Day\" -- by David Ayer               ...  \n",
       "540920                                 \"Never Been Kissed\"  \n",
       "540921   <b><!--\\n</b>if (window!= top)\\ntop.location.h...  \n",
       "540922   NEVER BEEN KISSED\\nRevised Draft by Jenny Bick...  \n",
       "540924   Never Been Kissed\\n\\t    Writers :   Jerry Bic...  \n",
       "540925                                       User Comments  \n",
       "540926                                       Back to IMSDb  \n",
       "725801   Fletch - by Phil Alden Robinson from a draft b...  \n",
       "725802   <b> \\n</b>body{\\n\\tfont-family: \"Courier New\",...  \n",
       "808805                                     Erik the Viking  \n",
       "808806   <b><!--\\n</b>if (window!= top)\\ntop.location.h...  \n",
       "808807   ERIK THE VIKING - Terry Jones ---------------\\...  \n",
       "1007006                            document.isTrellix = 1;  \n",
       "1007007                                   Omega Man Script  \n",
       "1007008  <b><!--\\n</b>// Cache-busting LUBID bug.\\nvar ...  \n",
       "1007012  E-mail this page to a friend\\n\\tTell me when t...  \n",
       "1048165                                               THEY  \n",
       "1048166  @font-face {\\n\\tfont-family: Courier;\\n<b>}\\n<...  \n",
       "1048167  THEY\\n<![if !supportEmptyParas]><![endif]> \\nF...  \n",
       "1048168  WELCOME TO THE FOUNDER'S DAY FAIR\\nINT. LIBRAR...  \n",
       "1048169  She squeezes \\nher finger to help numb the pai...  \n",
       "1198568  \"Made\" -- by Jon Favreau                      ...  \n",
       "1544381  <b><!--\\n</b>if (window!= top)\\ntop.location.h...  \n",
       "1544382  DAYS OF HEAVEN\"\\nby Terry Malick\\nREVISED: 6/2...  \n",
       "1599460  \"HIGHLANDER IV: WORLD WITHOUT END\" -- Draft 9/...  \n",
       "1599461  <b><!--\\n</b>if (window!= top)\\ntop.location.h...  \n",
       "1599462                   HIGHLANDER IV\\nWORLD WITHOUT END  \n",
       "1599464  OVER BLACK, A VOICE:\\nVOICE\\nIN THE DAYS BEFOR...  \n",
       "1631365  \"ACE VENTUREA, PET DETECTIVE by Jack Bernstein...  \n",
       "1631366  <b><!--\\n</b>if (window!= top)\\ntop.location.h...  \n",
       "1631367  ACE VENTURA\\nPET DETECTIVE\\nWritten by\\nJack B...  \n",
       "1857221                                             Script  \n",
       "1935948  \"American Outlaws\" -- by Roderick Taylor and J...  "
      ]
     },
     "execution_count": 27,
     "metadata": {},
     "output_type": "execute_result"
    }
   ],
   "source": [
    "# TODO treat these samples separately\n",
    "# e.g. those without line breaks between paragraphs \n",
    "# (so only one line break after each para)\n",
    "\n",
    "df_scripts_outliers = df_scripts_para[\n",
    "    df_scripts_para['script_name'].isin(\n",
    "        df_n_paras[df_n_paras['script_paragraphs'] < 10].index\n",
    "    )\n",
    "]\n",
    "df_scripts_outliers"
   ]
  },
  {
   "cell_type": "code",
   "execution_count": 28,
   "metadata": {},
   "outputs": [
    {
     "data": {
      "text/plain": [
       "'Four Feathers\\nScreenplay by Michael Schiffer\\nrevised by Hossein Amini\\nbased on the book by A.E. Mason'"
      ]
     },
     "execution_count": 28,
     "metadata": {},
     "output_type": "execute_result"
    }
   ],
   "source": [
    "df_scripts_outliers.loc[370549]['script_paragraphs']"
   ]
  },
  {
   "cell_type": "code",
   "execution_count": 29,
   "metadata": {},
   "outputs": [],
   "source": [
    "# TODO lxml to parse html\n",
    "#print(df_scripts[df_scripts['script_name'] == 'They Script'].iloc[0]['script_text'][:10000])"
   ]
  },
  {
   "cell_type": "code",
   "execution_count": 30,
   "metadata": {},
   "outputs": [
    {
     "data": {
      "image/svg+xml": "<?xml version=\"1.0\" encoding=\"utf-8\" standalone=\"no\"?>\n<!DOCTYPE svg PUBLIC \"-//W3C//DTD SVG 1.1//EN\"\n  \"http://www.w3.org/Graphics/SVG/1.1/DTD/svg11.dtd\">\n<svg height=\"299.797204pt\" version=\"1.1\" viewBox=\"0 0 411.285625 299.797204\" width=\"411.285625pt\" xmlns=\"http://www.w3.org/2000/svg\" xmlns:xlink=\"http://www.w3.org/1999/xlink\">\n <metadata>\n  <rdf:RDF xmlns:cc=\"http://creativecommons.org/ns#\" xmlns:dc=\"http://purl.org/dc/elements/1.1/\" xmlns:rdf=\"http://www.w3.org/1999/02/22-rdf-syntax-ns#\">\n   <cc:Work>\n    <dc:type rdf:resource=\"http://purl.org/dc/dcmitype/StillImage\"/>\n    <dc:date>2022-12-03T05:16:40.601477</dc:date>\n    <dc:format>image/svg+xml</dc:format>\n    <dc:creator>\n     <cc:Agent>\n      <dc:title>Matplotlib v3.4.2, https://matplotlib.org/</dc:title>\n     </cc:Agent>\n    </dc:creator>\n   </cc:Work>\n  </rdf:RDF>\n </metadata>\n <defs>\n  <style type=\"text/css\">*{stroke-linecap:butt;stroke-linejoin:round;}</style>\n </defs>\n <g id=\"figure_1\">\n  <g id=\"patch_1\">\n   <path d=\"M 0 299.797204 \nL 411.285625 299.797204 \nL 411.285625 0 \nL 0 0 \nz\n\" style=\"fill:#ffffff;\"/>\n  </g>\n  <g id=\"axes_1\">\n   <g id=\"patch_2\">\n    <path d=\"M 46.965625 275.919079 \nL 404.085625 275.919079 \nL 404.085625 9.807079 \nL 46.965625 9.807079 \nz\n\" style=\"fill:#ffffff;\"/>\n   </g>\n   <g id=\"patch_3\">\n    <path clip-path=\"url(#p1e97979b08)\" d=\"M 63.198352 275.919079 \nL 95.663807 275.919079 \nL 95.663807 255.167024 \nL 63.198352 255.167024 \nz\n\" style=\"fill:#1f77b4;\"/>\n   </g>\n   <g id=\"patch_4\">\n    <path clip-path=\"url(#p1e97979b08)\" d=\"M 95.663807 275.919079 \nL 128.129261 275.919079 \nL 128.129261 252.076292 \nL 95.663807 252.076292 \nz\n\" style=\"fill:#1f77b4;\"/>\n   </g>\n   <g id=\"patch_5\">\n    <path clip-path=\"url(#p1e97979b08)\" d=\"M 128.129261 275.919079 \nL 160.594716 275.919079 \nL 160.594716 150.082146 \nL 128.129261 150.082146 \nz\n\" style=\"fill:#1f77b4;\"/>\n   </g>\n   <g id=\"patch_6\">\n    <path clip-path=\"url(#p1e97979b08)\" d=\"M 160.594716 275.919079 \nL 193.06017 275.919079 \nL 193.06017 22.479079 \nL 160.594716 22.479079 \nz\n\" style=\"fill:#1f77b4;\"/>\n   </g>\n   <g id=\"patch_7\">\n    <path clip-path=\"url(#p1e97979b08)\" d=\"M 193.06017 275.919079 \nL 225.525625 275.919079 \nL 225.525625 217.195177 \nL 193.06017 217.195177 \nz\n\" style=\"fill:#1f77b4;\"/>\n   </g>\n   <g id=\"patch_8\">\n    <path clip-path=\"url(#p1e97979b08)\" d=\"M 225.525625 275.919079 \nL 257.99108 275.919079 \nL 257.99108 266.646884 \nL 225.525625 266.646884 \nz\n\" style=\"fill:#1f77b4;\"/>\n   </g>\n   <g id=\"patch_9\">\n    <path clip-path=\"url(#p1e97979b08)\" d=\"M 257.99108 275.919079 \nL 290.456534 275.919079 \nL 290.456534 273.269881 \nL 257.99108 273.269881 \nz\n\" style=\"fill:#1f77b4;\"/>\n   </g>\n   <g id=\"patch_10\">\n    <path clip-path=\"url(#p1e97979b08)\" d=\"M 290.456534 275.919079 \nL 322.921989 275.919079 \nL 322.921989 274.59448 \nL 290.456534 274.59448 \nz\n\" style=\"fill:#1f77b4;\"/>\n   </g>\n   <g id=\"patch_11\">\n    <path clip-path=\"url(#p1e97979b08)\" d=\"M 322.921989 275.919079 \nL 355.387443 275.919079 \nL 355.387443 275.036013 \nL 322.921989 275.036013 \nz\n\" style=\"fill:#1f77b4;\"/>\n   </g>\n   <g id=\"patch_12\">\n    <path clip-path=\"url(#p1e97979b08)\" d=\"M 355.387443 275.919079 \nL 387.852898 275.919079 \nL 387.852898 275.477546 \nL 355.387443 275.477546 \nz\n\" style=\"fill:#1f77b4;\"/>\n   </g>\n   <g id=\"matplotlib.axis_1\">\n    <g id=\"xtick_1\">\n     <g id=\"line2d_1\">\n      <defs>\n       <path d=\"M 0 0 \nL 0 3.5 \n\" id=\"m2cd16bfb48\" style=\"stroke:#000000;stroke-width:0.8;\"/>\n      </defs>\n      <g>\n       <use style=\"stroke:#000000;stroke-width:0.8;\" x=\"63.136701\" xlink:href=\"#m2cd16bfb48\" y=\"275.919079\"/>\n      </g>\n     </g>\n     <g id=\"text_1\">\n      <!-- 0 -->\n      <g transform=\"translate(59.955451 290.517517)scale(0.1 -0.1)\">\n       <defs>\n        <path d=\"M 2034 4250 \nQ 1547 4250 1301 3770 \nQ 1056 3291 1056 2328 \nQ 1056 1369 1301 889 \nQ 1547 409 2034 409 \nQ 2525 409 2770 889 \nQ 3016 1369 3016 2328 \nQ 3016 3291 2770 3770 \nQ 2525 4250 2034 4250 \nz\nM 2034 4750 \nQ 2819 4750 3233 4129 \nQ 3647 3509 3647 2328 \nQ 3647 1150 3233 529 \nQ 2819 -91 2034 -91 \nQ 1250 -91 836 529 \nQ 422 1150 422 2328 \nQ 422 3509 836 4129 \nQ 1250 4750 2034 4750 \nz\n\" id=\"DejaVuSans-30\" transform=\"scale(0.015625)\"/>\n       </defs>\n       <use xlink:href=\"#DejaVuSans-30\"/>\n      </g>\n     </g>\n    </g>\n    <g id=\"xtick_2\">\n     <g id=\"line2d_2\">\n      <g>\n       <use style=\"stroke:#000000;stroke-width:0.8;\" x=\"124.787773\" xlink:href=\"#m2cd16bfb48\" y=\"275.919079\"/>\n      </g>\n     </g>\n     <g id=\"text_2\">\n      <!-- 1000 -->\n      <g transform=\"translate(112.062773 290.517517)scale(0.1 -0.1)\">\n       <defs>\n        <path d=\"M 794 531 \nL 1825 531 \nL 1825 4091 \nL 703 3866 \nL 703 4441 \nL 1819 4666 \nL 2450 4666 \nL 2450 531 \nL 3481 531 \nL 3481 0 \nL 794 0 \nL 794 531 \nz\n\" id=\"DejaVuSans-31\" transform=\"scale(0.015625)\"/>\n       </defs>\n       <use xlink:href=\"#DejaVuSans-31\"/>\n       <use x=\"63.623047\" xlink:href=\"#DejaVuSans-30\"/>\n       <use x=\"127.246094\" xlink:href=\"#DejaVuSans-30\"/>\n       <use x=\"190.869141\" xlink:href=\"#DejaVuSans-30\"/>\n      </g>\n     </g>\n    </g>\n    <g id=\"xtick_3\">\n     <g id=\"line2d_3\">\n      <g>\n       <use style=\"stroke:#000000;stroke-width:0.8;\" x=\"186.438845\" xlink:href=\"#m2cd16bfb48\" y=\"275.919079\"/>\n      </g>\n     </g>\n     <g id=\"text_3\">\n      <!-- 2000 -->\n      <g transform=\"translate(173.713845 290.517517)scale(0.1 -0.1)\">\n       <defs>\n        <path d=\"M 1228 531 \nL 3431 531 \nL 3431 0 \nL 469 0 \nL 469 531 \nQ 828 903 1448 1529 \nQ 2069 2156 2228 2338 \nQ 2531 2678 2651 2914 \nQ 2772 3150 2772 3378 \nQ 2772 3750 2511 3984 \nQ 2250 4219 1831 4219 \nQ 1534 4219 1204 4116 \nQ 875 4013 500 3803 \nL 500 4441 \nQ 881 4594 1212 4672 \nQ 1544 4750 1819 4750 \nQ 2544 4750 2975 4387 \nQ 3406 4025 3406 3419 \nQ 3406 3131 3298 2873 \nQ 3191 2616 2906 2266 \nQ 2828 2175 2409 1742 \nQ 1991 1309 1228 531 \nz\n\" id=\"DejaVuSans-32\" transform=\"scale(0.015625)\"/>\n       </defs>\n       <use xlink:href=\"#DejaVuSans-32\"/>\n       <use x=\"63.623047\" xlink:href=\"#DejaVuSans-30\"/>\n       <use x=\"127.246094\" xlink:href=\"#DejaVuSans-30\"/>\n       <use x=\"190.869141\" xlink:href=\"#DejaVuSans-30\"/>\n      </g>\n     </g>\n    </g>\n    <g id=\"xtick_4\">\n     <g id=\"line2d_4\">\n      <g>\n       <use style=\"stroke:#000000;stroke-width:0.8;\" x=\"248.089917\" xlink:href=\"#m2cd16bfb48\" y=\"275.919079\"/>\n      </g>\n     </g>\n     <g id=\"text_4\">\n      <!-- 3000 -->\n      <g transform=\"translate(235.364917 290.517517)scale(0.1 -0.1)\">\n       <defs>\n        <path d=\"M 2597 2516 \nQ 3050 2419 3304 2112 \nQ 3559 1806 3559 1356 \nQ 3559 666 3084 287 \nQ 2609 -91 1734 -91 \nQ 1441 -91 1130 -33 \nQ 819 25 488 141 \nL 488 750 \nQ 750 597 1062 519 \nQ 1375 441 1716 441 \nQ 2309 441 2620 675 \nQ 2931 909 2931 1356 \nQ 2931 1769 2642 2001 \nQ 2353 2234 1838 2234 \nL 1294 2234 \nL 1294 2753 \nL 1863 2753 \nQ 2328 2753 2575 2939 \nQ 2822 3125 2822 3475 \nQ 2822 3834 2567 4026 \nQ 2313 4219 1838 4219 \nQ 1578 4219 1281 4162 \nQ 984 4106 628 3988 \nL 628 4550 \nQ 988 4650 1302 4700 \nQ 1616 4750 1894 4750 \nQ 2613 4750 3031 4423 \nQ 3450 4097 3450 3541 \nQ 3450 3153 3228 2886 \nQ 3006 2619 2597 2516 \nz\n\" id=\"DejaVuSans-33\" transform=\"scale(0.015625)\"/>\n       </defs>\n       <use xlink:href=\"#DejaVuSans-33\"/>\n       <use x=\"63.623047\" xlink:href=\"#DejaVuSans-30\"/>\n       <use x=\"127.246094\" xlink:href=\"#DejaVuSans-30\"/>\n       <use x=\"190.869141\" xlink:href=\"#DejaVuSans-30\"/>\n      </g>\n     </g>\n    </g>\n    <g id=\"xtick_5\">\n     <g id=\"line2d_5\">\n      <g>\n       <use style=\"stroke:#000000;stroke-width:0.8;\" x=\"309.740989\" xlink:href=\"#m2cd16bfb48\" y=\"275.919079\"/>\n      </g>\n     </g>\n     <g id=\"text_5\">\n      <!-- 4000 -->\n      <g transform=\"translate(297.015989 290.517517)scale(0.1 -0.1)\">\n       <defs>\n        <path d=\"M 2419 4116 \nL 825 1625 \nL 2419 1625 \nL 2419 4116 \nz\nM 2253 4666 \nL 3047 4666 \nL 3047 1625 \nL 3713 1625 \nL 3713 1100 \nL 3047 1100 \nL 3047 0 \nL 2419 0 \nL 2419 1100 \nL 313 1100 \nL 313 1709 \nL 2253 4666 \nz\n\" id=\"DejaVuSans-34\" transform=\"scale(0.015625)\"/>\n       </defs>\n       <use xlink:href=\"#DejaVuSans-34\"/>\n       <use x=\"63.623047\" xlink:href=\"#DejaVuSans-30\"/>\n       <use x=\"127.246094\" xlink:href=\"#DejaVuSans-30\"/>\n       <use x=\"190.869141\" xlink:href=\"#DejaVuSans-30\"/>\n      </g>\n     </g>\n    </g>\n    <g id=\"xtick_6\">\n     <g id=\"line2d_6\">\n      <g>\n       <use style=\"stroke:#000000;stroke-width:0.8;\" x=\"371.392061\" xlink:href=\"#m2cd16bfb48\" y=\"275.919079\"/>\n      </g>\n     </g>\n     <g id=\"text_6\">\n      <!-- 5000 -->\n      <g transform=\"translate(358.667061 290.517517)scale(0.1 -0.1)\">\n       <defs>\n        <path d=\"M 691 4666 \nL 3169 4666 \nL 3169 4134 \nL 1269 4134 \nL 1269 2991 \nQ 1406 3038 1543 3061 \nQ 1681 3084 1819 3084 \nQ 2600 3084 3056 2656 \nQ 3513 2228 3513 1497 \nQ 3513 744 3044 326 \nQ 2575 -91 1722 -91 \nQ 1428 -91 1123 -41 \nQ 819 9 494 109 \nL 494 744 \nQ 775 591 1075 516 \nQ 1375 441 1709 441 \nQ 2250 441 2565 725 \nQ 2881 1009 2881 1497 \nQ 2881 1984 2565 2268 \nQ 2250 2553 1709 2553 \nQ 1456 2553 1204 2497 \nQ 953 2441 691 2322 \nL 691 4666 \nz\n\" id=\"DejaVuSans-35\" transform=\"scale(0.015625)\"/>\n       </defs>\n       <use xlink:href=\"#DejaVuSans-35\"/>\n       <use x=\"63.623047\" xlink:href=\"#DejaVuSans-30\"/>\n       <use x=\"127.246094\" xlink:href=\"#DejaVuSans-30\"/>\n       <use x=\"190.869141\" xlink:href=\"#DejaVuSans-30\"/>\n      </g>\n     </g>\n    </g>\n   </g>\n   <g id=\"matplotlib.axis_2\">\n    <g id=\"ytick_1\">\n     <g id=\"line2d_7\">\n      <defs>\n       <path d=\"M 0 0 \nL -3.5 0 \n\" id=\"m65f855f545\" style=\"stroke:#000000;stroke-width:0.8;\"/>\n      </defs>\n      <g>\n       <use style=\"stroke:#000000;stroke-width:0.8;\" x=\"46.965625\" xlink:href=\"#m65f855f545\" y=\"275.919079\"/>\n      </g>\n     </g>\n     <g id=\"text_7\">\n      <!-- 0 -->\n      <g transform=\"translate(33.603125 279.718298)scale(0.1 -0.1)\">\n       <use xlink:href=\"#DejaVuSans-30\"/>\n      </g>\n     </g>\n    </g>\n    <g id=\"ytick_2\">\n     <g id=\"line2d_8\">\n      <g>\n       <use style=\"stroke:#000000;stroke-width:0.8;\" x=\"46.965625\" xlink:href=\"#m65f855f545\" y=\"231.765769\"/>\n      </g>\n     </g>\n     <g id=\"text_8\">\n      <!-- 100 -->\n      <g transform=\"translate(20.878125 235.564988)scale(0.1 -0.1)\">\n       <use xlink:href=\"#DejaVuSans-31\"/>\n       <use x=\"63.623047\" xlink:href=\"#DejaVuSans-30\"/>\n       <use x=\"127.246094\" xlink:href=\"#DejaVuSans-30\"/>\n      </g>\n     </g>\n    </g>\n    <g id=\"ytick_3\">\n     <g id=\"line2d_9\">\n      <g>\n       <use style=\"stroke:#000000;stroke-width:0.8;\" x=\"46.965625\" xlink:href=\"#m65f855f545\" y=\"187.612459\"/>\n      </g>\n     </g>\n     <g id=\"text_9\">\n      <!-- 200 -->\n      <g transform=\"translate(20.878125 191.411678)scale(0.1 -0.1)\">\n       <use xlink:href=\"#DejaVuSans-32\"/>\n       <use x=\"63.623047\" xlink:href=\"#DejaVuSans-30\"/>\n       <use x=\"127.246094\" xlink:href=\"#DejaVuSans-30\"/>\n      </g>\n     </g>\n    </g>\n    <g id=\"ytick_4\">\n     <g id=\"line2d_10\">\n      <g>\n       <use style=\"stroke:#000000;stroke-width:0.8;\" x=\"46.965625\" xlink:href=\"#m65f855f545\" y=\"143.459149\"/>\n      </g>\n     </g>\n     <g id=\"text_10\">\n      <!-- 300 -->\n      <g transform=\"translate(20.878125 147.258368)scale(0.1 -0.1)\">\n       <use xlink:href=\"#DejaVuSans-33\"/>\n       <use x=\"63.623047\" xlink:href=\"#DejaVuSans-30\"/>\n       <use x=\"127.246094\" xlink:href=\"#DejaVuSans-30\"/>\n      </g>\n     </g>\n    </g>\n    <g id=\"ytick_5\">\n     <g id=\"line2d_11\">\n      <g>\n       <use style=\"stroke:#000000;stroke-width:0.8;\" x=\"46.965625\" xlink:href=\"#m65f855f545\" y=\"99.305839\"/>\n      </g>\n     </g>\n     <g id=\"text_11\">\n      <!-- 400 -->\n      <g transform=\"translate(20.878125 103.105058)scale(0.1 -0.1)\">\n       <use xlink:href=\"#DejaVuSans-34\"/>\n       <use x=\"63.623047\" xlink:href=\"#DejaVuSans-30\"/>\n       <use x=\"127.246094\" xlink:href=\"#DejaVuSans-30\"/>\n      </g>\n     </g>\n    </g>\n    <g id=\"ytick_6\">\n     <g id=\"line2d_12\">\n      <g>\n       <use style=\"stroke:#000000;stroke-width:0.8;\" x=\"46.965625\" xlink:href=\"#m65f855f545\" y=\"55.152529\"/>\n      </g>\n     </g>\n     <g id=\"text_12\">\n      <!-- 500 -->\n      <g transform=\"translate(20.878125 58.951748)scale(0.1 -0.1)\">\n       <use xlink:href=\"#DejaVuSans-35\"/>\n       <use x=\"63.623047\" xlink:href=\"#DejaVuSans-30\"/>\n       <use x=\"127.246094\" xlink:href=\"#DejaVuSans-30\"/>\n      </g>\n     </g>\n    </g>\n    <g id=\"ytick_7\">\n     <g id=\"line2d_13\">\n      <g>\n       <use style=\"stroke:#000000;stroke-width:0.8;\" x=\"46.965625\" xlink:href=\"#m65f855f545\" y=\"10.999219\"/>\n      </g>\n     </g>\n     <g id=\"text_13\">\n      <!-- 600 -->\n      <g transform=\"translate(20.878125 14.798437)scale(0.1 -0.1)\">\n       <defs>\n        <path d=\"M 2113 2584 \nQ 1688 2584 1439 2293 \nQ 1191 2003 1191 1497 \nQ 1191 994 1439 701 \nQ 1688 409 2113 409 \nQ 2538 409 2786 701 \nQ 3034 994 3034 1497 \nQ 3034 2003 2786 2293 \nQ 2538 2584 2113 2584 \nz\nM 3366 4563 \nL 3366 3988 \nQ 3128 4100 2886 4159 \nQ 2644 4219 2406 4219 \nQ 1781 4219 1451 3797 \nQ 1122 3375 1075 2522 \nQ 1259 2794 1537 2939 \nQ 1816 3084 2150 3084 \nQ 2853 3084 3261 2657 \nQ 3669 2231 3669 1497 \nQ 3669 778 3244 343 \nQ 2819 -91 2113 -91 \nQ 1303 -91 875 529 \nQ 447 1150 447 2328 \nQ 447 3434 972 4092 \nQ 1497 4750 2381 4750 \nQ 2619 4750 2861 4703 \nQ 3103 4656 3366 4563 \nz\n\" id=\"DejaVuSans-36\" transform=\"scale(0.015625)\"/>\n       </defs>\n       <use xlink:href=\"#DejaVuSans-36\"/>\n       <use x=\"63.623047\" xlink:href=\"#DejaVuSans-30\"/>\n       <use x=\"127.246094\" xlink:href=\"#DejaVuSans-30\"/>\n      </g>\n     </g>\n    </g>\n    <g id=\"text_14\">\n     <!-- Frequency -->\n     <g transform=\"translate(14.798438 168.692767)rotate(-90)scale(0.1 -0.1)\">\n      <defs>\n       <path d=\"M 628 4666 \nL 3309 4666 \nL 3309 4134 \nL 1259 4134 \nL 1259 2759 \nL 3109 2759 \nL 3109 2228 \nL 1259 2228 \nL 1259 0 \nL 628 0 \nL 628 4666 \nz\n\" id=\"DejaVuSans-46\" transform=\"scale(0.015625)\"/>\n       <path d=\"M 2631 2963 \nQ 2534 3019 2420 3045 \nQ 2306 3072 2169 3072 \nQ 1681 3072 1420 2755 \nQ 1159 2438 1159 1844 \nL 1159 0 \nL 581 0 \nL 581 3500 \nL 1159 3500 \nL 1159 2956 \nQ 1341 3275 1631 3429 \nQ 1922 3584 2338 3584 \nQ 2397 3584 2469 3576 \nQ 2541 3569 2628 3553 \nL 2631 2963 \nz\n\" id=\"DejaVuSans-72\" transform=\"scale(0.015625)\"/>\n       <path d=\"M 3597 1894 \nL 3597 1613 \nL 953 1613 \nQ 991 1019 1311 708 \nQ 1631 397 2203 397 \nQ 2534 397 2845 478 \nQ 3156 559 3463 722 \nL 3463 178 \nQ 3153 47 2828 -22 \nQ 2503 -91 2169 -91 \nQ 1331 -91 842 396 \nQ 353 884 353 1716 \nQ 353 2575 817 3079 \nQ 1281 3584 2069 3584 \nQ 2775 3584 3186 3129 \nQ 3597 2675 3597 1894 \nz\nM 3022 2063 \nQ 3016 2534 2758 2815 \nQ 2500 3097 2075 3097 \nQ 1594 3097 1305 2825 \nQ 1016 2553 972 2059 \nL 3022 2063 \nz\n\" id=\"DejaVuSans-65\" transform=\"scale(0.015625)\"/>\n       <path d=\"M 947 1747 \nQ 947 1113 1208 752 \nQ 1469 391 1925 391 \nQ 2381 391 2643 752 \nQ 2906 1113 2906 1747 \nQ 2906 2381 2643 2742 \nQ 2381 3103 1925 3103 \nQ 1469 3103 1208 2742 \nQ 947 2381 947 1747 \nz\nM 2906 525 \nQ 2725 213 2448 61 \nQ 2172 -91 1784 -91 \nQ 1150 -91 751 415 \nQ 353 922 353 1747 \nQ 353 2572 751 3078 \nQ 1150 3584 1784 3584 \nQ 2172 3584 2448 3432 \nQ 2725 3281 2906 2969 \nL 2906 3500 \nL 3481 3500 \nL 3481 -1331 \nL 2906 -1331 \nL 2906 525 \nz\n\" id=\"DejaVuSans-71\" transform=\"scale(0.015625)\"/>\n       <path d=\"M 544 1381 \nL 544 3500 \nL 1119 3500 \nL 1119 1403 \nQ 1119 906 1312 657 \nQ 1506 409 1894 409 \nQ 2359 409 2629 706 \nQ 2900 1003 2900 1516 \nL 2900 3500 \nL 3475 3500 \nL 3475 0 \nL 2900 0 \nL 2900 538 \nQ 2691 219 2414 64 \nQ 2138 -91 1772 -91 \nQ 1169 -91 856 284 \nQ 544 659 544 1381 \nz\nM 1991 3584 \nL 1991 3584 \nz\n\" id=\"DejaVuSans-75\" transform=\"scale(0.015625)\"/>\n       <path d=\"M 3513 2113 \nL 3513 0 \nL 2938 0 \nL 2938 2094 \nQ 2938 2591 2744 2837 \nQ 2550 3084 2163 3084 \nQ 1697 3084 1428 2787 \nQ 1159 2491 1159 1978 \nL 1159 0 \nL 581 0 \nL 581 3500 \nL 1159 3500 \nL 1159 2956 \nQ 1366 3272 1645 3428 \nQ 1925 3584 2291 3584 \nQ 2894 3584 3203 3211 \nQ 3513 2838 3513 2113 \nz\n\" id=\"DejaVuSans-6e\" transform=\"scale(0.015625)\"/>\n       <path d=\"M 3122 3366 \nL 3122 2828 \nQ 2878 2963 2633 3030 \nQ 2388 3097 2138 3097 \nQ 1578 3097 1268 2742 \nQ 959 2388 959 1747 \nQ 959 1106 1268 751 \nQ 1578 397 2138 397 \nQ 2388 397 2633 464 \nQ 2878 531 3122 666 \nL 3122 134 \nQ 2881 22 2623 -34 \nQ 2366 -91 2075 -91 \nQ 1284 -91 818 406 \nQ 353 903 353 1747 \nQ 353 2603 823 3093 \nQ 1294 3584 2113 3584 \nQ 2378 3584 2631 3529 \nQ 2884 3475 3122 3366 \nz\n\" id=\"DejaVuSans-63\" transform=\"scale(0.015625)\"/>\n       <path d=\"M 2059 -325 \nQ 1816 -950 1584 -1140 \nQ 1353 -1331 966 -1331 \nL 506 -1331 \nL 506 -850 \nL 844 -850 \nQ 1081 -850 1212 -737 \nQ 1344 -625 1503 -206 \nL 1606 56 \nL 191 3500 \nL 800 3500 \nL 1894 763 \nL 2988 3500 \nL 3597 3500 \nL 2059 -325 \nz\n\" id=\"DejaVuSans-79\" transform=\"scale(0.015625)\"/>\n      </defs>\n      <use xlink:href=\"#DejaVuSans-46\"/>\n      <use x=\"50.269531\" xlink:href=\"#DejaVuSans-72\"/>\n      <use x=\"89.132812\" xlink:href=\"#DejaVuSans-65\"/>\n      <use x=\"150.65625\" xlink:href=\"#DejaVuSans-71\"/>\n      <use x=\"214.132812\" xlink:href=\"#DejaVuSans-75\"/>\n      <use x=\"277.511719\" xlink:href=\"#DejaVuSans-65\"/>\n      <use x=\"339.035156\" xlink:href=\"#DejaVuSans-6e\"/>\n      <use x=\"402.414062\" xlink:href=\"#DejaVuSans-63\"/>\n      <use x=\"457.394531\" xlink:href=\"#DejaVuSans-79\"/>\n     </g>\n    </g>\n   </g>\n   <g id=\"patch_13\">\n    <path d=\"M 46.965625 275.919079 \nL 46.965625 9.807079 \n\" style=\"fill:none;stroke:#000000;stroke-linecap:square;stroke-linejoin:miter;stroke-width:0.8;\"/>\n   </g>\n   <g id=\"patch_14\">\n    <path d=\"M 404.085625 275.919079 \nL 404.085625 9.807079 \n\" style=\"fill:none;stroke:#000000;stroke-linecap:square;stroke-linejoin:miter;stroke-width:0.8;\"/>\n   </g>\n   <g id=\"patch_15\">\n    <path d=\"M 46.965625 275.919079 \nL 404.085625 275.919079 \n\" style=\"fill:none;stroke:#000000;stroke-linecap:square;stroke-linejoin:miter;stroke-width:0.8;\"/>\n   </g>\n   <g id=\"patch_16\">\n    <path d=\"M 46.965625 9.807079 \nL 404.085625 9.807079 \n\" style=\"fill:none;stroke:#000000;stroke-linecap:square;stroke-linejoin:miter;stroke-width:0.8;\"/>\n   </g>\n   <g id=\"legend_1\">\n    <g id=\"patch_17\">\n     <path d=\"M 275.021563 32.763329 \nL 397.085625 32.763329 \nQ 399.085625 32.763329 399.085625 30.763329 \nL 399.085625 16.807079 \nQ 399.085625 14.807079 397.085625 14.807079 \nL 275.021563 14.807079 \nQ 273.021563 14.807079 273.021563 16.807079 \nL 273.021563 30.763329 \nQ 273.021563 32.763329 275.021563 32.763329 \nz\n\" style=\"fill:#ffffff;opacity:0.8;stroke:#cccccc;stroke-linejoin:miter;\"/>\n    </g>\n    <g id=\"patch_18\">\n     <path d=\"M 277.021563 26.405517 \nL 297.021563 26.405517 \nL 297.021563 19.405517 \nL 277.021563 19.405517 \nz\n\" style=\"fill:#1f77b4;\"/>\n    </g>\n    <g id=\"text_15\">\n     <!-- script_paragraphs -->\n     <g transform=\"translate(305.021563 26.405517)scale(0.1 -0.1)\">\n      <defs>\n       <path d=\"M 2834 3397 \nL 2834 2853 \nQ 2591 2978 2328 3040 \nQ 2066 3103 1784 3103 \nQ 1356 3103 1142 2972 \nQ 928 2841 928 2578 \nQ 928 2378 1081 2264 \nQ 1234 2150 1697 2047 \nL 1894 2003 \nQ 2506 1872 2764 1633 \nQ 3022 1394 3022 966 \nQ 3022 478 2636 193 \nQ 2250 -91 1575 -91 \nQ 1294 -91 989 -36 \nQ 684 19 347 128 \nL 347 722 \nQ 666 556 975 473 \nQ 1284 391 1588 391 \nQ 1994 391 2212 530 \nQ 2431 669 2431 922 \nQ 2431 1156 2273 1281 \nQ 2116 1406 1581 1522 \nL 1381 1569 \nQ 847 1681 609 1914 \nQ 372 2147 372 2553 \nQ 372 3047 722 3315 \nQ 1072 3584 1716 3584 \nQ 2034 3584 2315 3537 \nQ 2597 3491 2834 3397 \nz\n\" id=\"DejaVuSans-73\" transform=\"scale(0.015625)\"/>\n       <path d=\"M 603 3500 \nL 1178 3500 \nL 1178 0 \nL 603 0 \nL 603 3500 \nz\nM 603 4863 \nL 1178 4863 \nL 1178 4134 \nL 603 4134 \nL 603 4863 \nz\n\" id=\"DejaVuSans-69\" transform=\"scale(0.015625)\"/>\n       <path d=\"M 1159 525 \nL 1159 -1331 \nL 581 -1331 \nL 581 3500 \nL 1159 3500 \nL 1159 2969 \nQ 1341 3281 1617 3432 \nQ 1894 3584 2278 3584 \nQ 2916 3584 3314 3078 \nQ 3713 2572 3713 1747 \nQ 3713 922 3314 415 \nQ 2916 -91 2278 -91 \nQ 1894 -91 1617 61 \nQ 1341 213 1159 525 \nz\nM 3116 1747 \nQ 3116 2381 2855 2742 \nQ 2594 3103 2138 3103 \nQ 1681 3103 1420 2742 \nQ 1159 2381 1159 1747 \nQ 1159 1113 1420 752 \nQ 1681 391 2138 391 \nQ 2594 391 2855 752 \nQ 3116 1113 3116 1747 \nz\n\" id=\"DejaVuSans-70\" transform=\"scale(0.015625)\"/>\n       <path d=\"M 1172 4494 \nL 1172 3500 \nL 2356 3500 \nL 2356 3053 \nL 1172 3053 \nL 1172 1153 \nQ 1172 725 1289 603 \nQ 1406 481 1766 481 \nL 2356 481 \nL 2356 0 \nL 1766 0 \nQ 1100 0 847 248 \nQ 594 497 594 1153 \nL 594 3053 \nL 172 3053 \nL 172 3500 \nL 594 3500 \nL 594 4494 \nL 1172 4494 \nz\n\" id=\"DejaVuSans-74\" transform=\"scale(0.015625)\"/>\n       <path d=\"M 3263 -1063 \nL 3263 -1509 \nL -63 -1509 \nL -63 -1063 \nL 3263 -1063 \nz\n\" id=\"DejaVuSans-5f\" transform=\"scale(0.015625)\"/>\n       <path d=\"M 2194 1759 \nQ 1497 1759 1228 1600 \nQ 959 1441 959 1056 \nQ 959 750 1161 570 \nQ 1363 391 1709 391 \nQ 2188 391 2477 730 \nQ 2766 1069 2766 1631 \nL 2766 1759 \nL 2194 1759 \nz\nM 3341 1997 \nL 3341 0 \nL 2766 0 \nL 2766 531 \nQ 2569 213 2275 61 \nQ 1981 -91 1556 -91 \nQ 1019 -91 701 211 \nQ 384 513 384 1019 \nQ 384 1609 779 1909 \nQ 1175 2209 1959 2209 \nL 2766 2209 \nL 2766 2266 \nQ 2766 2663 2505 2880 \nQ 2244 3097 1772 3097 \nQ 1472 3097 1187 3025 \nQ 903 2953 641 2809 \nL 641 3341 \nQ 956 3463 1253 3523 \nQ 1550 3584 1831 3584 \nQ 2591 3584 2966 3190 \nQ 3341 2797 3341 1997 \nz\n\" id=\"DejaVuSans-61\" transform=\"scale(0.015625)\"/>\n       <path d=\"M 2906 1791 \nQ 2906 2416 2648 2759 \nQ 2391 3103 1925 3103 \nQ 1463 3103 1205 2759 \nQ 947 2416 947 1791 \nQ 947 1169 1205 825 \nQ 1463 481 1925 481 \nQ 2391 481 2648 825 \nQ 2906 1169 2906 1791 \nz\nM 3481 434 \nQ 3481 -459 3084 -895 \nQ 2688 -1331 1869 -1331 \nQ 1566 -1331 1297 -1286 \nQ 1028 -1241 775 -1147 \nL 775 -588 \nQ 1028 -725 1275 -790 \nQ 1522 -856 1778 -856 \nQ 2344 -856 2625 -561 \nQ 2906 -266 2906 331 \nL 2906 616 \nQ 2728 306 2450 153 \nQ 2172 0 1784 0 \nQ 1141 0 747 490 \nQ 353 981 353 1791 \nQ 353 2603 747 3093 \nQ 1141 3584 1784 3584 \nQ 2172 3584 2450 3431 \nQ 2728 3278 2906 2969 \nL 2906 3500 \nL 3481 3500 \nL 3481 434 \nz\n\" id=\"DejaVuSans-67\" transform=\"scale(0.015625)\"/>\n       <path d=\"M 3513 2113 \nL 3513 0 \nL 2938 0 \nL 2938 2094 \nQ 2938 2591 2744 2837 \nQ 2550 3084 2163 3084 \nQ 1697 3084 1428 2787 \nQ 1159 2491 1159 1978 \nL 1159 0 \nL 581 0 \nL 581 4863 \nL 1159 4863 \nL 1159 2956 \nQ 1366 3272 1645 3428 \nQ 1925 3584 2291 3584 \nQ 2894 3584 3203 3211 \nQ 3513 2838 3513 2113 \nz\n\" id=\"DejaVuSans-68\" transform=\"scale(0.015625)\"/>\n      </defs>\n      <use xlink:href=\"#DejaVuSans-73\"/>\n      <use x=\"52.099609\" xlink:href=\"#DejaVuSans-63\"/>\n      <use x=\"107.080078\" xlink:href=\"#DejaVuSans-72\"/>\n      <use x=\"148.193359\" xlink:href=\"#DejaVuSans-69\"/>\n      <use x=\"175.976562\" xlink:href=\"#DejaVuSans-70\"/>\n      <use x=\"239.453125\" xlink:href=\"#DejaVuSans-74\"/>\n      <use x=\"278.662109\" xlink:href=\"#DejaVuSans-5f\"/>\n      <use x=\"328.662109\" xlink:href=\"#DejaVuSans-70\"/>\n      <use x=\"392.138672\" xlink:href=\"#DejaVuSans-61\"/>\n      <use x=\"453.417969\" xlink:href=\"#DejaVuSans-72\"/>\n      <use x=\"494.53125\" xlink:href=\"#DejaVuSans-61\"/>\n      <use x=\"555.810547\" xlink:href=\"#DejaVuSans-67\"/>\n      <use x=\"619.287109\" xlink:href=\"#DejaVuSans-72\"/>\n      <use x=\"660.400391\" xlink:href=\"#DejaVuSans-61\"/>\n      <use x=\"721.679688\" xlink:href=\"#DejaVuSans-70\"/>\n      <use x=\"785.15625\" xlink:href=\"#DejaVuSans-68\"/>\n      <use x=\"848.535156\" xlink:href=\"#DejaVuSans-73\"/>\n     </g>\n    </g>\n   </g>\n  </g>\n </g>\n <defs>\n  <clipPath id=\"p1e97979b08\">\n   <rect height=\"266.112\" width=\"357.12\" x=\"46.965625\" y=\"9.807079\"/>\n  </clipPath>\n </defs>\n</svg>\n",
      "text/plain": [
       "<Figure size 640x480 with 1 Axes>"
      ]
     },
     "metadata": {},
     "output_type": "display_data"
    }
   ],
   "source": [
    "_ = df_n_paras.plot.hist()"
   ]
  },
  {
   "cell_type": "markdown",
   "metadata": {},
   "source": [
    "## Models"
   ]
  },
  {
   "cell_type": "markdown",
   "metadata": {},
   "source": [
    "### Neural Network (LSTM RNN)"
   ]
  },
  {
   "cell_type": "markdown",
   "metadata": {},
   "source": [
    "#### Text Transformers"
   ]
  },
  {
   "cell_type": "code",
   "execution_count": 382,
   "metadata": {},
   "outputs": [],
   "source": [
    "class KerasTextVectorizer(skl.base.TransformerMixin):\n",
    "    def __init__(self, \n",
    "        vocabulary=None, **kwargs\n",
    "    ):\n",
    "        self._has_vocab = vocabulary is not None\n",
    "        \n",
    "        self.base = keras.layers.TextVectorization(\n",
    "            **kwargs, \n",
    "            vocabulary=vocabulary\n",
    "        )\n",
    "\n",
    "    def fit(self, X, _y=None):\n",
    "        if not self._has_vocab:\n",
    "            self.base.adapt(X)\n",
    "\n",
    "        self.base.compile()\n",
    "        return self\n",
    "\n",
    "    def transform(self, X, _y=None):\n",
    "        return self.base(X)"
   ]
  },
  {
   "cell_type": "code",
   "execution_count": 381,
   "metadata": {},
   "outputs": [
    {
     "name": "stdout",
     "output_type": "stream",
     "text": [
      "^C\n",
      "Traceback (most recent call last):\n",
      "  File \"/opt/conda/lib/python3.9/runpy.py\", line 197, in _run_module_as_main\n",
      "    return _run_code(code, main_globals, None,\n",
      "  File \"/opt/conda/lib/python3.9/runpy.py\", line 87, in _run_code\n",
      "    exec(code, run_globals)\n",
      "  File \"/opt/conda/lib/python3.9/site-packages/pip/__main__.py\", line 29, in <module>\n",
      "    from pip._internal.cli.main import main as _main\n",
      "  File \"/opt/conda/lib/python3.9/site-packages/pip/_internal/cli/main.py\", line 9, in <module>\n",
      "    from pip._internal.cli.autocompletion import autocomplete\n",
      "  File \"/opt/conda/lib/python3.9/site-packages/pip/_internal/cli/autocompletion.py\", line 10, in <module>\n",
      "    from pip._internal.cli.main_parser import create_main_parser\n",
      "  File \"/opt/conda/lib/python3.9/site-packages/pip/_internal/cli/main_parser.py\", line 8, in <module>\n",
      "    from pip._internal.cli import cmdoptions\n",
      "  File \"/opt/conda/lib/python3.9/site-packages/pip/_internal/cli/cmdoptions.py\", line 21, in <module>\n",
      "    from pip._vendor.packaging.utils import canonicalize_name\n",
      "  File \"/opt/conda/lib/python3.9/site-packages/pip/_vendor/packaging/utils.py\", line 4, in <module>\n",
      "    from __future__ import absolute_import, division, print_function\n",
      "KeyboardInterrupt\n"
     ]
    }
   ],
   "source": [
    "%package spacy[cuda-autodetect,transformers,lookups] #spacy spacy-transformers\n",
    "\n",
    "class SpacyTextVectorizer(KerasTextVectorizer):\n",
    "    def __init__(self, **kwargs):\n",
    "        import spacy\n",
    "        #import spacy_transformers\n",
    "        spacy.prefer_gpu()\n",
    "        \n",
    "        #spacy.cli.download('en_core_web_lg', False, False, '--quiet')\n",
    "\n",
    "        nlp = spacy.load('en_core_web_lg')\n",
    "        super().__init__(\n",
    "            vocabulary=list(nlp.vocab.strings),\n",
    "            **kwargs\n",
    "        )"
   ]
  },
  {
   "cell_type": "markdown",
   "metadata": {},
   "source": [
    "#### Classifier"
   ]
  },
  {
   "cell_type": "code",
   "execution_count": 393,
   "metadata": {},
   "outputs": [],
   "source": [
    "def KerasTextClassifier(*args, **kwargs):\n",
    "    # see https://www.adriangb.com/scikeras/stable/advanced.html\n",
    "    def _build_model(vocabulary_size, meta, compile_kwargs, params):\n",
    "        input_dim = meta['X_shape_'][1:]\n",
    "        output_dim = meta['n_classes_']\n",
    "\n",
    "        # see https://www.tensorflow.org/tutorials/keras/text_classification\n",
    "        model = keras.Sequential([\n",
    "            keras.layers.InputLayer(input_shape=input_dim),\n",
    "\n",
    "            keras.layers.Embedding(\n",
    "                input_dim=vocabulary_size,\n",
    "                output_dim=128,\n",
    "                mask_zero=True\n",
    "            ),\n",
    "\n",
    "            keras.layers.Conv1D(\n",
    "                filters=32, kernel_size=3, \n",
    "                padding='same', \n",
    "                activation='relu'\n",
    "            ),\n",
    "            keras.layers.MaxPooling1D(pool_size=10),\n",
    "            keras.layers.Dropout(.1),\n",
    "\n",
    "            keras.layers.Bidirectional(keras.layers.LSTM(64, return_sequences=True)),\n",
    "            keras.layers.Bidirectional(keras.layers.LSTM(64)),\n",
    "\n",
    "            keras.layers.Dense(128, activation='relu'),\n",
    "\n",
    "            keras.layers.Dense(\n",
    "                output_dim,\n",
    "                activation='softmax'\n",
    "            )\n",
    "        ])\n",
    "\n",
    "        model.compile(**compile_kwargs)\n",
    "\n",
    "        return model\n",
    "\n",
    "    return skeras.wrappers.KerasClassifier(\n",
    "        _build_model, \n",
    "        *args, **kwargs,\n",
    "        loss='categorical_crossentropy', \n",
    "        optimizer='adam', # TODO  \n",
    "        metrics=['accuracy']\n",
    "    )"
   ]
  },
  {
   "cell_type": "markdown",
   "metadata": {},
   "source": [
    "#### Predictor (Vocab From Spacy)"
   ]
  },
  {
   "cell_type": "code",
   "execution_count": 387,
   "metadata": {},
   "outputs": [
    {
     "name": "stdout",
     "output_type": "stream",
     "text": [
      "^C\n",
      "\u001b[31mERROR: Operation cancelled by user\u001b[0m\n",
      "The tensorboard extension is already loaded. To reload it, use:\n",
      "  %reload_ext tensorboard\n"
     ]
    }
   ],
   "source": [
    "%package tensorboard\n",
    "%load_ext tensorboard "
   ]
  },
  {
   "cell_type": "code",
   "execution_count": 369,
   "metadata": {},
   "outputs": [],
   "source": [
    "%reload_ext tensorboard \n"
   ]
  },
  {
   "cell_type": "code",
   "execution_count": 370,
   "metadata": {},
   "outputs": [
    {
     "data": {
      "text/plain": [
       "Reusing TensorBoard on port 6006 (pid 57620), started 0:27:16 ago. (Use '!kill 57620' to kill it.)"
      ]
     },
     "metadata": {},
     "output_type": "display_data"
    },
    {
     "data": {
      "text/html": [
       "\n",
       "      <iframe id=\"tensorboard-frame-d95329ee83746fa9\" width=\"100%\" height=\"800\" frameborder=\"0\">\n",
       "      </iframe>\n",
       "      <script>\n",
       "        (function() {\n",
       "          const frame = document.getElementById(\"tensorboard-frame-d95329ee83746fa9\");\n",
       "          const url = new URL(\"http://localhost\");\n",
       "          const port = 6006;\n",
       "          if (port) {\n",
       "            url.port = port;\n",
       "          }\n",
       "          frame.src = url;\n",
       "        })();\n",
       "      </script>\n",
       "    "
      ],
      "text/plain": [
       "<IPython.core.display.HTML object>"
      ]
     },
     "metadata": {},
     "output_type": "display_data"
    }
   ],
   "source": [
    "%tensorboard --logdir '{session_storage}/tensorboard/model_nn_spacy'"
   ]
  },
  {
   "cell_type": "code",
   "execution_count": 412,
   "metadata": {},
   "outputs": [],
   "source": [
    "class TextClassifierCV(\n",
    "    skl.base.BaseEstimator,\n",
    "    skl.base.ClassifierMixin\n",
    "):\n",
    "    def __init__(self):\n",
    "        pass\n",
    "\n",
    "    def fit(self, X, y):\n",
    "        self.vectorizer = (\n",
    "            KerasTextVectorizer(\n",
    "                max_tokens=None,\n",
    "                standardize='lower_and_strip_punctuation',\n",
    "                split='whitespace',\n",
    "                #ngrams=(1, 2),\n",
    "                output_mode='int', # TODO tf_idf\n",
    "                #sparse=True,\n",
    "            )\n",
    "                .fit(X)\n",
    "        )\n",
    "\n",
    "        X = self.vectorizer.transform(X)\n",
    "        self.base = (\n",
    "            skl.model_selection.GridSearchCV(\n",
    "                KerasTextClassifier(\n",
    "                    vocabulary_size=self.vectorizer.base.vocabulary_size(),\n",
    "                    verbose=0,\n",
    "                    callbacks=[\n",
    "                        keras.callbacks.TensorBoard(\n",
    "                            fr'{session_storage}/tensorboard/model_nn_spacy'\n",
    "                        ),\n",
    "                        tfa.callbacks.TQDMProgressBar(\n",
    "                            show_epoch_progress=False\n",
    "                        )\n",
    "                        #keras.callbacks.EarlyStopping(\n",
    "                        #    monitor='loss', \n",
    "                        #    patience=3, \n",
    "                        #    min_delta=0.0001\n",
    "                        #)\n",
    "                    ]\n",
    "                ),\n",
    "                param_grid={\n",
    "                    'epochs': [100],\n",
    "                    'batch_size': [1024],\n",
    "                    'optimizer__learning_rate': [.01]\n",
    "                },\n",
    "                cv=skl.model_selection.RepeatedStratifiedKFold(\n",
    "                    n_splits=3, n_repeats=1\n",
    "                ),\n",
    "                #cv=skl.model_selection.KFold(\n",
    "                #    n_splits=5, shuffle=True\n",
    "                #),\n",
    "                #n_jobs=-1,\n",
    "                verbose=3\n",
    "            )\n",
    "                .fit(X, y)\n",
    "        )\n",
    "\n",
    "        return self\n",
    "\n",
    "    def predict(self, X):\n",
    "        X = self.vectorizer.transform(X)\n",
    "        return self.base.predict(X)\n",
    "\n",
    "    def score(self, X, y):\n",
    "        X = self.vectorizer.transform(X)\n",
    "        return self.base.score(X, y)"
   ]
  },
  {
   "cell_type": "code",
   "execution_count": 414,
   "metadata": {},
   "outputs": [
    {
     "name": "stdout",
     "output_type": "stream",
     "text": [
      "Fitting 3 folds for each of 1 candidates, totalling 3 fits\n"
     ]
    },
    {
     "data": {
      "application/vnd.jupyter.widget-view+json": {
       "model_id": "5e01571459a84e43ae45c5b5adf118ac",
       "version_major": 2,
       "version_minor": 0
      },
      "text/plain": [
       "Training:   0%|           0/100 ETA: ?s,  ?epochs/s"
      ]
     },
     "metadata": {},
     "output_type": "display_data"
    },
    {
     "name": "stdout",
     "output_type": "stream",
     "text": [
      "[CV 1/3] END batch_size=1024, epochs=100, optimizer__learning_rate=0.01;, score=0.810 total time=  13.9s\n"
     ]
    },
    {
     "data": {
      "application/vnd.jupyter.widget-view+json": {
       "model_id": "d88d97b891cd4ec08fd52f6d25fb65b6",
       "version_major": 2,
       "version_minor": 0
      },
      "text/plain": [
       "Training:   0%|           0/100 ETA: ?s,  ?epochs/s"
      ]
     },
     "metadata": {},
     "output_type": "display_data"
    },
    {
     "name": "stdout",
     "output_type": "stream",
     "text": [
      "[CV 2/3] END batch_size=1024, epochs=100, optimizer__learning_rate=0.01;, score=0.740 total time=  14.0s\n"
     ]
    },
    {
     "data": {
      "application/vnd.jupyter.widget-view+json": {
       "model_id": "811c7e414f6d41ce8082dbd414578f49",
       "version_major": 2,
       "version_minor": 0
      },
      "text/plain": [
       "Training:   0%|           0/100 ETA: ?s,  ?epochs/s"
      ]
     },
     "metadata": {},
     "output_type": "display_data"
    },
    {
     "name": "stdout",
     "output_type": "stream",
     "text": [
      "[CV 3/3] END batch_size=1024, epochs=100, optimizer__learning_rate=0.01;, score=0.790 total time=  12.6s\n"
     ]
    },
    {
     "data": {
      "application/vnd.jupyter.widget-view+json": {
       "model_id": "1c16be88602b412bac0ce4ea26845436",
       "version_major": 2,
       "version_minor": 0
      },
      "text/plain": [
       "Training:   0%|           0/100 ETA: ?s,  ?epochs/s"
      ]
     },
     "metadata": {},
     "output_type": "display_data"
    }
   ],
   "source": [
    "# TODO\n",
    "df_scripts_para_ = df_scripts_para.drop(df_scripts_outliers.index)\n",
    "df_scripts_para_ = df_scripts_para_[\n",
    "    df_scripts_para_['script_name'].isin(\n",
    "        pd.Series(df_scripts_para_['script_name'].unique()).sample(3)\n",
    "    )\n",
    "]\n",
    "df_scripts_para_['script_name'] = (\n",
    "    df_scripts_para_['script_name']\n",
    "        .cat.remove_unused_categories()\n",
    ")\n",
    "df_scripts_para_ = df_scripts_para_.groupby('script_name').sample(100, replace=True)\n",
    "\n",
    "clf = TextClassifierCV().fit(\n",
    "    X=df_scripts_para_['script_paragraphs'],\n",
    "    y=df_scripts_para_[['script_name']]\n",
    ")"
   ]
  },
  {
   "cell_type": "code",
   "execution_count": 410,
   "metadata": {},
   "outputs": [
    {
     "data": {
      "text/plain": [
       "0.9606666666666667"
      ]
     },
     "execution_count": 410,
     "metadata": {},
     "output_type": "execute_result"
    }
   ],
   "source": [
    "clf.base.best_score_"
   ]
  },
  {
   "cell_type": "code",
   "execution_count": 415,
   "metadata": {},
   "outputs": [
    {
     "ename": "ValueError",
     "evalue": "X has shape (9,), but this KerasClassifier is expecting X of shape (70,)",
     "output_type": "error",
     "traceback": [
      "\u001b[0;31m---------------------------------------------------------------------------\u001b[0m",
      "\u001b[0;31mValueError\u001b[0m                                Traceback (most recent call last)",
      "\u001b[0;32m/tmp/ipykernel_24070/4125662150.py\u001b[0m in \u001b[0;36m<module>\u001b[0;34m\u001b[0m\n\u001b[0;32m----> 1\u001b[0;31m clf.predict(\n\u001b[0m\u001b[1;32m      2\u001b[0m     \u001b[0mX\u001b[0m\u001b[0;34m=\u001b[0m\u001b[0mdf_scripts_para_\u001b[0m\u001b[0;34m.\u001b[0m\u001b[0miloc\u001b[0m\u001b[0;34m[\u001b[0m\u001b[0;34m[\u001b[0m\u001b[0;36m0\u001b[0m\u001b[0;34m]\u001b[0m\u001b[0;34m]\u001b[0m\u001b[0;34m[\u001b[0m\u001b[0;34m'script_paragraphs'\u001b[0m\u001b[0;34m]\u001b[0m\u001b[0;34m\u001b[0m\u001b[0;34m\u001b[0m\u001b[0m\n\u001b[1;32m      3\u001b[0m )\n",
      "\u001b[0;32m/tmp/ipykernel_24070/1969651258.py\u001b[0m in \u001b[0;36mpredict\u001b[0;34m(self, X)\u001b[0m\n\u001b[1;32m     60\u001b[0m     \u001b[0;32mdef\u001b[0m \u001b[0mpredict\u001b[0m\u001b[0;34m(\u001b[0m\u001b[0mself\u001b[0m\u001b[0;34m,\u001b[0m \u001b[0mX\u001b[0m\u001b[0;34m)\u001b[0m\u001b[0;34m:\u001b[0m\u001b[0;34m\u001b[0m\u001b[0;34m\u001b[0m\u001b[0m\n\u001b[1;32m     61\u001b[0m         \u001b[0mX\u001b[0m \u001b[0;34m=\u001b[0m \u001b[0mself\u001b[0m\u001b[0;34m.\u001b[0m\u001b[0mvectorizer\u001b[0m\u001b[0;34m.\u001b[0m\u001b[0mtransform\u001b[0m\u001b[0;34m(\u001b[0m\u001b[0mX\u001b[0m\u001b[0;34m)\u001b[0m\u001b[0;34m\u001b[0m\u001b[0;34m\u001b[0m\u001b[0m\n\u001b[0;32m---> 62\u001b[0;31m         \u001b[0;32mreturn\u001b[0m \u001b[0mself\u001b[0m\u001b[0;34m.\u001b[0m\u001b[0mbase\u001b[0m\u001b[0;34m.\u001b[0m\u001b[0mpredict\u001b[0m\u001b[0;34m(\u001b[0m\u001b[0mX\u001b[0m\u001b[0;34m)\u001b[0m\u001b[0;34m\u001b[0m\u001b[0;34m\u001b[0m\u001b[0m\n\u001b[0m\u001b[1;32m     63\u001b[0m \u001b[0;34m\u001b[0m\u001b[0m\n\u001b[1;32m     64\u001b[0m     \u001b[0;32mdef\u001b[0m \u001b[0mscore\u001b[0m\u001b[0;34m(\u001b[0m\u001b[0mself\u001b[0m\u001b[0;34m,\u001b[0m \u001b[0mX\u001b[0m\u001b[0;34m,\u001b[0m \u001b[0my\u001b[0m\u001b[0;34m)\u001b[0m\u001b[0;34m:\u001b[0m\u001b[0;34m\u001b[0m\u001b[0;34m\u001b[0m\u001b[0m\n",
      "\u001b[0;32m/opt/conda/lib/python3.9/site-packages/sklearn/model_selection/_search.py\u001b[0m in \u001b[0;36mpredict\u001b[0;34m(self, X)\u001b[0m\n\u001b[1;32m    498\u001b[0m         \"\"\"\n\u001b[1;32m    499\u001b[0m         \u001b[0mcheck_is_fitted\u001b[0m\u001b[0;34m(\u001b[0m\u001b[0mself\u001b[0m\u001b[0;34m)\u001b[0m\u001b[0;34m\u001b[0m\u001b[0;34m\u001b[0m\u001b[0m\n\u001b[0;32m--> 500\u001b[0;31m         \u001b[0;32mreturn\u001b[0m \u001b[0mself\u001b[0m\u001b[0;34m.\u001b[0m\u001b[0mbest_estimator_\u001b[0m\u001b[0;34m.\u001b[0m\u001b[0mpredict\u001b[0m\u001b[0;34m(\u001b[0m\u001b[0mX\u001b[0m\u001b[0;34m)\u001b[0m\u001b[0;34m\u001b[0m\u001b[0;34m\u001b[0m\u001b[0m\n\u001b[0m\u001b[1;32m    501\u001b[0m \u001b[0;34m\u001b[0m\u001b[0m\n\u001b[1;32m    502\u001b[0m     \u001b[0;34m@\u001b[0m\u001b[0mavailable_if\u001b[0m\u001b[0;34m(\u001b[0m\u001b[0m_estimator_has\u001b[0m\u001b[0;34m(\u001b[0m\u001b[0;34m\"predict_proba\"\u001b[0m\u001b[0;34m)\u001b[0m\u001b[0;34m)\u001b[0m\u001b[0;34m\u001b[0m\u001b[0;34m\u001b[0m\u001b[0m\n",
      "\u001b[0;32m/opt/conda/lib/python3.9/site-packages/scikeras/wrappers.py\u001b[0m in \u001b[0;36mpredict\u001b[0;34m(self, X, **kwargs)\u001b[0m\n\u001b[1;32m   1049\u001b[0m         \"\"\"\n\u001b[1;32m   1050\u001b[0m         \u001b[0;31m# predict with Keras model\u001b[0m\u001b[0;34m\u001b[0m\u001b[0;34m\u001b[0m\u001b[0;34m\u001b[0m\u001b[0m\n\u001b[0;32m-> 1051\u001b[0;31m         \u001b[0my_pred\u001b[0m \u001b[0;34m=\u001b[0m \u001b[0mself\u001b[0m\u001b[0;34m.\u001b[0m\u001b[0m_predict_raw\u001b[0m\u001b[0;34m(\u001b[0m\u001b[0mX\u001b[0m\u001b[0;34m=\u001b[0m\u001b[0mX\u001b[0m\u001b[0;34m,\u001b[0m \u001b[0;34m**\u001b[0m\u001b[0mkwargs\u001b[0m\u001b[0;34m)\u001b[0m\u001b[0;34m\u001b[0m\u001b[0;34m\u001b[0m\u001b[0m\n\u001b[0m\u001b[1;32m   1052\u001b[0m \u001b[0;34m\u001b[0m\u001b[0m\n\u001b[1;32m   1053\u001b[0m         \u001b[0;31m# post process y\u001b[0m\u001b[0;34m\u001b[0m\u001b[0;34m\u001b[0m\u001b[0;34m\u001b[0m\u001b[0m\n",
      "\u001b[0;32m/opt/conda/lib/python3.9/site-packages/scikeras/wrappers.py\u001b[0m in \u001b[0;36m_predict_raw\u001b[0;34m(self, X, **kwargs)\u001b[0m\n\u001b[1;32m    995\u001b[0m             )\n\u001b[1;32m    996\u001b[0m         \u001b[0;31m# basic input checks\u001b[0m\u001b[0;34m\u001b[0m\u001b[0;34m\u001b[0m\u001b[0;34m\u001b[0m\u001b[0m\n\u001b[0;32m--> 997\u001b[0;31m         \u001b[0mX\u001b[0m\u001b[0;34m,\u001b[0m \u001b[0m_\u001b[0m \u001b[0;34m=\u001b[0m \u001b[0mself\u001b[0m\u001b[0;34m.\u001b[0m\u001b[0m_validate_data\u001b[0m\u001b[0;34m(\u001b[0m\u001b[0mX\u001b[0m\u001b[0;34m=\u001b[0m\u001b[0mX\u001b[0m\u001b[0;34m,\u001b[0m \u001b[0my\u001b[0m\u001b[0;34m=\u001b[0m\u001b[0;32mNone\u001b[0m\u001b[0;34m)\u001b[0m\u001b[0;34m\u001b[0m\u001b[0;34m\u001b[0m\u001b[0m\n\u001b[0m\u001b[1;32m    998\u001b[0m \u001b[0;34m\u001b[0m\u001b[0m\n\u001b[1;32m    999\u001b[0m         \u001b[0;31m# pre process X\u001b[0m\u001b[0;34m\u001b[0m\u001b[0;34m\u001b[0m\u001b[0;34m\u001b[0m\u001b[0m\n",
      "\u001b[0;32m/opt/conda/lib/python3.9/site-packages/scikeras/wrappers.py\u001b[0m in \u001b[0;36m_validate_data\u001b[0;34m(self, X, y, reset, y_numeric)\u001b[0m\n\u001b[1;32m    682\u001b[0m                     )\n\u001b[1;32m    683\u001b[0m                 \u001b[0;32mif\u001b[0m \u001b[0mX_shape_\u001b[0m\u001b[0;34m[\u001b[0m\u001b[0;36m1\u001b[0m\u001b[0;34m:\u001b[0m\u001b[0;34m]\u001b[0m \u001b[0;34m!=\u001b[0m \u001b[0mself\u001b[0m\u001b[0;34m.\u001b[0m\u001b[0mX_shape_\u001b[0m\u001b[0;34m[\u001b[0m\u001b[0;36m1\u001b[0m\u001b[0;34m:\u001b[0m\u001b[0;34m]\u001b[0m\u001b[0;34m:\u001b[0m\u001b[0;34m\u001b[0m\u001b[0;34m\u001b[0m\u001b[0m\n\u001b[0;32m--> 684\u001b[0;31m                     raise ValueError(\n\u001b[0m\u001b[1;32m    685\u001b[0m                         \u001b[0;34mf\"X has shape {X_shape_[1:]}, but this {self.__name__}\"\u001b[0m\u001b[0;34m\u001b[0m\u001b[0;34m\u001b[0m\u001b[0m\n\u001b[1;32m    686\u001b[0m                         \u001b[0;34mf\" is expecting X of shape {self.X_shape_[1:]}\"\u001b[0m\u001b[0;34m\u001b[0m\u001b[0;34m\u001b[0m\u001b[0m\n",
      "\u001b[0;31mValueError\u001b[0m: X has shape (9,), but this KerasClassifier is expecting X of shape (70,)"
     ]
    }
   ],
   "source": [
    "clf.predict(\n",
    "    X=df_scripts_para_.iloc[[0]]['script_paragraphs']\n",
    ")"
   ]
  },
  {
   "cell_type": "code",
   "execution_count": null,
   "metadata": {},
   "outputs": [],
   "source": []
  }
 ],
 "metadata": {
  "kernelspec": {
   "display_name": "base",
   "language": "python",
   "name": "base"
  },
  "language_info": {
   "codemirror_mode": {
    "name": "ipython",
    "version": 3
   },
   "file_extension": ".py",
   "mimetype": "text/x-python",
   "name": "python",
   "nbconvert_exporter": "python",
   "pygments_lexer": "ipython3",
   "version": "3.9.5"
  },
  "vscode": {
   "interpreter": {
    "hash": "d4d1e4263499bec80672ea0156c357c1ee493ec2b1c70f0acce89fc37c4a6abe"
   }
  }
 },
 "nbformat": 4,
 "nbformat_minor": 4
}
