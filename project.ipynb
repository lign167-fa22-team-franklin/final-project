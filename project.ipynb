{
 "cells": [
  {
   "cell_type": "code",
   "execution_count": 1,
   "metadata": {},
   "outputs": [],
   "source": [
    "%alias package {__import__('sys').executable} -m pip install --quiet --upgrade %l"
   ]
  },
  {
   "cell_type": "code",
   "execution_count": 2,
   "metadata": {
    "id": "rU_Mxyr64tA9"
   },
   "outputs": [],
   "source": [
    "session_storage = 'downloads'\n",
    "\n",
    "import os\n",
    "os.makedirs(session_storage, exist_ok=True)"
   ]
  },
  {
   "cell_type": "code",
   "execution_count": 3,
   "metadata": {
    "id": "mmMz4GWV4tA9"
   },
   "outputs": [
    {
     "name": "stdout",
     "output_type": "stream",
     "text": [
      "/bin/bash: /opt/conda/lib/libtinfo.so.6: no version information available (required by /bin/bash)\n"
     ]
    }
   ],
   "source": [
    "%package fsspec\n",
    "\n",
    "import fsspec\n",
    "\n",
    "fs_dataset = fsspec.filesystem(\n",
    "    'simplecache', \n",
    "    target_protocol='https', \n",
    "    cache_storage=session_storage\n",
    ")"
   ]
  },
  {
   "cell_type": "code",
   "execution_count": 4,
   "metadata": {
    "id": "wSh2EXOe4tA9"
   },
   "outputs": [
    {
     "name": "stdout",
     "output_type": "stream",
     "text": [
      "/bin/bash: /opt/conda/lib/libtinfo.so.6: no version information available (required by /bin/bash)\n",
      "/bin/bash: /opt/conda/lib/libtinfo.so.6: no version information available (required by /bin/bash)\r\n"
     ]
    },
    {
     "name": "stderr",
     "output_type": "stream",
     "text": [
      "/opt/conda/lib/python3.9/site-packages/scipy/__init__.py:146: UserWarning: A NumPy version >=1.16.5 and <1.23.0 is required for this version of SciPy (detected version 1.23.5\n",
      "  warnings.warn(f\"A NumPy version >={np_minversion} and <{np_maxversion}\"\n"
     ]
    }
   ],
   "source": [
    "%package numpy pandas \n",
    "\n",
    "import numpy as np\n",
    "import pandas as pd\n",
    "'''\n",
    "%package swifter\n",
    "import swifter\n",
    "swifter.set_defaults(\n",
    "    npartitions=None,\n",
    "    dask_thres=1,\n",
    "    scheduler='processes',\n",
    "    progress_bar=True,\n",
    "    progress_bar_desc=None,\n",
    "    allow_dask_on_strings=True,\n",
    "    force_parallel=False\n",
    ")\n",
    "'''\n",
    "\n",
    "%package scikit-learn\n",
    "import sklearn as skl\n",
    "import sklearn.base\n",
    "import sklearn.compose\n",
    "#import sklearn.ensemble\n",
    "import sklearn.feature_extraction\n",
    "import sklearn.linear_model\n",
    "import sklearn.metrics\n",
    "import sklearn.model_selection\n",
    "import sklearn.pipeline\n",
    "#import sklearn.svm\n",
    "\n",
    "#%package scikit-learn-intelex\n",
    "#import sklearnex\n",
    "#sklearnex.patch_sklearn()\n",
    "\n",
    "#%package xgboost\n",
    "#import xgboost"
   ]
  },
  {
   "cell_type": "code",
   "execution_count": 5,
   "metadata": {},
   "outputs": [
    {
     "name": "stdout",
     "output_type": "stream",
     "text": [
      "/bin/bash: /opt/conda/lib/libtinfo.so.6: no version information available (required by /bin/bash)\n"
     ]
    },
    {
     "name": "stderr",
     "output_type": "stream",
     "text": [
      "2022-12-01 12:02:50.676657: I tensorflow/core/platform/cpu_feature_guard.cc:193] This TensorFlow binary is optimized with oneAPI Deep Neural Network Library (oneDNN) to use the following CPU instructions in performance-critical operations:  AVX2 AVX512F FMA\n",
      "To enable them in other operations, rebuild TensorFlow with the appropriate compiler flags.\n",
      "2022-12-01 12:02:51.580240: W tensorflow/compiler/xla/stream_executor/platform/default/dso_loader.cc:64] Could not load dynamic library 'libnvinfer.so.7'; dlerror: libnvinfer.so.7: cannot open shared object file: No such file or directory; LD_LIBRARY_PATH: /usr/local/nvidia/lib:/usr/local/nvidia/lib64:/opt/conda/lib/:/opt/conda/lib/\n",
      "2022-12-01 12:02:51.580342: W tensorflow/compiler/xla/stream_executor/platform/default/dso_loader.cc:64] Could not load dynamic library 'libnvinfer_plugin.so.7'; dlerror: libnvinfer_plugin.so.7: cannot open shared object file: No such file or directory; LD_LIBRARY_PATH: /usr/local/nvidia/lib:/usr/local/nvidia/lib64:/opt/conda/lib/:/opt/conda/lib/\n",
      "2022-12-01 12:02:51.580351: W tensorflow/compiler/tf2tensorrt/utils/py_utils.cc:38] TF-TRT Warning: Cannot dlopen some TensorRT libraries. If you would like to use Nvidia GPU with TensorRT, please make sure the missing libraries mentioned above are installed properly.\n"
     ]
    }
   ],
   "source": [
    "%package tensorflow\n",
    "\n",
    "import tensorflow as tf\n",
    "from tensorflow import keras as keras\n",
    "\n",
    "from tensorflow.python.ops.numpy_ops import np_config\n",
    "np_config.enable_numpy_behavior()"
   ]
  },
  {
   "cell_type": "code",
   "execution_count": 6,
   "metadata": {},
   "outputs": [
    {
     "name": "stdout",
     "output_type": "stream",
     "text": [
      "/bin/bash: /opt/conda/lib/libtinfo.so.6: no version information available (required by /bin/bash)\n",
      "\u001b[38;5;2m✔ Download and installation successful\u001b[0m\n",
      "You can now load the package via spacy.load('en_core_web_lg')\n"
     ]
    }
   ],
   "source": [
    "%package spacy spacy-transformers\n",
    "\n",
    "import spacy\n",
    "import spacy_transformers\n",
    "spacy.prefer_gpu()\n",
    "\n",
    "spacy.cli.download('en_core_web_lg', False, False, '--quiet')"
   ]
  },
  {
   "cell_type": "code",
   "execution_count": 7,
   "metadata": {},
   "outputs": [
    {
     "name": "stdout",
     "output_type": "stream",
     "text": [
      "/bin/bash: /opt/conda/lib/libtinfo.so.6: no version information available (required by /bin/bash)\n"
     ]
    }
   ],
   "source": [
    "%package scikeras\n",
    "\n",
    "import scikeras as skeras\n",
    "import scikeras.wrappers"
   ]
  },
  {
   "cell_type": "markdown",
   "metadata": {},
   "source": [
    "## Dataset"
   ]
  },
  {
   "cell_type": "code",
   "execution_count": 8,
   "metadata": {},
   "outputs": [],
   "source": [
    "# TODO\n",
    "df_scripts = pd.read_pickle('./dataset.pkl', compression='gzip')"
   ]
  },
  {
   "cell_type": "code",
   "execution_count": 9,
   "metadata": {},
   "outputs": [
    {
     "data": {
      "text/html": [
       "<div>\n",
       "<style scoped>\n",
       "    .dataframe tbody tr th:only-of-type {\n",
       "        vertical-align: middle;\n",
       "    }\n",
       "\n",
       "    .dataframe tbody tr th {\n",
       "        vertical-align: top;\n",
       "    }\n",
       "\n",
       "    .dataframe thead th {\n",
       "        text-align: right;\n",
       "    }\n",
       "</style>\n",
       "<table border=\"1\" class=\"dataframe\">\n",
       "  <thead>\n",
       "    <tr style=\"text-align: right;\">\n",
       "      <th></th>\n",
       "      <th>script_name</th>\n",
       "      <th>script_text</th>\n",
       "    </tr>\n",
       "  </thead>\n",
       "  <tbody>\n",
       "    <tr>\n",
       "      <th>0</th>\n",
       "      <td>American Milkshake Script</td>\n",
       "      <td>[\\r\\n\\r\\n\\r\\n\\r\\n                             ...</td>\n",
       "    </tr>\n",
       "    <tr>\n",
       "      <th>1</th>\n",
       "      <td>Man Who Knew Too Much, The Script</td>\n",
       "      <td>[                   THE MAN WHO KNEW TOO MUCH\\...</td>\n",
       "    </tr>\n",
       "    <tr>\n",
       "      <th>2</th>\n",
       "      <td>Crow Salvation, The Script</td>\n",
       "      <td>[\\r\\n\\r\\n      \"THE CROW: SALVATION\" -- by Chi...</td>\n",
       "    </tr>\n",
       "    <tr>\n",
       "      <th>3</th>\n",
       "      <td>Die Hard 2 Script</td>\n",
       "      <td>[\\r\\n\\r\\n \\r\\n                                ...</td>\n",
       "    </tr>\n",
       "    <tr>\n",
       "      <th>4</th>\n",
       "      <td>Game 6 Script</td>\n",
       "      <td>[           \\r\\n          \\r\\n          \\r\\n  ...</td>\n",
       "    </tr>\n",
       "    <tr>\n",
       "      <th>...</th>\n",
       "      <td>...</td>\n",
       "      <td>...</td>\n",
       "    </tr>\n",
       "    <tr>\n",
       "      <th>1204</th>\n",
       "      <td>Cooler, The Script</td>\n",
       "      <td>[\\r\\n\\r\\n\\r\\n                                 ...</td>\n",
       "    </tr>\n",
       "    <tr>\n",
       "      <th>1205</th>\n",
       "      <td>Hitchcock Script</td>\n",
       "      <td>[\\r\\n\\r\\n\\r\\n\\r\\n                             ...</td>\n",
       "    </tr>\n",
       "    <tr>\n",
       "      <th>1206</th>\n",
       "      <td>Breaking Away Script</td>\n",
       "      <td>[\\r\\n\\r\\n \\r\\n                            \"BAM...</td>\n",
       "    </tr>\n",
       "    <tr>\n",
       "      <th>1207</th>\n",
       "      <td>Batman Returns Script</td>\n",
       "      <td>[]</td>\n",
       "    </tr>\n",
       "    <tr>\n",
       "      <th>1208</th>\n",
       "      <td>Sandlot Kids, The Script</td>\n",
       "      <td>[\\r\\n\\r\\n                          \\r\\n       ...</td>\n",
       "    </tr>\n",
       "  </tbody>\n",
       "</table>\n",
       "<p>1209 rows × 2 columns</p>\n",
       "</div>"
      ],
      "text/plain": [
       "                            script_name  \\\n",
       "0             American Milkshake Script   \n",
       "1     Man Who Knew Too Much, The Script   \n",
       "2            Crow Salvation, The Script   \n",
       "3                     Die Hard 2 Script   \n",
       "4                         Game 6 Script   \n",
       "...                                 ...   \n",
       "1204                 Cooler, The Script   \n",
       "1205                   Hitchcock Script   \n",
       "1206               Breaking Away Script   \n",
       "1207              Batman Returns Script   \n",
       "1208           Sandlot Kids, The Script   \n",
       "\n",
       "                                            script_text  \n",
       "0     [\\r\\n\\r\\n\\r\\n\\r\\n                             ...  \n",
       "1     [                   THE MAN WHO KNEW TOO MUCH\\...  \n",
       "2     [\\r\\n\\r\\n      \"THE CROW: SALVATION\" -- by Chi...  \n",
       "3     [\\r\\n\\r\\n \\r\\n                                ...  \n",
       "4     [           \\r\\n          \\r\\n          \\r\\n  ...  \n",
       "...                                                 ...  \n",
       "1204  [\\r\\n\\r\\n\\r\\n                                 ...  \n",
       "1205  [\\r\\n\\r\\n\\r\\n\\r\\n                             ...  \n",
       "1206  [\\r\\n\\r\\n \\r\\n                            \"BAM...  \n",
       "1207                                                 []  \n",
       "1208  [\\r\\n\\r\\n                          \\r\\n       ...  \n",
       "\n",
       "[1209 rows x 2 columns]"
      ]
     },
     "execution_count": 9,
     "metadata": {},
     "output_type": "execute_result"
    }
   ],
   "source": [
    "df_scripts"
   ]
  },
  {
   "cell_type": "code",
   "execution_count": 10,
   "metadata": {},
   "outputs": [],
   "source": [
    "df_scripts = df_scripts.astype({\n",
    "    'script_name': 'category'\n",
    "})"
   ]
  },
  {
   "cell_type": "code",
   "execution_count": 11,
   "metadata": {},
   "outputs": [],
   "source": [
    "df_scripts = df_scripts.explode('script_text')"
   ]
  },
  {
   "cell_type": "code",
   "execution_count": 12,
   "metadata": {},
   "outputs": [],
   "source": [
    "df_scripts.dropna(inplace=True)"
   ]
  },
  {
   "cell_type": "code",
   "execution_count": 13,
   "metadata": {},
   "outputs": [
    {
     "data": {
      "text/html": [
       "<div>\n",
       "<style scoped>\n",
       "    .dataframe tbody tr th:only-of-type {\n",
       "        vertical-align: middle;\n",
       "    }\n",
       "\n",
       "    .dataframe tbody tr th {\n",
       "        vertical-align: top;\n",
       "    }\n",
       "\n",
       "    .dataframe thead th {\n",
       "        text-align: right;\n",
       "    }\n",
       "</style>\n",
       "<table border=\"1\" class=\"dataframe\">\n",
       "  <thead>\n",
       "    <tr style=\"text-align: right;\">\n",
       "      <th></th>\n",
       "      <th>script_name</th>\n",
       "      <th>script_text</th>\n",
       "    </tr>\n",
       "  </thead>\n",
       "  <tbody>\n",
       "    <tr>\n",
       "      <th>0</th>\n",
       "      <td>American Milkshake Script</td>\n",
       "      <td>\\r\\n\\r\\n\\r\\n\\r\\n                             A...</td>\n",
       "    </tr>\n",
       "    <tr>\n",
       "      <th>1</th>\n",
       "      <td>Man Who Knew Too Much, The Script</td>\n",
       "      <td>THE MAN WHO KNEW TOO MUCH\\r...</td>\n",
       "    </tr>\n",
       "    <tr>\n",
       "      <th>2</th>\n",
       "      <td>Crow Salvation, The Script</td>\n",
       "      <td>\\r\\n\\r\\n      \"THE CROW: SALVATION\" -- by Chip...</td>\n",
       "    </tr>\n",
       "    <tr>\n",
       "      <th>3</th>\n",
       "      <td>Die Hard 2 Script</td>\n",
       "      <td>\\r\\n\\r\\n \\r\\n                                 ...</td>\n",
       "    </tr>\n",
       "    <tr>\n",
       "      <th>4</th>\n",
       "      <td>Game 6 Script</td>\n",
       "      <td>\\r\\n          \\r\\n          \\r\\n   ...</td>\n",
       "    </tr>\n",
       "    <tr>\n",
       "      <th>...</th>\n",
       "      <td>...</td>\n",
       "      <td>...</td>\n",
       "    </tr>\n",
       "    <tr>\n",
       "      <th>1203</th>\n",
       "      <td>Ninja Assassin Script</td>\n",
       "      <td>\\r\\n\\r\\n\\r\\n\\r\\n                         NINJA...</td>\n",
       "    </tr>\n",
       "    <tr>\n",
       "      <th>1204</th>\n",
       "      <td>Cooler, The Script</td>\n",
       "      <td>\\r\\n\\r\\n\\r\\n                                  ...</td>\n",
       "    </tr>\n",
       "    <tr>\n",
       "      <th>1205</th>\n",
       "      <td>Hitchcock Script</td>\n",
       "      <td>\\r\\n\\r\\n\\r\\n\\r\\n                              ...</td>\n",
       "    </tr>\n",
       "    <tr>\n",
       "      <th>1206</th>\n",
       "      <td>Breaking Away Script</td>\n",
       "      <td>\\r\\n\\r\\n \\r\\n                            \"BAMB...</td>\n",
       "    </tr>\n",
       "    <tr>\n",
       "      <th>1208</th>\n",
       "      <td>Sandlot Kids, The Script</td>\n",
       "      <td>\\r\\n\\r\\n                          \\r\\n        ...</td>\n",
       "    </tr>\n",
       "  </tbody>\n",
       "</table>\n",
       "<p>1177 rows × 2 columns</p>\n",
       "</div>"
      ],
      "text/plain": [
       "                            script_name  \\\n",
       "0             American Milkshake Script   \n",
       "1     Man Who Knew Too Much, The Script   \n",
       "2            Crow Salvation, The Script   \n",
       "3                     Die Hard 2 Script   \n",
       "4                         Game 6 Script   \n",
       "...                                 ...   \n",
       "1203              Ninja Assassin Script   \n",
       "1204                 Cooler, The Script   \n",
       "1205                   Hitchcock Script   \n",
       "1206               Breaking Away Script   \n",
       "1208           Sandlot Kids, The Script   \n",
       "\n",
       "                                            script_text  \n",
       "0     \\r\\n\\r\\n\\r\\n\\r\\n                             A...  \n",
       "1                        THE MAN WHO KNEW TOO MUCH\\r...  \n",
       "2     \\r\\n\\r\\n      \"THE CROW: SALVATION\" -- by Chip...  \n",
       "3     \\r\\n\\r\\n \\r\\n                                 ...  \n",
       "4                \\r\\n          \\r\\n          \\r\\n   ...  \n",
       "...                                                 ...  \n",
       "1203  \\r\\n\\r\\n\\r\\n\\r\\n                         NINJA...  \n",
       "1204  \\r\\n\\r\\n\\r\\n                                  ...  \n",
       "1205  \\r\\n\\r\\n\\r\\n\\r\\n                              ...  \n",
       "1206  \\r\\n\\r\\n \\r\\n                            \"BAMB...  \n",
       "1208  \\r\\n\\r\\n                          \\r\\n        ...  \n",
       "\n",
       "[1177 rows x 2 columns]"
      ]
     },
     "execution_count": 13,
     "metadata": {},
     "output_type": "execute_result"
    }
   ],
   "source": [
    "df_scripts"
   ]
  },
  {
   "cell_type": "code",
   "execution_count": 14,
   "metadata": {},
   "outputs": [],
   "source": [
    "#print(dataset_scripts.iloc[0]['script_text'][-1])"
   ]
  },
  {
   "cell_type": "markdown",
   "metadata": {},
   "source": [
    "TODO\n",
    "GOAL extract the following features from texts:\n",
    "\n",
    "Feature engineering TODO list: \n",
    "- location: Named Entity Recognition\n",
    "- character: Named Entity Recognition\n",
    "    see https://keras.io/examples/nlp/ner_transformers/\n",
    "    see https://towardsdatascience.com/named-entity-recognition-ner-using-keras-bidirectional-lstm-28cd3f301f54\n",
    "- convo: ??\n",
    "\n",
    "sentence embedding?"
   ]
  },
  {
   "cell_type": "markdown",
   "metadata": {},
   "source": [
    "## Feature Engineering"
   ]
  },
  {
   "cell_type": "code",
   "execution_count": 15,
   "metadata": {},
   "outputs": [],
   "source": [
    "def str_normalize_eol(s, eol=os.linesep):\n",
    "    return str.join(eol, str.splitlines(s))"
   ]
  },
  {
   "cell_type": "code",
   "execution_count": 16,
   "metadata": {},
   "outputs": [
    {
     "name": "stdout",
     "output_type": "stream",
     "text": [
      "/bin/bash: /opt/conda/lib/libtinfo.so.6: no version information available (required by /bin/bash)\n"
     ]
    }
   ],
   "source": [
    "%package joblib\n",
    "\n",
    "import os\n",
    "import re\n",
    "\n",
    "import joblib\n",
    "\n",
    "class ParagraphExtractor(skl.base.TransformerMixin):\n",
    "    def __init__(self,\n",
    "        eol=os.linesep, #'\\r\\n' #os.linesep\n",
    "        eol_freq_min=2,\n",
    "        n_jobs=1\n",
    "    ):\n",
    "        self.eol = eol\n",
    "        self.eol_freq_min = eol_freq_min\n",
    "        self.n_jobs = n_jobs\n",
    "\n",
    "        self._pattern = re.compile(\n",
    "            fr'(?:{self.eol}\\s*?){{{self.eol_freq_min},}}'\n",
    "        )\n",
    "\n",
    "    def fit(self, _X, _y=None):\n",
    "        return self\n",
    "\n",
    "    def transform(self, X, _y=None):\n",
    "        def _impl_single(s):\n",
    "            nonlocal self\n",
    "            return re.split(\n",
    "                self._pattern,\n",
    "                str_normalize_eol(s, eol=self.eol)\n",
    "            )\n",
    "\n",
    "        return joblib.Parallel(n_jobs=self.n_jobs)(\n",
    "            joblib.delayed(_impl_single)(s)\n",
    "                for s in X\n",
    "        )\n",
    "\n",
    "        \n",
    "df_scripts['script_paragraphs'] = ParagraphExtractor(n_jobs=-1).fit_transform(\n",
    "    df_scripts['script_text']#.iloc[:100]\n",
    ")"
   ]
  },
  {
   "cell_type": "code",
   "execution_count": 17,
   "metadata": {},
   "outputs": [],
   "source": [
    "df_scripts_para = (\n",
    "    df_scripts[['script_name', 'script_paragraphs']]\n",
    "        .explode('script_paragraphs', ignore_index=True)\n",
    ")"
   ]
  },
  {
   "cell_type": "code",
   "execution_count": 18,
   "metadata": {},
   "outputs": [],
   "source": [
    "df_scripts_para['script_paragraphs'] = (\n",
    "    df_scripts_para['script_paragraphs'].str.strip()\n",
    ")"
   ]
  },
  {
   "cell_type": "code",
   "execution_count": 19,
   "metadata": {},
   "outputs": [],
   "source": [
    "df_scripts_para = df_scripts_para[\n",
    "    # non-empty strings\n",
    "    df_scripts_para['script_paragraphs'].astype(bool)\n",
    "]"
   ]
  },
  {
   "cell_type": "code",
   "execution_count": 20,
   "metadata": {},
   "outputs": [
    {
     "data": {
      "text/html": [
       "<div>\n",
       "<style scoped>\n",
       "    .dataframe tbody tr th:only-of-type {\n",
       "        vertical-align: middle;\n",
       "    }\n",
       "\n",
       "    .dataframe tbody tr th {\n",
       "        vertical-align: top;\n",
       "    }\n",
       "\n",
       "    .dataframe thead th {\n",
       "        text-align: right;\n",
       "    }\n",
       "</style>\n",
       "<table border=\"1\" class=\"dataframe\">\n",
       "  <thead>\n",
       "    <tr style=\"text-align: right;\">\n",
       "      <th></th>\n",
       "      <th>script_name</th>\n",
       "      <th>script_paragraphs</th>\n",
       "    </tr>\n",
       "  </thead>\n",
       "  <tbody>\n",
       "    <tr>\n",
       "      <th>1</th>\n",
       "      <td>American Milkshake Script</td>\n",
       "      <td>AMERICAN MILKSHAKE</td>\n",
       "    </tr>\n",
       "    <tr>\n",
       "      <th>2</th>\n",
       "      <td>American Milkshake Script</td>\n",
       "      <td>Written by</td>\n",
       "    </tr>\n",
       "    <tr>\n",
       "      <th>3</th>\n",
       "      <td>American Milkshake Script</td>\n",
       "      <td>David Andalman</td>\n",
       "    </tr>\n",
       "    <tr>\n",
       "      <th>4</th>\n",
       "      <td>American Milkshake Script</td>\n",
       "      <td>Co-writer, Mariko Munro</td>\n",
       "    </tr>\n",
       "    <tr>\n",
       "      <th>6</th>\n",
       "      <td>American Milkshake Script</td>\n",
       "      <td>9/28/2011</td>\n",
       "    </tr>\n",
       "    <tr>\n",
       "      <th>...</th>\n",
       "      <td>...</td>\n",
       "      <td>...</td>\n",
       "    </tr>\n",
       "    <tr>\n",
       "      <th>1999877</th>\n",
       "      <td>Sandlot Kids, The Script</td>\n",
       "      <td>makeshit baseball diamond - a sandlot... circa...</td>\n",
       "    </tr>\n",
       "    <tr>\n",
       "      <th>1999878</th>\n",
       "      <td>Sandlot Kids, The Script</td>\n",
       "      <td>A baseball. A baseball with a familiar smudge.</td>\n",
       "    </tr>\n",
       "    <tr>\n",
       "      <th>1999879</th>\n",
       "      <td>Sandlot Kids, The Script</td>\n",
       "      <td>END TITLES.</td>\n",
       "    </tr>\n",
       "    <tr>\n",
       "      <th>1999880</th>\n",
       "      <td>Sandlot Kids, The Script</td>\n",
       "      <td>FADE OUT.</td>\n",
       "    </tr>\n",
       "    <tr>\n",
       "      <th>1999881</th>\n",
       "      <td>Sandlot Kids, The Script</td>\n",
       "      <td>THE END</td>\n",
       "    </tr>\n",
       "  </tbody>\n",
       "</table>\n",
       "<p>1905869 rows × 2 columns</p>\n",
       "</div>"
      ],
      "text/plain": [
       "                       script_name  \\\n",
       "1        American Milkshake Script   \n",
       "2        American Milkshake Script   \n",
       "3        American Milkshake Script   \n",
       "4        American Milkshake Script   \n",
       "6        American Milkshake Script   \n",
       "...                            ...   \n",
       "1999877   Sandlot Kids, The Script   \n",
       "1999878   Sandlot Kids, The Script   \n",
       "1999879   Sandlot Kids, The Script   \n",
       "1999880   Sandlot Kids, The Script   \n",
       "1999881   Sandlot Kids, The Script   \n",
       "\n",
       "                                         script_paragraphs  \n",
       "1                                       AMERICAN MILKSHAKE  \n",
       "2                                               Written by  \n",
       "3                                           David Andalman  \n",
       "4                                  Co-writer, Mariko Munro  \n",
       "6                                                9/28/2011  \n",
       "...                                                    ...  \n",
       "1999877  makeshit baseball diamond - a sandlot... circa...  \n",
       "1999878     A baseball. A baseball with a familiar smudge.  \n",
       "1999879                                        END TITLES.  \n",
       "1999880                                          FADE OUT.  \n",
       "1999881                                            THE END  \n",
       "\n",
       "[1905869 rows x 2 columns]"
      ]
     },
     "execution_count": 20,
     "metadata": {},
     "output_type": "execute_result"
    }
   ],
   "source": [
    "df_scripts_para"
   ]
  },
  {
   "cell_type": "code",
   "execution_count": 21,
   "metadata": {},
   "outputs": [],
   "source": [
    "# TODO rm\n",
    "#df_scripts['script_paragraphs'].iloc[0][:20]"
   ]
  },
  {
   "cell_type": "markdown",
   "metadata": {},
   "source": [
    "## Models"
   ]
  },
  {
   "cell_type": "markdown",
   "metadata": {},
   "source": [
    "### Neural Network (LSTM RNN)"
   ]
  },
  {
   "cell_type": "markdown",
   "metadata": {},
   "source": [
    "#### Text Transformers"
   ]
  },
  {
   "cell_type": "code",
   "execution_count": 22,
   "metadata": {},
   "outputs": [],
   "source": [
    "class KerasTextVectorizer(skl.base.TransformerMixin):\n",
    "    def __init__(self, *args, **kwargs):\n",
    "        self.base = keras.layers.TextVectorization(\n",
    "            *args, **kwargs\n",
    "        )\n",
    "\n",
    "    def fit(self, X, _y=None):\n",
    "        self.base.adapt(X)\n",
    "        return self\n",
    "\n",
    "    def transform(self, X, _y=None):\n",
    "        return self.base(X)"
   ]
  },
  {
   "cell_type": "code",
   "execution_count": 23,
   "metadata": {},
   "outputs": [],
   "source": [
    "class SpacyTextVectorizer(KerasTextVectorizer):\n",
    "    def __init__(self, *args, **kwargs):\n",
    "        nlp = spacy.load('en_core_web_lg')\n",
    "        super().__init__(\n",
    "            *args, \n",
    "            vocabulary=list(nlp.vocab.strings),\n",
    "            **kwargs\n",
    "        )\n",
    "\n",
    "    def fit(self, _X, _y=None):\n",
    "        return self"
   ]
  },
  {
   "cell_type": "markdown",
   "metadata": {},
   "source": [
    "#### Classifier"
   ]
  },
  {
   "cell_type": "code",
   "execution_count": 24,
   "metadata": {},
   "outputs": [],
   "source": [
    "def KerasTextClassifier(*args, **kwargs):\n",
    "    class _class(skeras.wrappers.KerasClassifier):\n",
    "        def __init__(self, *args, **kwargs):\n",
    "            super().__init__(*args, **kwargs)\n",
    "\n",
    "            self.n_features_in_ = None\n",
    "            self._user_target_encoder = (\n",
    "                skl.preprocessing.OneHotEncoder(\n",
    "                    sparse=False\n",
    "                )\n",
    "            )\n",
    "\n",
    "        @property\n",
    "        def target_encoder(self):\n",
    "            return self._user_target_encoder\n",
    "\n",
    "    _inst = None\n",
    "\n",
    "    def _build_model(optimizer='adam'):\n",
    "        nonlocal _inst\n",
    "\n",
    "        n_features = _inst.n_features_in_\n",
    "        n_classes = np.size(_inst._user_target_encoder.categories_)\n",
    "\n",
    "        input_dim = n_features\n",
    "        output_dim = n_classes\n",
    "\n",
    "        # https://www.tensorflow.org/tutorials/keras/text_classification\n",
    "        model = keras.Sequential([\n",
    "            keras.layers.Embedding(\n",
    "                input_dim=input_dim,\n",
    "                output_dim=128,\n",
    "                mask_zero=True\n",
    "            ),\n",
    "\n",
    "            keras.layers.Conv1D(\n",
    "                filters=32, kernel_size=3, \n",
    "                padding='same', \n",
    "                activation='relu'\n",
    "            ),\n",
    "            keras.layers.MaxPooling1D(pool_size=10),\n",
    "            keras.layers.Dropout(.1),\n",
    "\n",
    "            keras.layers.Bidirectional(keras.layers.LSTM(64, return_sequences=True)),\n",
    "            keras.layers.Bidirectional(keras.layers.LSTM(64)),\n",
    "\n",
    "            keras.layers.Dense(128, activation='relu'),\n",
    "\n",
    "            keras.layers.Dense(\n",
    "                output_dim,\n",
    "                activation='softmax'\n",
    "            )\n",
    "        ])\n",
    "\n",
    "        model.compile(\n",
    "            loss='categorical_crossentropy', \n",
    "            optimizer=optimizer, \n",
    "            metrics=['accuracy']\n",
    "        )\n",
    "\n",
    "        return model\n",
    "\n",
    "    _inst = _class(\n",
    "        _build_model, \n",
    "        *args, **kwargs\n",
    "    )\n",
    "    return _inst"
   ]
  },
  {
   "cell_type": "markdown",
   "metadata": {},
   "source": [
    "#### Predictor (Vocab From Sample)"
   ]
  },
  {
   "cell_type": "code",
   "execution_count": 25,
   "metadata": {},
   "outputs": [],
   "source": [
    "def _model_nn(X, y):\n",
    "    encoder = KerasTextVectorizer(\n",
    "        max_tokens=None,\n",
    "        standardize='lower_and_strip_punctuation',\n",
    "        split='whitespace',\n",
    "        #ngrams=(1, 2),\n",
    "        output_mode='int', # TODO tf_idf\n",
    "        #sparse=True,\n",
    "    )\n",
    "\n",
    "    X = encoder.fit_transform(X)\n",
    "\n",
    "    clf = KerasTextClassifier(\n",
    "        callbacks=[\n",
    "            #keras.callbacks.EarlyStopping(\n",
    "            #    monitor='loss', \n",
    "            #    patience=3, \n",
    "            #    min_delta=0.0001\n",
    "            #),\n",
    "            #keras.callbacks.LambdaCallback(\n",
    "            #    on_train_end=lambda logs: print(logs)\n",
    "            #)\n",
    "        ]\n",
    "    )\n",
    "    clf.initialize(X, y)\n",
    "    \n",
    "    model = skl.model_selection.GridSearchCV(\n",
    "        clf,\n",
    "        param_grid={\n",
    "            'epochs': [5],\n",
    "            'batch_size': [1024]\n",
    "        },\n",
    "        cv=skl.model_selection.RepeatedStratifiedKFold(\n",
    "            n_splits=3, n_repeats=1\n",
    "        ),\n",
    "        #cv=skl.model_selection.KFold(\n",
    "        #    n_splits=5, shuffle=True\n",
    "        #),\n",
    "        #n_jobs=-1,\n",
    "        verbose=3\n",
    "    )\n",
    "\n",
    "    model.fit(X, y)\n",
    "\n",
    "    return model"
   ]
  },
  {
   "cell_type": "code",
   "execution_count": 28,
   "metadata": {},
   "outputs": [],
   "source": [
    "# TODO\n",
    "df_scripts_para_ = df_scripts_para#.sample(2000)\n",
    "model_nn = _model_nn(\n",
    "    X=df_scripts_para_['script_paragraphs'],\n",
    "    y=df_scripts_para_[['script_name']]\n",
    ")"
   ]
  },
  {
   "cell_type": "code",
   "execution_count": null,
   "metadata": {},
   "outputs": [],
   "source": []
  }
 ],
 "metadata": {
  "kernelspec": {
   "display_name": "base",
   "language": "python",
   "name": "python3"
  },
  "language_info": {
   "codemirror_mode": {
    "name": "ipython",
    "version": 3
   },
   "file_extension": ".py",
   "mimetype": "text/x-python",
   "name": "python",
   "nbconvert_exporter": "python",
   "pygments_lexer": "ipython3",
   "version": "3.9.5"
  },
  "orig_nbformat": 4,
  "vscode": {
   "interpreter": {
    "hash": "d4d1e4263499bec80672ea0156c357c1ee493ec2b1c70f0acce89fc37c4a6abe"
   }
  }
 },
 "nbformat": 4,
 "nbformat_minor": 2
}
