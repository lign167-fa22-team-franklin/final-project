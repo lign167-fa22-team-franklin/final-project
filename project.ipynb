{
 "cells": [
  {
   "cell_type": "code",
   "execution_count": 17,
   "metadata": {},
   "outputs": [
    {
     "name": "stdout",
     "output_type": "stream",
     "text": [
      "\u001b[31mERROR: pip's dependency resolver does not currently take into account all the packages that are installed. This behaviour is the source of the following dependency conflicts.\n",
      "tensorflow-gpu 2.6.0 requires numpy~=1.19.2, but you have numpy 1.22.4 which is incompatible.\u001b[0m\n"
     ]
    }
   ],
   "source": [
    "!{__import__('sys').executable} -m pip install --quiet --upgrade -r requirements.txt"
   ]
  },
  {
   "cell_type": "code",
   "execution_count": 1,
   "metadata": {},
   "outputs": [],
   "source": [
    "session_storage = 'downloads'\n",
    "\n",
    "import os\n",
    "os.makedirs(session_storage, exist_ok=True)"
   ]
  },
  {
   "cell_type": "code",
   "execution_count": 2,
   "metadata": {},
   "outputs": [],
   "source": [
    "import fsspec\n",
    "\n",
    "fs_dataset = fsspec.filesystem(\n",
    "    'simplecache', \n",
    "    target_protocol='https', \n",
    "    cache_storage=session_storage,\n",
    ")"
   ]
  },
  {
   "cell_type": "code",
   "execution_count": 3,
   "metadata": {},
   "outputs": [],
   "source": [
    "import pandas as pd\n",
    "'''\n",
    "import swifter\n",
    "swifter.set_defaults(\n",
    "    npartitions=None,\n",
    "    dask_thres=1,\n",
    "    scheduler='processes',\n",
    "    progress_bar=True,\n",
    "    progress_bar_desc=None,\n",
    "    allow_dask_on_strings=True,\n",
    "    force_parallel=False\n",
    ")\n",
    "'''\n",
    "\n",
    "import sklearn as skl\n",
    "import sklearn.base\n",
    "import sklearn.compose\n",
    "#import sklearn.ensemble\n",
    "import sklearn.feature_extraction\n",
    "import sklearn.linear_model\n",
    "import sklearn.metrics\n",
    "import sklearn.model_selection\n",
    "import sklearn.pipeline\n",
    "import sklearn.svm\n",
    "\n",
    "import xgboost\n",
    "\n",
    "import numpy as np"
   ]
  },
  {
   "cell_type": "code",
   "execution_count": 4,
   "metadata": {},
   "outputs": [
    {
     "name": "stderr",
     "output_type": "stream",
     "text": [
      "Intel(R) Extension for Scikit-learn* enabled (https://github.com/intel/scikit-learn-intelex)\n"
     ]
    }
   ],
   "source": [
    "import sklearnex\n",
    "sklearnex.patch_sklearn()"
   ]
  },
  {
   "cell_type": "markdown",
   "metadata": {},
   "source": [
    "## Dataset"
   ]
  },
  {
   "cell_type": "code",
   "execution_count": 10,
   "metadata": {},
   "outputs": [
    {
     "data": {
      "text/plain": [
       "{None: <function fsspec.compression.noop_file(file, mode, **kwargs)>,\n",
       " 'zip': <function fsspec.compression.unzip(infile, mode='rb', filename=None, **kwargs)>,\n",
       " 'bz2': bz2.BZ2File,\n",
       " 'gzip': <function fsspec.compression.<lambda>(f, **kwargs)>,\n",
       " 'lzma': lzma.LZMAFile,\n",
       " 'xz': lzma.LZMAFile}"
      ]
     },
     "execution_count": 10,
     "metadata": {},
     "output_type": "execute_result"
    }
   ],
   "source": [
    "fsspec.compression.compr"
   ]
  },
  {
   "cell_type": "code",
   "execution_count": 142,
   "metadata": {},
   "outputs": [
    {
     "data": {
      "text/plain": [
       "{'key': 'PL',\n",
       " 'value': ' huge step in her relationship: \\nTennesha reveals to the group that she and\\n\\n'}"
      ]
     },
     "execution_count": 142,
     "metadata": {},
     "output_type": "execute_result"
    }
   ],
   "source": [
    "import re\n",
    "re.match(fr'''(?P<key>[^:]*):(?P<value>.*)''', 'PL: huge step in her relationship: \\nTennesha reveals to the group that she and\\n\\n', flags=re.DOTALL).groupdict()"
   ]
  },
  {
   "cell_type": "code",
   "execution_count": null,
   "metadata": {},
   "outputs": [],
   "source": [
    "class IMDBList:\n",
    "    def __init__(self, fo):\n",
    "        self.fo = fo\n",
    "\n",
    "    def parse(self):\n",
    "        while True:\n",
    "            l = self.fo.\n",
    "        pass\n",
    "\n",
    "\n"
   ]
  },
  {
   "cell_type": "code",
   "execution_count": 156,
   "metadata": {},
   "outputs": [],
   "source": [
    "import re\n",
    "\n",
    "def _parse_imdb_list(fo, n_jobs=-1):\n",
    "    pattern = re.compile(\n",
    "        fr'^(?P<key>[^:]+):\\s+(?P<value>.*)$', \n",
    "        flags=re.DOTALL\n",
    "    )\n",
    "    for l in fo.read().splitlines():\n",
    "        m = re.match(pattern, l)\n",
    "        if not m:\n",
    "            continue\n",
    "        yield m.groupdict()"
   ]
  },
  {
   "cell_type": "code",
   "execution_count": 157,
   "metadata": {},
   "outputs": [],
   "source": [
    "dataset_plots = None\n",
    "with fs_dataset.open(\n",
    "    'https://ftp.funet.fi/pub/mirrors/ftp.imdb.com/pub/frozendata/plot.list.gz', \n",
    "    compression='gzip', \n",
    "    mode='rt', errors='ignore'\n",
    ") as f:\n",
    "    def _parse_imdb_list_plot(f):\n",
    "        r = None\n",
    "\n",
    "        for entry in _parse_imdb_list(f):\n",
    "            # \n",
    "            if entry['key'] == 'MV':\n",
    "                if r is not None:\n",
    "                    yield r\n",
    "\n",
    "                r = dict()\n",
    "                r['name'] = entry['value']\n",
    "\n",
    "            if r is None:\n",
    "                # error\n",
    "                continue\n",
    "\n",
    "            if entry['key'] == 'BY':\n",
    "                r.setdefault('authors', [])\n",
    "                r['authors'].append(entry['value'])\n",
    "\n",
    "            if entry['key'] == 'PL':\n",
    "                r.setdefault('plot_text', [])\n",
    "                r['plot_text'].append(entry['value'])\n",
    "\n",
    "    dataset_plots = pd.DataFrame(\n",
    "        list(_parse_imdb_list_plot(f))\n",
    "    )"
   ]
  },
  {
   "cell_type": "code",
   "execution_count": 158,
   "metadata": {},
   "outputs": [
    {
     "data": {
      "text/plain": [
       "['#7dayslater is an interactive comedy series featuring an ensemble cast of',\n",
       " 'YouTube celebrities. Each week the audience writes the brief via social',\n",
       " 'media for an all-new episode featuring a well-known guest-star. Seven days',\n",
       " \"later that week's episode premieres on TV and across multiple platforms.\"]"
      ]
     },
     "execution_count": 158,
     "metadata": {},
     "output_type": "execute_result"
    }
   ],
   "source": [
    "dataset_plots.iloc[0]['plot_text']"
   ]
  },
  {
   "cell_type": "code",
   "execution_count": 160,
   "metadata": {},
   "outputs": [
    {
     "name": "stdout",
     "output_type": "stream",
     "text": [
      "<class 'pandas.core.frame.DataFrame'>\n",
      "RangeIndex: 596426 entries, 0 to 596425\n",
      "Data columns (total 3 columns):\n",
      " #   Column     Non-Null Count   Dtype \n",
      "---  ------     --------------   ----- \n",
      " 0   name       596426 non-null  object\n",
      " 1   plot_text  596426 non-null  object\n",
      " 2   authors    506486 non-null  object\n",
      "dtypes: object(3)\n",
      "memory usage: 13.7+ MB\n"
     ]
    }
   ],
   "source": [
    "dataset_plots.info()"
   ]
  },
  {
   "cell_type": "code",
   "execution_count": null,
   "metadata": {},
   "outputs": [],
   "source": []
  }
 ],
 "metadata": {
  "kernelspec": {
   "display_name": "base",
   "language": "python",
   "name": "python3"
  },
  "language_info": {
   "codemirror_mode": {
    "name": "ipython",
    "version": 3
   },
   "file_extension": ".py",
   "mimetype": "text/x-python",
   "name": "python",
   "nbconvert_exporter": "python",
   "pygments_lexer": "ipython3",
   "version": "3.9.5"
  },
  "orig_nbformat": 4,
  "vscode": {
   "interpreter": {
    "hash": "d4d1e4263499bec80672ea0156c357c1ee493ec2b1c70f0acce89fc37c4a6abe"
   }
  }
 },
 "nbformat": 4,
 "nbformat_minor": 2
}
