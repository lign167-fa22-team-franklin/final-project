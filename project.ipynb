{
 "cells": [
  {
   "cell_type": "code",
   "execution_count": 3,
   "metadata": {},
   "outputs": [],
   "source": [
    "%alias package {__import__('sys').executable} -m pip install --quiet --upgrade --upgrade-strategy eager %l"
   ]
  },
  {
   "cell_type": "code",
   "execution_count": 4,
   "metadata": {
    "id": "rU_Mxyr64tA9"
   },
   "outputs": [],
   "source": [
    "session_storage = 'downloads'\n",
    "\n",
    "import os\n",
    "os.makedirs(session_storage, exist_ok=True)"
   ]
  },
  {
   "cell_type": "code",
   "execution_count": 5,
   "metadata": {
    "id": "mmMz4GWV4tA9"
   },
   "outputs": [],
   "source": [
    "%package fsspec\n",
    "\n",
    "import fsspec\n",
    "\n",
    "fs_dataset = fsspec.filesystem(\n",
    "    'simplecache', \n",
    "    target_protocol='https', \n",
    "    cache_storage=session_storage\n",
    ")"
   ]
  },
  {
   "cell_type": "code",
   "execution_count": 6,
   "metadata": {
    "id": "wSh2EXOe4tA9"
   },
   "outputs": [],
   "source": [
    "%package numpy pandas \n",
    "\n",
    "import numpy as np\n",
    "import pandas as pd\n",
    "'''\n",
    "%package swifter\n",
    "import swifter\n",
    "swifter.set_defaults(\n",
    "    npartitions=None,\n",
    "    dask_thres=1,\n",
    "    scheduler='processes',\n",
    "    progress_bar=True,\n",
    "    progress_bar_desc=None,\n",
    "    allow_dask_on_strings=True,\n",
    "    force_parallel=False\n",
    ")\n",
    "'''\n",
    "\n",
    "%package scikit-learn==1.1.3\n",
    "import sklearn as skl\n",
    "import sklearn.base\n",
    "import sklearn.compose\n",
    "#import sklearn.ensemble\n",
    "import sklearn.feature_extraction\n",
    "import sklearn.linear_model\n",
    "import sklearn.metrics\n",
    "import sklearn.model_selection\n",
    "import sklearn.pipeline\n",
    "#import sklearn.svm\n",
    "\n",
    "#%package scikit-learn-intelex\n",
    "#import sklearnex\n",
    "#sklearnex.patch_sklearn()\n",
    "\n",
    "#%package xgboost\n",
    "#import xgboost"
   ]
  },
  {
   "cell_type": "code",
   "execution_count": 7,
   "metadata": {},
   "outputs": [
    {
     "name": "stderr",
     "output_type": "stream",
     "text": [
      "2022-12-09 23:54:21.014538: I tensorflow/core/platform/cpu_feature_guard.cc:193] This TensorFlow binary is optimized with oneAPI Deep Neural Network Library (oneDNN) to use the following CPU instructions in performance-critical operations:  AVX2 AVX512F AVX512_VNNI FMA\n",
      "To enable them in other operations, rebuild TensorFlow with the appropriate compiler flags.\n",
      "2022-12-09 23:54:21.170587: I tensorflow/core/util/port.cc:104] oneDNN custom operations are on. You may see slightly different numerical results due to floating-point round-off errors from different computation orders. To turn them off, set the environment variable `TF_ENABLE_ONEDNN_OPTS=0`.\n",
      "2022-12-09 23:54:21.850997: W tensorflow/compiler/xla/stream_executor/platform/default/dso_loader.cc:64] Could not load dynamic library 'libnvinfer.so.7'; dlerror: libnvinfer.so.7: cannot open shared object file: No such file or directory; LD_LIBRARY_PATH: /usr/local/nvidia/lib:/usr/local/nvidia/lib64:/opt/conda/lib/:/opt/conda/lib/:/opt/conda/lib/\n",
      "2022-12-09 23:54:21.851071: W tensorflow/compiler/xla/stream_executor/platform/default/dso_loader.cc:64] Could not load dynamic library 'libnvinfer_plugin.so.7'; dlerror: libnvinfer_plugin.so.7: cannot open shared object file: No such file or directory; LD_LIBRARY_PATH: /usr/local/nvidia/lib:/usr/local/nvidia/lib64:/opt/conda/lib/:/opt/conda/lib/:/opt/conda/lib/\n",
      "2022-12-09 23:54:21.851079: W tensorflow/compiler/tf2tensorrt/utils/py_utils.cc:38] TF-TRT Warning: Cannot dlopen some TensorRT libraries. If you would like to use Nvidia GPU with TensorRT, please make sure the missing libraries mentioned above are installed properly.\n"
     ]
    }
   ],
   "source": [
    "%package tensorflow tensorflow-gpu\n",
    "\n",
    "import tensorflow as tf\n",
    "from tensorflow import keras as keras\n",
    "\n",
    "from tensorflow.python.ops.numpy_ops import np_config\n",
    "np_config.enable_numpy_behavior()"
   ]
  },
  {
   "cell_type": "code",
   "execution_count": 8,
   "metadata": {},
   "outputs": [
    {
     "name": "stderr",
     "output_type": "stream",
     "text": [
      "/opt/conda/lib/python3.9/site-packages/tensorflow_addons/utils/ensure_tf_install.py:53: UserWarning: Tensorflow Addons supports using Python ops for all Tensorflow versions above or equal to 2.8.0 and strictly below 2.11.0 (nightly versions are not supported). \n",
      " The versions of TensorFlow you are currently using is 2.11.0 and is not supported. \n",
      "Some things might work, some things might not.\n",
      "If you were to encounter a bug, do not file an issue.\n",
      "If you want to make sure you're using a tested and supported configuration, either change the TensorFlow version or the TensorFlow Addons's version. \n",
      "You can find the compatibility matrix in TensorFlow Addon's readme:\n",
      "https://github.com/tensorflow/addons\n",
      "  warnings.warn(\n"
     ]
    },
    {
     "name": "stdout",
     "output_type": "stream",
     "text": [
      "\u001b[31mERROR: pip's dependency resolver does not currently take into account all the packages that are installed. This behaviour is the source of the following dependency conflicts.\n",
      "tensorflow 2.11.0 requires protobuf<3.20,>=3.9.2, but you have protobuf 3.20.3 which is incompatible.\n",
      "tensorflow-gpu 2.11.0 requires protobuf<3.20,>=3.9.2, but you have protobuf 3.20.3 which is incompatible.\u001b[0m\n"
     ]
    }
   ],
   "source": [
    "%package tensorflow-addons\n",
    "import tensorflow_addons as tfa\n",
    "\n",
    "%package tensorboard\n",
    "%load_ext tensorboard "
   ]
  },
  {
   "cell_type": "code",
   "execution_count": 9,
   "metadata": {},
   "outputs": [],
   "source": [
    "%package scikeras\n",
    "\n",
    "import scikeras as skeras\n",
    "import scikeras.wrappers"
   ]
  },
  {
   "cell_type": "code",
   "execution_count": 10,
   "metadata": {},
   "outputs": [],
   "source": [
    "import matplotlib as mpl\n",
    "%matplotlib inline\n",
    "%config InlineBackend.figure_formats = ['svg']\n",
    "\n",
    "import matplotlib.pyplot as plt\n",
    "def set_constrained_layout(plt):\n",
    "    plt.rcParams['figure.constrained_layout.use'] = True\n",
    "set_constrained_layout(plt)\n",
    "\n",
    "plt.style.use('default')"
   ]
  },
  {
   "cell_type": "code",
   "execution_count": 11,
   "metadata": {},
   "outputs": [],
   "source": [
    "import matplotlib\n",
    "import matplotlib.pyplot as plt\n",
    "import numpy as np\n",
    "\n",
    "def subplots(\n",
    "    n, \n",
    "    ncols = 1, visible = False, \n",
    "    *args, **kwargs\n",
    "):\n",
    "    fig, axs = plt.subplots(\n",
    "        *args, **kwargs,\n",
    "        ncols=ncols, \n",
    "        nrows=int(np.ceil(n / ncols))\n",
    "    )\n",
    "    for ax in axs.flatten():\n",
    "        ax.set(visible=visible)\n",
    "    return fig, axs"
   ]
  },
  {
   "cell_type": "markdown",
   "metadata": {},
   "source": [
    "## Dataset"
   ]
  },
  {
   "cell_type": "code",
   "execution_count": 12,
   "metadata": {},
   "outputs": [],
   "source": [
    "# TODO\n",
    "df_scripts = pd.read_pickle('./dataset.pkl', compression='gzip')"
   ]
  },
  {
   "cell_type": "code",
   "execution_count": 13,
   "metadata": {},
   "outputs": [
    {
     "data": {
      "text/html": [
       "<div>\n",
       "<style scoped>\n",
       "    .dataframe tbody tr th:only-of-type {\n",
       "        vertical-align: middle;\n",
       "    }\n",
       "\n",
       "    .dataframe tbody tr th {\n",
       "        vertical-align: top;\n",
       "    }\n",
       "\n",
       "    .dataframe thead th {\n",
       "        text-align: right;\n",
       "    }\n",
       "</style>\n",
       "<table border=\"1\" class=\"dataframe\">\n",
       "  <thead>\n",
       "    <tr style=\"text-align: right;\">\n",
       "      <th></th>\n",
       "      <th>movie_name</th>\n",
       "      <th>script_text</th>\n",
       "    </tr>\n",
       "  </thead>\n",
       "  <tbody>\n",
       "    <tr>\n",
       "      <th>0</th>\n",
       "      <td>Reservoir Dogs</td>\n",
       "      <td>[\\r\\n\\r\\n\\r\\n\\r\\n\\r\\n\\r\\n                     ...</td>\n",
       "    </tr>\n",
       "    <tr>\n",
       "      <th>1</th>\n",
       "      <td>How to Train Your Dragon</td>\n",
       "      <td>[\\r\\n\\r\\n\\r\\n                            HOW T...</td>\n",
       "    </tr>\n",
       "    <tr>\n",
       "      <th>2</th>\n",
       "      <td>Scream</td>\n",
       "      <td>[                                \\r\\n         ...</td>\n",
       "    </tr>\n",
       "    <tr>\n",
       "      <th>3</th>\n",
       "      <td>Groundhog Day</td>\n",
       "      <td>[\\r\\n\\r\\n \\r\\n                                ...</td>\n",
       "    </tr>\n",
       "    <tr>\n",
       "      <th>4</th>\n",
       "      <td>Black Panther</td>\n",
       "      <td>[\\r\\n\\r\\n\\r\\n \\r\\n                          BL...</td>\n",
       "    </tr>\n",
       "    <tr>\n",
       "      <th>...</th>\n",
       "      <td>...</td>\n",
       "      <td>...</td>\n",
       "    </tr>\n",
       "    <tr>\n",
       "      <th>1204</th>\n",
       "      <td>You've Got Mail</td>\n",
       "      <td>[\\r\\n\\r\\nYou've Got Mail\\r\\n\\r\\n\\r\\n\\r\\n\\t\\t\\t...</td>\n",
       "    </tr>\n",
       "    <tr>\n",
       "      <th>1205</th>\n",
       "      <td>Youth in Revolt</td>\n",
       "      <td>[ \\r\\n          \\r\\n\\r\\n                      ...</td>\n",
       "    </tr>\n",
       "    <tr>\n",
       "      <th>1206</th>\n",
       "      <td>Zero Dark Thirty</td>\n",
       "      <td>[\\r\\n\\r\\n \\r\\n                                ...</td>\n",
       "    </tr>\n",
       "    <tr>\n",
       "      <th>1207</th>\n",
       "      <td>Zerophilia</td>\n",
       "      <td>[\\r\\n\\r\\n\\r\\n\\r\\n                             ...</td>\n",
       "    </tr>\n",
       "    <tr>\n",
       "      <th>1208</th>\n",
       "      <td>Zootopia</td>\n",
       "      <td>[\\r\\n\\r\\n\\r\\n\\r\\n                            Z...</td>\n",
       "    </tr>\n",
       "  </tbody>\n",
       "</table>\n",
       "<p>1209 rows × 2 columns</p>\n",
       "</div>"
      ],
      "text/plain": [
       "                    movie_name  \\\n",
       "0               Reservoir Dogs   \n",
       "1     How to Train Your Dragon   \n",
       "2                       Scream   \n",
       "3                Groundhog Day   \n",
       "4                Black Panther   \n",
       "...                        ...   \n",
       "1204           You've Got Mail   \n",
       "1205           Youth in Revolt   \n",
       "1206          Zero Dark Thirty   \n",
       "1207                Zerophilia   \n",
       "1208                  Zootopia   \n",
       "\n",
       "                                            script_text  \n",
       "0     [\\r\\n\\r\\n\\r\\n\\r\\n\\r\\n\\r\\n                     ...  \n",
       "1     [\\r\\n\\r\\n\\r\\n                            HOW T...  \n",
       "2     [                                \\r\\n         ...  \n",
       "3     [\\r\\n\\r\\n \\r\\n                                ...  \n",
       "4     [\\r\\n\\r\\n\\r\\n \\r\\n                          BL...  \n",
       "...                                                 ...  \n",
       "1204  [\\r\\n\\r\\nYou've Got Mail\\r\\n\\r\\n\\r\\n\\r\\n\\t\\t\\t...  \n",
       "1205  [ \\r\\n          \\r\\n\\r\\n                      ...  \n",
       "1206  [\\r\\n\\r\\n \\r\\n                                ...  \n",
       "1207  [\\r\\n\\r\\n\\r\\n\\r\\n                             ...  \n",
       "1208  [\\r\\n\\r\\n\\r\\n\\r\\n                            Z...  \n",
       "\n",
       "[1209 rows x 2 columns]"
      ]
     },
     "execution_count": 13,
     "metadata": {},
     "output_type": "execute_result"
    }
   ],
   "source": [
    "df_scripts"
   ]
  },
  {
   "cell_type": "code",
   "execution_count": 14,
   "metadata": {},
   "outputs": [],
   "source": [
    "df_scripts = df_scripts.astype({\n",
    "    'movie_name': 'category'\n",
    "})"
   ]
  },
  {
   "cell_type": "code",
   "execution_count": 15,
   "metadata": {},
   "outputs": [],
   "source": [
    "df_scripts = df_scripts.explode('script_text', ignore_index=True)"
   ]
  },
  {
   "cell_type": "code",
   "execution_count": 16,
   "metadata": {},
   "outputs": [],
   "source": [
    "df_scripts.dropna(inplace=True)\n",
    "df_scripts.reset_index(drop=True, inplace=True)"
   ]
  },
  {
   "cell_type": "code",
   "execution_count": 17,
   "metadata": {},
   "outputs": [
    {
     "data": {
      "text/html": [
       "<div>\n",
       "<style scoped>\n",
       "    .dataframe tbody tr th:only-of-type {\n",
       "        vertical-align: middle;\n",
       "    }\n",
       "\n",
       "    .dataframe tbody tr th {\n",
       "        vertical-align: top;\n",
       "    }\n",
       "\n",
       "    .dataframe thead th {\n",
       "        text-align: right;\n",
       "    }\n",
       "</style>\n",
       "<table border=\"1\" class=\"dataframe\">\n",
       "  <thead>\n",
       "    <tr style=\"text-align: right;\">\n",
       "      <th></th>\n",
       "      <th>movie_name</th>\n",
       "      <th>script_text</th>\n",
       "    </tr>\n",
       "  </thead>\n",
       "  <tbody>\n",
       "    <tr>\n",
       "      <th>0</th>\n",
       "      <td>Reservoir Dogs</td>\n",
       "      <td>\\r\\n\\r\\n\\r\\n\\r\\n\\r\\n\\r\\n                      ...</td>\n",
       "    </tr>\n",
       "    <tr>\n",
       "      <th>1</th>\n",
       "      <td>How to Train Your Dragon</td>\n",
       "      <td>\\r\\n\\r\\n\\r\\n                            HOW TO...</td>\n",
       "    </tr>\n",
       "    <tr>\n",
       "      <th>2</th>\n",
       "      <td>Scream</td>\n",
       "      <td>\\r\\n          ...</td>\n",
       "    </tr>\n",
       "    <tr>\n",
       "      <th>3</th>\n",
       "      <td>Groundhog Day</td>\n",
       "      <td>\\r\\n\\r\\n \\r\\n                                 ...</td>\n",
       "    </tr>\n",
       "    <tr>\n",
       "      <th>4</th>\n",
       "      <td>Black Panther</td>\n",
       "      <td>\\r\\n\\r\\n\\r\\n \\r\\n                          BLA...</td>\n",
       "    </tr>\n",
       "    <tr>\n",
       "      <th>...</th>\n",
       "      <td>...</td>\n",
       "      <td>...</td>\n",
       "    </tr>\n",
       "    <tr>\n",
       "      <th>1172</th>\n",
       "      <td>You've Got Mail</td>\n",
       "      <td>\\r\\n\\r\\nYou've Got Mail\\r\\n\\r\\n\\r\\n\\r\\n\\t\\t\\tY...</td>\n",
       "    </tr>\n",
       "    <tr>\n",
       "      <th>1173</th>\n",
       "      <td>Youth in Revolt</td>\n",
       "      <td>\\r\\n          \\r\\n\\r\\n                       ...</td>\n",
       "    </tr>\n",
       "    <tr>\n",
       "      <th>1174</th>\n",
       "      <td>Zero Dark Thirty</td>\n",
       "      <td>\\r\\n\\r\\n \\r\\n                                 ...</td>\n",
       "    </tr>\n",
       "    <tr>\n",
       "      <th>1175</th>\n",
       "      <td>Zerophilia</td>\n",
       "      <td>\\r\\n\\r\\n\\r\\n\\r\\n                              ...</td>\n",
       "    </tr>\n",
       "    <tr>\n",
       "      <th>1176</th>\n",
       "      <td>Zootopia</td>\n",
       "      <td>\\r\\n\\r\\n\\r\\n\\r\\n                            ZO...</td>\n",
       "    </tr>\n",
       "  </tbody>\n",
       "</table>\n",
       "<p>1177 rows × 2 columns</p>\n",
       "</div>"
      ],
      "text/plain": [
       "                    movie_name  \\\n",
       "0               Reservoir Dogs   \n",
       "1     How to Train Your Dragon   \n",
       "2                       Scream   \n",
       "3                Groundhog Day   \n",
       "4                Black Panther   \n",
       "...                        ...   \n",
       "1172           You've Got Mail   \n",
       "1173           Youth in Revolt   \n",
       "1174          Zero Dark Thirty   \n",
       "1175                Zerophilia   \n",
       "1176                  Zootopia   \n",
       "\n",
       "                                            script_text  \n",
       "0     \\r\\n\\r\\n\\r\\n\\r\\n\\r\\n\\r\\n                      ...  \n",
       "1     \\r\\n\\r\\n\\r\\n                            HOW TO...  \n",
       "2                                     \\r\\n          ...  \n",
       "3     \\r\\n\\r\\n \\r\\n                                 ...  \n",
       "4     \\r\\n\\r\\n\\r\\n \\r\\n                          BLA...  \n",
       "...                                                 ...  \n",
       "1172  \\r\\n\\r\\nYou've Got Mail\\r\\n\\r\\n\\r\\n\\r\\n\\t\\t\\tY...  \n",
       "1173   \\r\\n          \\r\\n\\r\\n                       ...  \n",
       "1174  \\r\\n\\r\\n \\r\\n                                 ...  \n",
       "1175  \\r\\n\\r\\n\\r\\n\\r\\n                              ...  \n",
       "1176  \\r\\n\\r\\n\\r\\n\\r\\n                            ZO...  \n",
       "\n",
       "[1177 rows x 2 columns]"
      ]
     },
     "execution_count": 17,
     "metadata": {},
     "output_type": "execute_result"
    }
   ],
   "source": [
    "df_scripts"
   ]
  },
  {
   "cell_type": "markdown",
   "metadata": {},
   "source": [
    "TODO\n",
    "GOAL extract the following features from texts:\n",
    "\n",
    "Feature engineering TODO list: \n",
    "- location: Named Entity Recognition\n",
    "- character: Named Entity Recognition\n",
    "    see https://keras.io/examples/nlp/ner_transformers/\n",
    "    see https://towardsdatascience.com/named-entity-recognition-ner-using-keras-bidirectional-lstm-28cd3f301f54\n",
    "- convo: ??\n",
    "\n",
    "sentence embedding?"
   ]
  },
  {
   "cell_type": "markdown",
   "metadata": {},
   "source": [
    "## Feature Engineering"
   ]
  },
  {
   "cell_type": "code",
   "execution_count": 18,
   "metadata": {},
   "outputs": [],
   "source": [
    "def str_normalize_eol(s, eol=os.linesep):\n",
    "    return str.join(eol, str.splitlines(s))"
   ]
  },
  {
   "cell_type": "code",
   "execution_count": 19,
   "metadata": {},
   "outputs": [],
   "source": [
    "%package joblib\n",
    "\n",
    "import os\n",
    "import re\n",
    "\n",
    "import joblib\n",
    "\n",
    "class ParagraphExtractor(skl.base.TransformerMixin):\n",
    "    def __init__(self,\n",
    "        eol=os.linesep,\n",
    "        eol_freq_min=2,\n",
    "        n_jobs=1\n",
    "    ):\n",
    "        self.eol = eol\n",
    "        self.eol_freq_min = eol_freq_min\n",
    "        self.n_jobs = n_jobs\n",
    "\n",
    "        self._pattern = re.compile(\n",
    "            fr'(?:{self.eol}\\s*?){{{self.eol_freq_min},}}'\n",
    "        )\n",
    "\n",
    "    def fit(self, _X, _y=None):\n",
    "        return self\n",
    "\n",
    "    def transform(self, X, _y=None):\n",
    "        def _impl_single(s):\n",
    "            nonlocal self\n",
    "            return re.split(\n",
    "                self._pattern,\n",
    "                str_normalize_eol(s, eol=self.eol)\n",
    "            )\n",
    "\n",
    "        return joblib.Parallel(n_jobs=self.n_jobs)(\n",
    "            joblib.delayed(_impl_single)(s)\n",
    "                for s in X\n",
    "        )\n",
    "\n",
    "        \n",
    "df_scripts['script_paragraphs'] = ParagraphExtractor(n_jobs=-1).fit_transform(\n",
    "    df_scripts['script_text']#.iloc[:100]\n",
    ")"
   ]
  },
  {
   "cell_type": "code",
   "execution_count": 20,
   "metadata": {},
   "outputs": [],
   "source": [
    "df_scripts_para = (\n",
    "    df_scripts[['movie_name', 'script_paragraphs']]\n",
    "        .explode('script_paragraphs', ignore_index=True)\n",
    ")"
   ]
  },
  {
   "cell_type": "code",
   "execution_count": 21,
   "metadata": {},
   "outputs": [],
   "source": [
    "df_scripts_para['script_paragraphs'] = (\n",
    "    df_scripts_para['script_paragraphs'].str.strip()\n",
    ")"
   ]
  },
  {
   "cell_type": "code",
   "execution_count": 22,
   "metadata": {},
   "outputs": [],
   "source": [
    "df_scripts_para = df_scripts_para[\n",
    "    # non-empty strings\n",
    "    df_scripts_para['script_paragraphs'].astype(bool)\n",
    "]"
   ]
  },
  {
   "cell_type": "code",
   "execution_count": 23,
   "metadata": {},
   "outputs": [],
   "source": [
    "df_scripts_para['movie_name'] = (\n",
    "    df_scripts_para['movie_name']\n",
    "        .cat.remove_unused_categories()\n",
    ")"
   ]
  },
  {
   "cell_type": "code",
   "execution_count": 24,
   "metadata": {},
   "outputs": [
    {
     "data": {
      "text/html": [
       "<div>\n",
       "<style scoped>\n",
       "    .dataframe tbody tr th:only-of-type {\n",
       "        vertical-align: middle;\n",
       "    }\n",
       "\n",
       "    .dataframe tbody tr th {\n",
       "        vertical-align: top;\n",
       "    }\n",
       "\n",
       "    .dataframe thead th {\n",
       "        text-align: right;\n",
       "    }\n",
       "</style>\n",
       "<table border=\"1\" class=\"dataframe\">\n",
       "  <thead>\n",
       "    <tr style=\"text-align: right;\">\n",
       "      <th></th>\n",
       "      <th>movie_name</th>\n",
       "      <th>script_paragraphs</th>\n",
       "    </tr>\n",
       "  </thead>\n",
       "  <tbody>\n",
       "    <tr>\n",
       "      <th>1</th>\n",
       "      <td>Reservoir Dogs</td>\n",
       "      <td>Quentin Tarantino's</td>\n",
       "    </tr>\n",
       "    <tr>\n",
       "      <th>2</th>\n",
       "      <td>Reservoir Dogs</td>\n",
       "      <td>R E S E R V O I R   D O G S</td>\n",
       "    </tr>\n",
       "    <tr>\n",
       "      <th>3</th>\n",
       "      <td>Reservoir Dogs</td>\n",
       "      <td>October 22, 1990</td>\n",
       "    </tr>\n",
       "    <tr>\n",
       "      <th>4</th>\n",
       "      <td>Reservoir Dogs</td>\n",
       "      <td>-----------------</td>\n",
       "    </tr>\n",
       "    <tr>\n",
       "      <th>5</th>\n",
       "      <td>Reservoir Dogs</td>\n",
       "      <td>This movie is dedicated to these following sou...</td>\n",
       "    </tr>\n",
       "    <tr>\n",
       "      <th>...</th>\n",
       "      <td>...</td>\n",
       "      <td>...</td>\n",
       "    </tr>\n",
       "    <tr>\n",
       "      <th>1999878</th>\n",
       "      <td>Zootopia</td>\n",
       "      <td>NICK\\n          Flash? Flash? Hundred yard dash?!</td>\n",
       "    </tr>\n",
       "    <tr>\n",
       "      <th>1999879</th>\n",
       "      <td>Zootopia</td>\n",
       "      <td>Yep. It's Flash the sloth.</td>\n",
       "    </tr>\n",
       "    <tr>\n",
       "      <th>1999880</th>\n",
       "      <td>Zootopia</td>\n",
       "      <td>FLASH\\n              (several beats)\\n        ...</td>\n",
       "    </tr>\n",
       "    <tr>\n",
       "      <th>1999881</th>\n",
       "      <td>Zootopia</td>\n",
       "      <td>CUT TO BLACK:</td>\n",
       "    </tr>\n",
       "    <tr>\n",
       "      <th>1999882</th>\n",
       "      <td>Zootopia</td>\n",
       "      <td>THE END</td>\n",
       "    </tr>\n",
       "  </tbody>\n",
       "</table>\n",
       "<p>1905869 rows × 2 columns</p>\n",
       "</div>"
      ],
      "text/plain": [
       "             movie_name                                  script_paragraphs\n",
       "1        Reservoir Dogs                                Quentin Tarantino's\n",
       "2        Reservoir Dogs                        R E S E R V O I R   D O G S\n",
       "3        Reservoir Dogs                                   October 22, 1990\n",
       "4        Reservoir Dogs                                  -----------------\n",
       "5        Reservoir Dogs  This movie is dedicated to these following sou...\n",
       "...                 ...                                                ...\n",
       "1999878        Zootopia  NICK\\n          Flash? Flash? Hundred yard dash?!\n",
       "1999879        Zootopia                         Yep. It's Flash the sloth.\n",
       "1999880        Zootopia  FLASH\\n              (several beats)\\n        ...\n",
       "1999881        Zootopia                                      CUT TO BLACK:\n",
       "1999882        Zootopia                                            THE END\n",
       "\n",
       "[1905869 rows x 2 columns]"
      ]
     },
     "execution_count": 24,
     "metadata": {},
     "output_type": "execute_result"
    }
   ],
   "source": [
    "df_scripts_para"
   ]
  },
  {
   "cell_type": "code",
   "execution_count": 25,
   "metadata": {},
   "outputs": [],
   "source": [
    "import string\n",
    "\n",
    "def _str_letters(s):\n",
    "    return s.translate(\n",
    "        str.maketrans(\n",
    "            '', '', \n",
    "            string.punctuation + string.whitespace\n",
    "        )\n",
    "    )\n",
    "\n",
    "def _df_lower_letters(df):\n",
    "    return _str_letters(df.str).str.lower()\n",
    "\n",
    "df_scripts_para = df_scripts_para[\n",
    "    _df_lower_letters(df_scripts_para['movie_name'])\n",
    "        != _df_lower_letters(df_scripts_para['script_paragraphs'])\n",
    "]\n"
   ]
  },
  {
   "cell_type": "code",
   "execution_count": 26,
   "metadata": {},
   "outputs": [
    {
     "data": {
      "text/html": [
       "<div>\n",
       "<style scoped>\n",
       "    .dataframe tbody tr th:only-of-type {\n",
       "        vertical-align: middle;\n",
       "    }\n",
       "\n",
       "    .dataframe tbody tr th {\n",
       "        vertical-align: top;\n",
       "    }\n",
       "\n",
       "    .dataframe thead th {\n",
       "        text-align: right;\n",
       "    }\n",
       "</style>\n",
       "<table border=\"1\" class=\"dataframe\">\n",
       "  <thead>\n",
       "    <tr style=\"text-align: right;\">\n",
       "      <th></th>\n",
       "      <th>movie_name</th>\n",
       "      <th>script_paragraphs</th>\n",
       "    </tr>\n",
       "  </thead>\n",
       "  <tbody>\n",
       "    <tr>\n",
       "      <th>1</th>\n",
       "      <td>Reservoir Dogs</td>\n",
       "      <td>Quentin Tarantino's</td>\n",
       "    </tr>\n",
       "    <tr>\n",
       "      <th>3</th>\n",
       "      <td>Reservoir Dogs</td>\n",
       "      <td>October 22, 1990</td>\n",
       "    </tr>\n",
       "    <tr>\n",
       "      <th>4</th>\n",
       "      <td>Reservoir Dogs</td>\n",
       "      <td>-----------------</td>\n",
       "    </tr>\n",
       "    <tr>\n",
       "      <th>5</th>\n",
       "      <td>Reservoir Dogs</td>\n",
       "      <td>This movie is dedicated to these following sou...</td>\n",
       "    </tr>\n",
       "    <tr>\n",
       "      <th>6</th>\n",
       "      <td>Reservoir Dogs</td>\n",
       "      <td>inspiration:</td>\n",
       "    </tr>\n",
       "    <tr>\n",
       "      <th>...</th>\n",
       "      <td>...</td>\n",
       "      <td>...</td>\n",
       "    </tr>\n",
       "    <tr>\n",
       "      <th>1999878</th>\n",
       "      <td>Zootopia</td>\n",
       "      <td>NICK\\n          Flash? Flash? Hundred yard dash?!</td>\n",
       "    </tr>\n",
       "    <tr>\n",
       "      <th>1999879</th>\n",
       "      <td>Zootopia</td>\n",
       "      <td>Yep. It's Flash the sloth.</td>\n",
       "    </tr>\n",
       "    <tr>\n",
       "      <th>1999880</th>\n",
       "      <td>Zootopia</td>\n",
       "      <td>FLASH\\n              (several beats)\\n        ...</td>\n",
       "    </tr>\n",
       "    <tr>\n",
       "      <th>1999881</th>\n",
       "      <td>Zootopia</td>\n",
       "      <td>CUT TO BLACK:</td>\n",
       "    </tr>\n",
       "    <tr>\n",
       "      <th>1999882</th>\n",
       "      <td>Zootopia</td>\n",
       "      <td>THE END</td>\n",
       "    </tr>\n",
       "  </tbody>\n",
       "</table>\n",
       "<p>1904384 rows × 2 columns</p>\n",
       "</div>"
      ],
      "text/plain": [
       "             movie_name                                  script_paragraphs\n",
       "1        Reservoir Dogs                                Quentin Tarantino's\n",
       "3        Reservoir Dogs                                   October 22, 1990\n",
       "4        Reservoir Dogs                                  -----------------\n",
       "5        Reservoir Dogs  This movie is dedicated to these following sou...\n",
       "6        Reservoir Dogs                                       inspiration:\n",
       "...                 ...                                                ...\n",
       "1999878        Zootopia  NICK\\n          Flash? Flash? Hundred yard dash?!\n",
       "1999879        Zootopia                         Yep. It's Flash the sloth.\n",
       "1999880        Zootopia  FLASH\\n              (several beats)\\n        ...\n",
       "1999881        Zootopia                                      CUT TO BLACK:\n",
       "1999882        Zootopia                                            THE END\n",
       "\n",
       "[1904384 rows x 2 columns]"
      ]
     },
     "execution_count": 26,
     "metadata": {},
     "output_type": "execute_result"
    }
   ],
   "source": [
    "df_scripts_para"
   ]
  },
  {
   "cell_type": "code",
   "execution_count": 27,
   "metadata": {},
   "outputs": [
    {
     "data": {
      "text/html": [
       "<div>\n",
       "<style scoped>\n",
       "    .dataframe tbody tr th:only-of-type {\n",
       "        vertical-align: middle;\n",
       "    }\n",
       "\n",
       "    .dataframe tbody tr th {\n",
       "        vertical-align: top;\n",
       "    }\n",
       "\n",
       "    .dataframe thead th {\n",
       "        text-align: right;\n",
       "    }\n",
       "</style>\n",
       "<table border=\"1\" class=\"dataframe\">\n",
       "  <thead>\n",
       "    <tr style=\"text-align: right;\">\n",
       "      <th></th>\n",
       "      <th>script_paragraphs</th>\n",
       "    </tr>\n",
       "    <tr>\n",
       "      <th>movie_name</th>\n",
       "      <th></th>\n",
       "    </tr>\n",
       "  </thead>\n",
       "  <tbody>\n",
       "    <tr>\n",
       "      <th>Ace Ventura: Pet Detective</th>\n",
       "      <td>3</td>\n",
       "    </tr>\n",
       "    <tr>\n",
       "      <th>American Outlaws</th>\n",
       "      <td>1</td>\n",
       "    </tr>\n",
       "    <tr>\n",
       "      <th>Days of Heaven</th>\n",
       "      <td>2</td>\n",
       "    </tr>\n",
       "    <tr>\n",
       "      <th>Erik the Viking</th>\n",
       "      <td>2</td>\n",
       "    </tr>\n",
       "    <tr>\n",
       "      <th>Fletch</th>\n",
       "      <td>2</td>\n",
       "    </tr>\n",
       "    <tr>\n",
       "      <th>Four Feathers</th>\n",
       "      <td>8</td>\n",
       "    </tr>\n",
       "    <tr>\n",
       "      <th>Highlander: Endgame</th>\n",
       "      <td>4</td>\n",
       "    </tr>\n",
       "    <tr>\n",
       "      <th>Made</th>\n",
       "      <td>1</td>\n",
       "    </tr>\n",
       "    <tr>\n",
       "      <th>Never Been Kissed</th>\n",
       "      <td>5</td>\n",
       "    </tr>\n",
       "    <tr>\n",
       "      <th>Neverending Story, The</th>\n",
       "      <td>1</td>\n",
       "    </tr>\n",
       "    <tr>\n",
       "      <th>Omega Man</th>\n",
       "      <td>4</td>\n",
       "    </tr>\n",
       "    <tr>\n",
       "      <th>They</th>\n",
       "      <td>4</td>\n",
       "    </tr>\n",
       "    <tr>\n",
       "      <th>Training Day</th>\n",
       "      <td>1</td>\n",
       "    </tr>\n",
       "  </tbody>\n",
       "</table>\n",
       "</div>"
      ],
      "text/plain": [
       "                            script_paragraphs\n",
       "movie_name                                   \n",
       "Ace Ventura: Pet Detective                  3\n",
       "American Outlaws                            1\n",
       "Days of Heaven                              2\n",
       "Erik the Viking                             2\n",
       "Fletch                                      2\n",
       "Four Feathers                               8\n",
       "Highlander: Endgame                         4\n",
       "Made                                        1\n",
       "Never Been Kissed                           5\n",
       "Neverending Story, The                      1\n",
       "Omega Man                                   4\n",
       "They                                        4\n",
       "Training Day                                1"
      ]
     },
     "execution_count": 27,
     "metadata": {},
     "output_type": "execute_result"
    }
   ],
   "source": [
    "df_n_paras = df_scripts_para.groupby('movie_name').count()\n",
    "df_n_paras[df_n_paras['script_paragraphs'] < 10]"
   ]
  },
  {
   "cell_type": "code",
   "execution_count": 28,
   "metadata": {},
   "outputs": [],
   "source": [
    "# TODO treat these samples separately\n",
    "# e.g. those without line breaks between paragraphs \n",
    "# (so only one line break after each para)\n",
    "\n",
    "df_scripts_outliers = df_scripts_para[\n",
    "    df_scripts_para['movie_name'].isin(\n",
    "        df_n_paras[df_n_paras['script_paragraphs'] < 10].index\n",
    "    )\n",
    "]\n",
    "#df_scripts_outliers"
   ]
  },
  {
   "cell_type": "code",
   "execution_count": 29,
   "metadata": {},
   "outputs": [],
   "source": [
    "# TODO lxml to parse html\n",
    "#print(df_scripts[df_scripts['movie_name'] == 'They Script'].iloc[0]['script_text'][:10000])"
   ]
  },
  {
   "cell_type": "markdown",
   "metadata": {},
   "source": [
    "Paragraph count stats"
   ]
  },
  {
   "cell_type": "code",
   "execution_count": 32,
   "metadata": {},
   "outputs": [
    {
     "data": {
      "text/html": [
       "<div>\n",
       "<style scoped>\n",
       "    .dataframe tbody tr th:only-of-type {\n",
       "        vertical-align: middle;\n",
       "    }\n",
       "\n",
       "    .dataframe tbody tr th {\n",
       "        vertical-align: top;\n",
       "    }\n",
       "\n",
       "    .dataframe thead th {\n",
       "        text-align: right;\n",
       "    }\n",
       "</style>\n",
       "<table border=\"1\" class=\"dataframe\">\n",
       "  <thead>\n",
       "    <tr style=\"text-align: right;\">\n",
       "      <th></th>\n",
       "      <th>script_paragraphs</th>\n",
       "    </tr>\n",
       "  </thead>\n",
       "  <tbody>\n",
       "    <tr>\n",
       "      <th>count</th>\n",
       "      <td>1126.000000</td>\n",
       "    </tr>\n",
       "    <tr>\n",
       "      <th>mean</th>\n",
       "      <td>1691.282416</td>\n",
       "    </tr>\n",
       "    <tr>\n",
       "      <th>std</th>\n",
       "      <td>543.039628</td>\n",
       "    </tr>\n",
       "    <tr>\n",
       "      <th>min</th>\n",
       "      <td>1.000000</td>\n",
       "    </tr>\n",
       "    <tr>\n",
       "      <th>25%</th>\n",
       "      <td>1470.250000</td>\n",
       "    </tr>\n",
       "    <tr>\n",
       "      <th>50%</th>\n",
       "      <td>1724.500000</td>\n",
       "    </tr>\n",
       "    <tr>\n",
       "      <th>75%</th>\n",
       "      <td>1954.750000</td>\n",
       "    </tr>\n",
       "    <tr>\n",
       "      <th>max</th>\n",
       "      <td>5265.000000</td>\n",
       "    </tr>\n",
       "  </tbody>\n",
       "</table>\n",
       "</div>"
      ],
      "text/plain": [
       "       script_paragraphs\n",
       "count        1126.000000\n",
       "mean         1691.282416\n",
       "std           543.039628\n",
       "min             1.000000\n",
       "25%          1470.250000\n",
       "50%          1724.500000\n",
       "75%          1954.750000\n",
       "max          5265.000000"
      ]
     },
     "execution_count": 32,
     "metadata": {},
     "output_type": "execute_result"
    }
   ],
   "source": [
    "df_n_paras.describe()"
   ]
  },
  {
   "cell_type": "markdown",
   "metadata": {},
   "source": [
    "Paragraph count distribution"
   ]
  },
  {
   "cell_type": "code",
   "execution_count": 30,
   "metadata": {},
   "outputs": [
    {
     "data": {
      "image/svg+xml": "<?xml version=\"1.0\" encoding=\"utf-8\" standalone=\"no\"?>\n<!DOCTYPE svg PUBLIC \"-//W3C//DTD SVG 1.1//EN\"\n  \"http://www.w3.org/Graphics/SVG/1.1/DTD/svg11.dtd\">\n<svg height=\"300.259543pt\" version=\"1.1\" viewBox=\"0 0 411.285625 300.259543\" width=\"411.285625pt\" xmlns=\"http://www.w3.org/2000/svg\" xmlns:xlink=\"http://www.w3.org/1999/xlink\">\n <metadata>\n  <rdf:RDF xmlns:cc=\"http://creativecommons.org/ns#\" xmlns:dc=\"http://purl.org/dc/elements/1.1/\" xmlns:rdf=\"http://www.w3.org/1999/02/22-rdf-syntax-ns#\">\n   <cc:Work>\n    <dc:type rdf:resource=\"http://purl.org/dc/dcmitype/StillImage\"/>\n    <dc:date>2022-12-09T23:54:57.539991</dc:date>\n    <dc:format>image/svg+xml</dc:format>\n    <dc:creator>\n     <cc:Agent>\n      <dc:title>Matplotlib v3.4.2, https://matplotlib.org/</dc:title>\n     </cc:Agent>\n    </dc:creator>\n   </cc:Work>\n  </rdf:RDF>\n </metadata>\n <defs>\n  <style type=\"text/css\">*{stroke-linecap:butt;stroke-linejoin:round;}</style>\n </defs>\n <g id=\"figure_1\">\n  <g id=\"patch_1\">\n   <path d=\"M 0 300.259543 \nL 411.285625 300.259543 \nL 411.285625 0 \nL 0 0 \nz\n\" style=\"fill:#ffffff;\"/>\n  </g>\n  <g id=\"axes_1\">\n   <g id=\"patch_2\">\n    <path d=\"M 46.965625 276.381418 \nL 404.085625 276.381418 \nL 404.085625 10.269418 \nL 46.965625 10.269418 \nz\n\" style=\"fill:#ffffff;\"/>\n   </g>\n   <g id=\"patch_3\">\n    <path clip-path=\"url(#p8082438a01)\" d=\"M 63.198352 276.381418 \nL 95.663807 276.381418 \nL 95.663807 255.593145 \nL 63.198352 255.593145 \nz\n\" style=\"fill:#1f77b4;\"/>\n   </g>\n   <g id=\"patch_4\">\n    <path clip-path=\"url(#p8082438a01)\" d=\"M 95.663807 276.381418 \nL 128.129261 276.381418 \nL 128.129261 252.49702 \nL 95.663807 252.49702 \nz\n\" style=\"fill:#1f77b4;\"/>\n   </g>\n   <g id=\"patch_5\">\n    <path clip-path=\"url(#p8082438a01)\" d=\"M 128.129261 276.381418 \nL 160.594716 276.381418 \nL 160.594716 149.88257 \nL 128.129261 149.88257 \nz\n\" style=\"fill:#1f77b4;\"/>\n   </g>\n   <g id=\"patch_6\">\n    <path clip-path=\"url(#p8082438a01)\" d=\"M 160.594716 276.381418 \nL 193.06017 276.381418 \nL 193.06017 22.941418 \nL 160.594716 22.941418 \nz\n\" style=\"fill:#1f77b4;\"/>\n   </g>\n   <g id=\"patch_7\">\n    <path clip-path=\"url(#p8082438a01)\" d=\"M 193.06017 276.381418 \nL 225.525625 276.381418 \nL 225.525625 217.55503 \nL 193.06017 217.55503 \nz\n\" style=\"fill:#1f77b4;\"/>\n   </g>\n   <g id=\"patch_8\">\n    <path clip-path=\"url(#p8082438a01)\" d=\"M 225.525625 276.381418 \nL 257.99108 276.381418 \nL 257.99108 267.093041 \nL 225.525625 267.093041 \nz\n\" style=\"fill:#1f77b4;\"/>\n   </g>\n   <g id=\"patch_9\">\n    <path clip-path=\"url(#p8082438a01)\" d=\"M 257.99108 276.381418 \nL 290.456534 276.381418 \nL 290.456534 273.727596 \nL 257.99108 273.727596 \nz\n\" style=\"fill:#1f77b4;\"/>\n   </g>\n   <g id=\"patch_10\">\n    <path clip-path=\"url(#p8082438a01)\" d=\"M 290.456534 276.381418 \nL 322.921989 276.381418 \nL 322.921989 275.054507 \nL 290.456534 275.054507 \nz\n\" style=\"fill:#1f77b4;\"/>\n   </g>\n   <g id=\"patch_11\">\n    <path clip-path=\"url(#p8082438a01)\" d=\"M 322.921989 276.381418 \nL 355.387443 276.381418 \nL 355.387443 275.49681 \nL 322.921989 275.49681 \nz\n\" style=\"fill:#1f77b4;\"/>\n   </g>\n   <g id=\"patch_12\">\n    <path clip-path=\"url(#p8082438a01)\" d=\"M 355.387443 276.381418 \nL 387.852898 276.381418 \nL 387.852898 275.939114 \nL 355.387443 275.939114 \nz\n\" style=\"fill:#1f77b4;\"/>\n   </g>\n   <g id=\"matplotlib.axis_1\">\n    <g id=\"xtick_1\">\n     <g id=\"line2d_1\">\n      <defs>\n       <path d=\"M 0 0 \nL 0 3.5 \n\" id=\"ma5bf6bf985\" style=\"stroke:#000000;stroke-width:0.8;\"/>\n      </defs>\n      <g>\n       <use style=\"stroke:#000000;stroke-width:0.8;\" x=\"63.136678\" xlink:href=\"#ma5bf6bf985\" y=\"276.381418\"/>\n      </g>\n     </g>\n     <g id=\"text_1\">\n      <!-- 0 -->\n      <g transform=\"translate(59.955428 290.979855)scale(0.1 -0.1)\">\n       <defs>\n        <path d=\"M 2034 4250 \nQ 1547 4250 1301 3770 \nQ 1056 3291 1056 2328 \nQ 1056 1369 1301 889 \nQ 1547 409 2034 409 \nQ 2525 409 2770 889 \nQ 3016 1369 3016 2328 \nQ 3016 3291 2770 3770 \nQ 2525 4250 2034 4250 \nz\nM 2034 4750 \nQ 2819 4750 3233 4129 \nQ 3647 3509 3647 2328 \nQ 3647 1150 3233 529 \nQ 2819 -91 2034 -91 \nQ 1250 -91 836 529 \nQ 422 1150 422 2328 \nQ 422 3509 836 4129 \nQ 1250 4750 2034 4750 \nz\n\" id=\"DejaVuSans-30\" transform=\"scale(0.015625)\"/>\n       </defs>\n       <use xlink:href=\"#DejaVuSans-30\"/>\n      </g>\n     </g>\n    </g>\n    <g id=\"xtick_2\">\n     <g id=\"line2d_2\">\n      <g>\n       <use style=\"stroke:#000000;stroke-width:0.8;\" x=\"124.811173\" xlink:href=\"#ma5bf6bf985\" y=\"276.381418\"/>\n      </g>\n     </g>\n     <g id=\"text_2\">\n      <!-- 1000 -->\n      <g transform=\"translate(112.086173 290.979855)scale(0.1 -0.1)\">\n       <defs>\n        <path d=\"M 794 531 \nL 1825 531 \nL 1825 4091 \nL 703 3866 \nL 703 4441 \nL 1819 4666 \nL 2450 4666 \nL 2450 531 \nL 3481 531 \nL 3481 0 \nL 794 0 \nL 794 531 \nz\n\" id=\"DejaVuSans-31\" transform=\"scale(0.015625)\"/>\n       </defs>\n       <use xlink:href=\"#DejaVuSans-31\"/>\n       <use x=\"63.623047\" xlink:href=\"#DejaVuSans-30\"/>\n       <use x=\"127.246094\" xlink:href=\"#DejaVuSans-30\"/>\n       <use x=\"190.869141\" xlink:href=\"#DejaVuSans-30\"/>\n      </g>\n     </g>\n    </g>\n    <g id=\"xtick_3\">\n     <g id=\"line2d_3\">\n      <g>\n       <use style=\"stroke:#000000;stroke-width:0.8;\" x=\"186.485669\" xlink:href=\"#ma5bf6bf985\" y=\"276.381418\"/>\n      </g>\n     </g>\n     <g id=\"text_3\">\n      <!-- 2000 -->\n      <g transform=\"translate(173.760669 290.979855)scale(0.1 -0.1)\">\n       <defs>\n        <path d=\"M 1228 531 \nL 3431 531 \nL 3431 0 \nL 469 0 \nL 469 531 \nQ 828 903 1448 1529 \nQ 2069 2156 2228 2338 \nQ 2531 2678 2651 2914 \nQ 2772 3150 2772 3378 \nQ 2772 3750 2511 3984 \nQ 2250 4219 1831 4219 \nQ 1534 4219 1204 4116 \nQ 875 4013 500 3803 \nL 500 4441 \nQ 881 4594 1212 4672 \nQ 1544 4750 1819 4750 \nQ 2544 4750 2975 4387 \nQ 3406 4025 3406 3419 \nQ 3406 3131 3298 2873 \nQ 3191 2616 2906 2266 \nQ 2828 2175 2409 1742 \nQ 1991 1309 1228 531 \nz\n\" id=\"DejaVuSans-32\" transform=\"scale(0.015625)\"/>\n       </defs>\n       <use xlink:href=\"#DejaVuSans-32\"/>\n       <use x=\"63.623047\" xlink:href=\"#DejaVuSans-30\"/>\n       <use x=\"127.246094\" xlink:href=\"#DejaVuSans-30\"/>\n       <use x=\"190.869141\" xlink:href=\"#DejaVuSans-30\"/>\n      </g>\n     </g>\n    </g>\n    <g id=\"xtick_4\">\n     <g id=\"line2d_4\">\n      <g>\n       <use style=\"stroke:#000000;stroke-width:0.8;\" x=\"248.160165\" xlink:href=\"#ma5bf6bf985\" y=\"276.381418\"/>\n      </g>\n     </g>\n     <g id=\"text_4\">\n      <!-- 3000 -->\n      <g transform=\"translate(235.435165 290.979855)scale(0.1 -0.1)\">\n       <defs>\n        <path d=\"M 2597 2516 \nQ 3050 2419 3304 2112 \nQ 3559 1806 3559 1356 \nQ 3559 666 3084 287 \nQ 2609 -91 1734 -91 \nQ 1441 -91 1130 -33 \nQ 819 25 488 141 \nL 488 750 \nQ 750 597 1062 519 \nQ 1375 441 1716 441 \nQ 2309 441 2620 675 \nQ 2931 909 2931 1356 \nQ 2931 1769 2642 2001 \nQ 2353 2234 1838 2234 \nL 1294 2234 \nL 1294 2753 \nL 1863 2753 \nQ 2328 2753 2575 2939 \nQ 2822 3125 2822 3475 \nQ 2822 3834 2567 4026 \nQ 2313 4219 1838 4219 \nQ 1578 4219 1281 4162 \nQ 984 4106 628 3988 \nL 628 4550 \nQ 988 4650 1302 4700 \nQ 1616 4750 1894 4750 \nQ 2613 4750 3031 4423 \nQ 3450 4097 3450 3541 \nQ 3450 3153 3228 2886 \nQ 3006 2619 2597 2516 \nz\n\" id=\"DejaVuSans-33\" transform=\"scale(0.015625)\"/>\n       </defs>\n       <use xlink:href=\"#DejaVuSans-33\"/>\n       <use x=\"63.623047\" xlink:href=\"#DejaVuSans-30\"/>\n       <use x=\"127.246094\" xlink:href=\"#DejaVuSans-30\"/>\n       <use x=\"190.869141\" xlink:href=\"#DejaVuSans-30\"/>\n      </g>\n     </g>\n    </g>\n    <g id=\"xtick_5\">\n     <g id=\"line2d_5\">\n      <g>\n       <use style=\"stroke:#000000;stroke-width:0.8;\" x=\"309.834661\" xlink:href=\"#ma5bf6bf985\" y=\"276.381418\"/>\n      </g>\n     </g>\n     <g id=\"text_5\">\n      <!-- 4000 -->\n      <g transform=\"translate(297.109661 290.979855)scale(0.1 -0.1)\">\n       <defs>\n        <path d=\"M 2419 4116 \nL 825 1625 \nL 2419 1625 \nL 2419 4116 \nz\nM 2253 4666 \nL 3047 4666 \nL 3047 1625 \nL 3713 1625 \nL 3713 1100 \nL 3047 1100 \nL 3047 0 \nL 2419 0 \nL 2419 1100 \nL 313 1100 \nL 313 1709 \nL 2253 4666 \nz\n\" id=\"DejaVuSans-34\" transform=\"scale(0.015625)\"/>\n       </defs>\n       <use xlink:href=\"#DejaVuSans-34\"/>\n       <use x=\"63.623047\" xlink:href=\"#DejaVuSans-30\"/>\n       <use x=\"127.246094\" xlink:href=\"#DejaVuSans-30\"/>\n       <use x=\"190.869141\" xlink:href=\"#DejaVuSans-30\"/>\n      </g>\n     </g>\n    </g>\n    <g id=\"xtick_6\">\n     <g id=\"line2d_6\">\n      <g>\n       <use style=\"stroke:#000000;stroke-width:0.8;\" x=\"371.509156\" xlink:href=\"#ma5bf6bf985\" y=\"276.381418\"/>\n      </g>\n     </g>\n     <g id=\"text_6\">\n      <!-- 5000 -->\n      <g transform=\"translate(358.784156 290.979855)scale(0.1 -0.1)\">\n       <defs>\n        <path d=\"M 691 4666 \nL 3169 4666 \nL 3169 4134 \nL 1269 4134 \nL 1269 2991 \nQ 1406 3038 1543 3061 \nQ 1681 3084 1819 3084 \nQ 2600 3084 3056 2656 \nQ 3513 2228 3513 1497 \nQ 3513 744 3044 326 \nQ 2575 -91 1722 -91 \nQ 1428 -91 1123 -41 \nQ 819 9 494 109 \nL 494 744 \nQ 775 591 1075 516 \nQ 1375 441 1709 441 \nQ 2250 441 2565 725 \nQ 2881 1009 2881 1497 \nQ 2881 1984 2565 2268 \nQ 2250 2553 1709 2553 \nQ 1456 2553 1204 2497 \nQ 953 2441 691 2322 \nL 691 4666 \nz\n\" id=\"DejaVuSans-35\" transform=\"scale(0.015625)\"/>\n       </defs>\n       <use xlink:href=\"#DejaVuSans-35\"/>\n       <use x=\"63.623047\" xlink:href=\"#DejaVuSans-30\"/>\n       <use x=\"127.246094\" xlink:href=\"#DejaVuSans-30\"/>\n       <use x=\"190.869141\" xlink:href=\"#DejaVuSans-30\"/>\n      </g>\n     </g>\n    </g>\n   </g>\n   <g id=\"matplotlib.axis_2\">\n    <g id=\"ytick_1\">\n     <g id=\"line2d_7\">\n      <defs>\n       <path d=\"M 0 0 \nL -3.5 0 \n\" id=\"mc9ef988048\" style=\"stroke:#000000;stroke-width:0.8;\"/>\n      </defs>\n      <g>\n       <use style=\"stroke:#000000;stroke-width:0.8;\" x=\"46.965625\" xlink:href=\"#mc9ef988048\" y=\"276.381418\"/>\n      </g>\n     </g>\n     <g id=\"text_7\">\n      <!-- 0 -->\n      <g transform=\"translate(33.603125 280.180636)scale(0.1 -0.1)\">\n       <use xlink:href=\"#DejaVuSans-30\"/>\n      </g>\n     </g>\n    </g>\n    <g id=\"ytick_2\">\n     <g id=\"line2d_8\">\n      <g>\n       <use style=\"stroke:#000000;stroke-width:0.8;\" x=\"46.965625\" xlink:href=\"#mc9ef988048\" y=\"232.151051\"/>\n      </g>\n     </g>\n     <g id=\"text_8\">\n      <!-- 100 -->\n      <g transform=\"translate(20.878125 235.95027)scale(0.1 -0.1)\">\n       <use xlink:href=\"#DejaVuSans-31\"/>\n       <use x=\"63.623047\" xlink:href=\"#DejaVuSans-30\"/>\n       <use x=\"127.246094\" xlink:href=\"#DejaVuSans-30\"/>\n      </g>\n     </g>\n    </g>\n    <g id=\"ytick_3\">\n     <g id=\"line2d_9\">\n      <g>\n       <use style=\"stroke:#000000;stroke-width:0.8;\" x=\"46.965625\" xlink:href=\"#mc9ef988048\" y=\"187.920685\"/>\n      </g>\n     </g>\n     <g id=\"text_9\">\n      <!-- 200 -->\n      <g transform=\"translate(20.878125 191.719903)scale(0.1 -0.1)\">\n       <use xlink:href=\"#DejaVuSans-32\"/>\n       <use x=\"63.623047\" xlink:href=\"#DejaVuSans-30\"/>\n       <use x=\"127.246094\" xlink:href=\"#DejaVuSans-30\"/>\n      </g>\n     </g>\n    </g>\n    <g id=\"ytick_4\">\n     <g id=\"line2d_10\">\n      <g>\n       <use style=\"stroke:#000000;stroke-width:0.8;\" x=\"46.965625\" xlink:href=\"#mc9ef988048\" y=\"143.690318\"/>\n      </g>\n     </g>\n     <g id=\"text_10\">\n      <!-- 300 -->\n      <g transform=\"translate(20.878125 147.489537)scale(0.1 -0.1)\">\n       <use xlink:href=\"#DejaVuSans-33\"/>\n       <use x=\"63.623047\" xlink:href=\"#DejaVuSans-30\"/>\n       <use x=\"127.246094\" xlink:href=\"#DejaVuSans-30\"/>\n      </g>\n     </g>\n    </g>\n    <g id=\"ytick_5\">\n     <g id=\"line2d_11\">\n      <g>\n       <use style=\"stroke:#000000;stroke-width:0.8;\" x=\"46.965625\" xlink:href=\"#mc9ef988048\" y=\"99.459952\"/>\n      </g>\n     </g>\n     <g id=\"text_11\">\n      <!-- 400 -->\n      <g transform=\"translate(20.878125 103.25917)scale(0.1 -0.1)\">\n       <use xlink:href=\"#DejaVuSans-34\"/>\n       <use x=\"63.623047\" xlink:href=\"#DejaVuSans-30\"/>\n       <use x=\"127.246094\" xlink:href=\"#DejaVuSans-30\"/>\n      </g>\n     </g>\n    </g>\n    <g id=\"ytick_6\">\n     <g id=\"line2d_12\">\n      <g>\n       <use style=\"stroke:#000000;stroke-width:0.8;\" x=\"46.965625\" xlink:href=\"#mc9ef988048\" y=\"55.229585\"/>\n      </g>\n     </g>\n     <g id=\"text_12\">\n      <!-- 500 -->\n      <g transform=\"translate(20.878125 59.028804)scale(0.1 -0.1)\">\n       <use xlink:href=\"#DejaVuSans-35\"/>\n       <use x=\"63.623047\" xlink:href=\"#DejaVuSans-30\"/>\n       <use x=\"127.246094\" xlink:href=\"#DejaVuSans-30\"/>\n      </g>\n     </g>\n    </g>\n    <g id=\"ytick_7\">\n     <g id=\"line2d_13\">\n      <g>\n       <use style=\"stroke:#000000;stroke-width:0.8;\" x=\"46.965625\" xlink:href=\"#mc9ef988048\" y=\"10.999219\"/>\n      </g>\n     </g>\n     <g id=\"text_13\">\n      <!-- 600 -->\n      <g transform=\"translate(20.878125 14.798437)scale(0.1 -0.1)\">\n       <defs>\n        <path d=\"M 2113 2584 \nQ 1688 2584 1439 2293 \nQ 1191 2003 1191 1497 \nQ 1191 994 1439 701 \nQ 1688 409 2113 409 \nQ 2538 409 2786 701 \nQ 3034 994 3034 1497 \nQ 3034 2003 2786 2293 \nQ 2538 2584 2113 2584 \nz\nM 3366 4563 \nL 3366 3988 \nQ 3128 4100 2886 4159 \nQ 2644 4219 2406 4219 \nQ 1781 4219 1451 3797 \nQ 1122 3375 1075 2522 \nQ 1259 2794 1537 2939 \nQ 1816 3084 2150 3084 \nQ 2853 3084 3261 2657 \nQ 3669 2231 3669 1497 \nQ 3669 778 3244 343 \nQ 2819 -91 2113 -91 \nQ 1303 -91 875 529 \nQ 447 1150 447 2328 \nQ 447 3434 972 4092 \nQ 1497 4750 2381 4750 \nQ 2619 4750 2861 4703 \nQ 3103 4656 3366 4563 \nz\n\" id=\"DejaVuSans-36\" transform=\"scale(0.015625)\"/>\n       </defs>\n       <use xlink:href=\"#DejaVuSans-36\"/>\n       <use x=\"63.623047\" xlink:href=\"#DejaVuSans-30\"/>\n       <use x=\"127.246094\" xlink:href=\"#DejaVuSans-30\"/>\n      </g>\n     </g>\n    </g>\n    <g id=\"text_14\">\n     <!-- Frequency -->\n     <g transform=\"translate(14.798438 169.155105)rotate(-90)scale(0.1 -0.1)\">\n      <defs>\n       <path d=\"M 628 4666 \nL 3309 4666 \nL 3309 4134 \nL 1259 4134 \nL 1259 2759 \nL 3109 2759 \nL 3109 2228 \nL 1259 2228 \nL 1259 0 \nL 628 0 \nL 628 4666 \nz\n\" id=\"DejaVuSans-46\" transform=\"scale(0.015625)\"/>\n       <path d=\"M 2631 2963 \nQ 2534 3019 2420 3045 \nQ 2306 3072 2169 3072 \nQ 1681 3072 1420 2755 \nQ 1159 2438 1159 1844 \nL 1159 0 \nL 581 0 \nL 581 3500 \nL 1159 3500 \nL 1159 2956 \nQ 1341 3275 1631 3429 \nQ 1922 3584 2338 3584 \nQ 2397 3584 2469 3576 \nQ 2541 3569 2628 3553 \nL 2631 2963 \nz\n\" id=\"DejaVuSans-72\" transform=\"scale(0.015625)\"/>\n       <path d=\"M 3597 1894 \nL 3597 1613 \nL 953 1613 \nQ 991 1019 1311 708 \nQ 1631 397 2203 397 \nQ 2534 397 2845 478 \nQ 3156 559 3463 722 \nL 3463 178 \nQ 3153 47 2828 -22 \nQ 2503 -91 2169 -91 \nQ 1331 -91 842 396 \nQ 353 884 353 1716 \nQ 353 2575 817 3079 \nQ 1281 3584 2069 3584 \nQ 2775 3584 3186 3129 \nQ 3597 2675 3597 1894 \nz\nM 3022 2063 \nQ 3016 2534 2758 2815 \nQ 2500 3097 2075 3097 \nQ 1594 3097 1305 2825 \nQ 1016 2553 972 2059 \nL 3022 2063 \nz\n\" id=\"DejaVuSans-65\" transform=\"scale(0.015625)\"/>\n       <path d=\"M 947 1747 \nQ 947 1113 1208 752 \nQ 1469 391 1925 391 \nQ 2381 391 2643 752 \nQ 2906 1113 2906 1747 \nQ 2906 2381 2643 2742 \nQ 2381 3103 1925 3103 \nQ 1469 3103 1208 2742 \nQ 947 2381 947 1747 \nz\nM 2906 525 \nQ 2725 213 2448 61 \nQ 2172 -91 1784 -91 \nQ 1150 -91 751 415 \nQ 353 922 353 1747 \nQ 353 2572 751 3078 \nQ 1150 3584 1784 3584 \nQ 2172 3584 2448 3432 \nQ 2725 3281 2906 2969 \nL 2906 3500 \nL 3481 3500 \nL 3481 -1331 \nL 2906 -1331 \nL 2906 525 \nz\n\" id=\"DejaVuSans-71\" transform=\"scale(0.015625)\"/>\n       <path d=\"M 544 1381 \nL 544 3500 \nL 1119 3500 \nL 1119 1403 \nQ 1119 906 1312 657 \nQ 1506 409 1894 409 \nQ 2359 409 2629 706 \nQ 2900 1003 2900 1516 \nL 2900 3500 \nL 3475 3500 \nL 3475 0 \nL 2900 0 \nL 2900 538 \nQ 2691 219 2414 64 \nQ 2138 -91 1772 -91 \nQ 1169 -91 856 284 \nQ 544 659 544 1381 \nz\nM 1991 3584 \nL 1991 3584 \nz\n\" id=\"DejaVuSans-75\" transform=\"scale(0.015625)\"/>\n       <path d=\"M 3513 2113 \nL 3513 0 \nL 2938 0 \nL 2938 2094 \nQ 2938 2591 2744 2837 \nQ 2550 3084 2163 3084 \nQ 1697 3084 1428 2787 \nQ 1159 2491 1159 1978 \nL 1159 0 \nL 581 0 \nL 581 3500 \nL 1159 3500 \nL 1159 2956 \nQ 1366 3272 1645 3428 \nQ 1925 3584 2291 3584 \nQ 2894 3584 3203 3211 \nQ 3513 2838 3513 2113 \nz\n\" id=\"DejaVuSans-6e\" transform=\"scale(0.015625)\"/>\n       <path d=\"M 3122 3366 \nL 3122 2828 \nQ 2878 2963 2633 3030 \nQ 2388 3097 2138 3097 \nQ 1578 3097 1268 2742 \nQ 959 2388 959 1747 \nQ 959 1106 1268 751 \nQ 1578 397 2138 397 \nQ 2388 397 2633 464 \nQ 2878 531 3122 666 \nL 3122 134 \nQ 2881 22 2623 -34 \nQ 2366 -91 2075 -91 \nQ 1284 -91 818 406 \nQ 353 903 353 1747 \nQ 353 2603 823 3093 \nQ 1294 3584 2113 3584 \nQ 2378 3584 2631 3529 \nQ 2884 3475 3122 3366 \nz\n\" id=\"DejaVuSans-63\" transform=\"scale(0.015625)\"/>\n       <path d=\"M 2059 -325 \nQ 1816 -950 1584 -1140 \nQ 1353 -1331 966 -1331 \nL 506 -1331 \nL 506 -850 \nL 844 -850 \nQ 1081 -850 1212 -737 \nQ 1344 -625 1503 -206 \nL 1606 56 \nL 191 3500 \nL 800 3500 \nL 1894 763 \nL 2988 3500 \nL 3597 3500 \nL 2059 -325 \nz\n\" id=\"DejaVuSans-79\" transform=\"scale(0.015625)\"/>\n      </defs>\n      <use xlink:href=\"#DejaVuSans-46\"/>\n      <use x=\"50.269531\" xlink:href=\"#DejaVuSans-72\"/>\n      <use x=\"89.132812\" xlink:href=\"#DejaVuSans-65\"/>\n      <use x=\"150.65625\" xlink:href=\"#DejaVuSans-71\"/>\n      <use x=\"214.132812\" xlink:href=\"#DejaVuSans-75\"/>\n      <use x=\"277.511719\" xlink:href=\"#DejaVuSans-65\"/>\n      <use x=\"339.035156\" xlink:href=\"#DejaVuSans-6e\"/>\n      <use x=\"402.414062\" xlink:href=\"#DejaVuSans-63\"/>\n      <use x=\"457.394531\" xlink:href=\"#DejaVuSans-79\"/>\n     </g>\n    </g>\n   </g>\n   <g id=\"patch_13\">\n    <path d=\"M 46.965625 276.381418 \nL 46.965625 10.269418 \n\" style=\"fill:none;stroke:#000000;stroke-linecap:square;stroke-linejoin:miter;stroke-width:0.8;\"/>\n   </g>\n   <g id=\"patch_14\">\n    <path d=\"M 404.085625 276.381418 \nL 404.085625 10.269418 \n\" style=\"fill:none;stroke:#000000;stroke-linecap:square;stroke-linejoin:miter;stroke-width:0.8;\"/>\n   </g>\n   <g id=\"patch_15\">\n    <path d=\"M 46.965625 276.381418 \nL 404.085625 276.381418 \n\" style=\"fill:none;stroke:#000000;stroke-linecap:square;stroke-linejoin:miter;stroke-width:0.8;\"/>\n   </g>\n   <g id=\"patch_16\">\n    <path d=\"M 46.965625 10.269418 \nL 404.085625 10.269418 \n\" style=\"fill:none;stroke:#000000;stroke-linecap:square;stroke-linejoin:miter;stroke-width:0.8;\"/>\n   </g>\n   <g id=\"legend_1\">\n    <g id=\"patch_17\">\n     <path d=\"M 275.021563 33.225668 \nL 397.085625 33.225668 \nQ 399.085625 33.225668 399.085625 31.225668 \nL 399.085625 17.269418 \nQ 399.085625 15.269418 397.085625 15.269418 \nL 275.021563 15.269418 \nQ 273.021563 15.269418 273.021563 17.269418 \nL 273.021563 31.225668 \nQ 273.021563 33.225668 275.021563 33.225668 \nz\n\" style=\"fill:#ffffff;opacity:0.8;stroke:#cccccc;stroke-linejoin:miter;\"/>\n    </g>\n    <g id=\"patch_18\">\n     <path d=\"M 277.021563 26.867855 \nL 297.021563 26.867855 \nL 297.021563 19.867855 \nL 277.021563 19.867855 \nz\n\" style=\"fill:#1f77b4;\"/>\n    </g>\n    <g id=\"text_15\">\n     <!-- script_paragraphs -->\n     <g transform=\"translate(305.021563 26.867855)scale(0.1 -0.1)\">\n      <defs>\n       <path d=\"M 2834 3397 \nL 2834 2853 \nQ 2591 2978 2328 3040 \nQ 2066 3103 1784 3103 \nQ 1356 3103 1142 2972 \nQ 928 2841 928 2578 \nQ 928 2378 1081 2264 \nQ 1234 2150 1697 2047 \nL 1894 2003 \nQ 2506 1872 2764 1633 \nQ 3022 1394 3022 966 \nQ 3022 478 2636 193 \nQ 2250 -91 1575 -91 \nQ 1294 -91 989 -36 \nQ 684 19 347 128 \nL 347 722 \nQ 666 556 975 473 \nQ 1284 391 1588 391 \nQ 1994 391 2212 530 \nQ 2431 669 2431 922 \nQ 2431 1156 2273 1281 \nQ 2116 1406 1581 1522 \nL 1381 1569 \nQ 847 1681 609 1914 \nQ 372 2147 372 2553 \nQ 372 3047 722 3315 \nQ 1072 3584 1716 3584 \nQ 2034 3584 2315 3537 \nQ 2597 3491 2834 3397 \nz\n\" id=\"DejaVuSans-73\" transform=\"scale(0.015625)\"/>\n       <path d=\"M 603 3500 \nL 1178 3500 \nL 1178 0 \nL 603 0 \nL 603 3500 \nz\nM 603 4863 \nL 1178 4863 \nL 1178 4134 \nL 603 4134 \nL 603 4863 \nz\n\" id=\"DejaVuSans-69\" transform=\"scale(0.015625)\"/>\n       <path d=\"M 1159 525 \nL 1159 -1331 \nL 581 -1331 \nL 581 3500 \nL 1159 3500 \nL 1159 2969 \nQ 1341 3281 1617 3432 \nQ 1894 3584 2278 3584 \nQ 2916 3584 3314 3078 \nQ 3713 2572 3713 1747 \nQ 3713 922 3314 415 \nQ 2916 -91 2278 -91 \nQ 1894 -91 1617 61 \nQ 1341 213 1159 525 \nz\nM 3116 1747 \nQ 3116 2381 2855 2742 \nQ 2594 3103 2138 3103 \nQ 1681 3103 1420 2742 \nQ 1159 2381 1159 1747 \nQ 1159 1113 1420 752 \nQ 1681 391 2138 391 \nQ 2594 391 2855 752 \nQ 3116 1113 3116 1747 \nz\n\" id=\"DejaVuSans-70\" transform=\"scale(0.015625)\"/>\n       <path d=\"M 1172 4494 \nL 1172 3500 \nL 2356 3500 \nL 2356 3053 \nL 1172 3053 \nL 1172 1153 \nQ 1172 725 1289 603 \nQ 1406 481 1766 481 \nL 2356 481 \nL 2356 0 \nL 1766 0 \nQ 1100 0 847 248 \nQ 594 497 594 1153 \nL 594 3053 \nL 172 3053 \nL 172 3500 \nL 594 3500 \nL 594 4494 \nL 1172 4494 \nz\n\" id=\"DejaVuSans-74\" transform=\"scale(0.015625)\"/>\n       <path d=\"M 3263 -1063 \nL 3263 -1509 \nL -63 -1509 \nL -63 -1063 \nL 3263 -1063 \nz\n\" id=\"DejaVuSans-5f\" transform=\"scale(0.015625)\"/>\n       <path d=\"M 2194 1759 \nQ 1497 1759 1228 1600 \nQ 959 1441 959 1056 \nQ 959 750 1161 570 \nQ 1363 391 1709 391 \nQ 2188 391 2477 730 \nQ 2766 1069 2766 1631 \nL 2766 1759 \nL 2194 1759 \nz\nM 3341 1997 \nL 3341 0 \nL 2766 0 \nL 2766 531 \nQ 2569 213 2275 61 \nQ 1981 -91 1556 -91 \nQ 1019 -91 701 211 \nQ 384 513 384 1019 \nQ 384 1609 779 1909 \nQ 1175 2209 1959 2209 \nL 2766 2209 \nL 2766 2266 \nQ 2766 2663 2505 2880 \nQ 2244 3097 1772 3097 \nQ 1472 3097 1187 3025 \nQ 903 2953 641 2809 \nL 641 3341 \nQ 956 3463 1253 3523 \nQ 1550 3584 1831 3584 \nQ 2591 3584 2966 3190 \nQ 3341 2797 3341 1997 \nz\n\" id=\"DejaVuSans-61\" transform=\"scale(0.015625)\"/>\n       <path d=\"M 2906 1791 \nQ 2906 2416 2648 2759 \nQ 2391 3103 1925 3103 \nQ 1463 3103 1205 2759 \nQ 947 2416 947 1791 \nQ 947 1169 1205 825 \nQ 1463 481 1925 481 \nQ 2391 481 2648 825 \nQ 2906 1169 2906 1791 \nz\nM 3481 434 \nQ 3481 -459 3084 -895 \nQ 2688 -1331 1869 -1331 \nQ 1566 -1331 1297 -1286 \nQ 1028 -1241 775 -1147 \nL 775 -588 \nQ 1028 -725 1275 -790 \nQ 1522 -856 1778 -856 \nQ 2344 -856 2625 -561 \nQ 2906 -266 2906 331 \nL 2906 616 \nQ 2728 306 2450 153 \nQ 2172 0 1784 0 \nQ 1141 0 747 490 \nQ 353 981 353 1791 \nQ 353 2603 747 3093 \nQ 1141 3584 1784 3584 \nQ 2172 3584 2450 3431 \nQ 2728 3278 2906 2969 \nL 2906 3500 \nL 3481 3500 \nL 3481 434 \nz\n\" id=\"DejaVuSans-67\" transform=\"scale(0.015625)\"/>\n       <path d=\"M 3513 2113 \nL 3513 0 \nL 2938 0 \nL 2938 2094 \nQ 2938 2591 2744 2837 \nQ 2550 3084 2163 3084 \nQ 1697 3084 1428 2787 \nQ 1159 2491 1159 1978 \nL 1159 0 \nL 581 0 \nL 581 4863 \nL 1159 4863 \nL 1159 2956 \nQ 1366 3272 1645 3428 \nQ 1925 3584 2291 3584 \nQ 2894 3584 3203 3211 \nQ 3513 2838 3513 2113 \nz\n\" id=\"DejaVuSans-68\" transform=\"scale(0.015625)\"/>\n      </defs>\n      <use xlink:href=\"#DejaVuSans-73\"/>\n      <use x=\"52.099609\" xlink:href=\"#DejaVuSans-63\"/>\n      <use x=\"107.080078\" xlink:href=\"#DejaVuSans-72\"/>\n      <use x=\"148.193359\" xlink:href=\"#DejaVuSans-69\"/>\n      <use x=\"175.976562\" xlink:href=\"#DejaVuSans-70\"/>\n      <use x=\"239.453125\" xlink:href=\"#DejaVuSans-74\"/>\n      <use x=\"278.662109\" xlink:href=\"#DejaVuSans-5f\"/>\n      <use x=\"328.662109\" xlink:href=\"#DejaVuSans-70\"/>\n      <use x=\"392.138672\" xlink:href=\"#DejaVuSans-61\"/>\n      <use x=\"453.417969\" xlink:href=\"#DejaVuSans-72\"/>\n      <use x=\"494.53125\" xlink:href=\"#DejaVuSans-61\"/>\n      <use x=\"555.810547\" xlink:href=\"#DejaVuSans-67\"/>\n      <use x=\"619.287109\" xlink:href=\"#DejaVuSans-72\"/>\n      <use x=\"660.400391\" xlink:href=\"#DejaVuSans-61\"/>\n      <use x=\"721.679688\" xlink:href=\"#DejaVuSans-70\"/>\n      <use x=\"785.15625\" xlink:href=\"#DejaVuSans-68\"/>\n      <use x=\"848.535156\" xlink:href=\"#DejaVuSans-73\"/>\n     </g>\n    </g>\n   </g>\n  </g>\n </g>\n <defs>\n  <clipPath id=\"p8082438a01\">\n   <rect height=\"266.112\" width=\"357.12\" x=\"46.965625\" y=\"10.269418\"/>\n  </clipPath>\n </defs>\n</svg>\n",
      "text/plain": [
       "<Figure size 640x480 with 1 Axes>"
      ]
     },
     "metadata": {},
     "output_type": "display_data"
    }
   ],
   "source": [
    "_ = df_n_paras.plot.hist()"
   ]
  },
  {
   "cell_type": "markdown",
   "metadata": {},
   "source": [
    "## Models"
   ]
  },
  {
   "cell_type": "markdown",
   "metadata": {},
   "source": [
    "### Neural Network (LSTM RNN)"
   ]
  },
  {
   "cell_type": "markdown",
   "metadata": {},
   "source": [
    "#### Text Transformers"
   ]
  },
  {
   "cell_type": "code",
   "execution_count": 109,
   "metadata": {},
   "outputs": [],
   "source": [
    "class KerasTextVectorizer(skl.base.TransformerMixin):\n",
    "    def __init__(self, \n",
    "        vocabulary=None, \n",
    "        pad_to_last_sequence=False,\n",
    "        padding=None,\n",
    "        **options\n",
    "    ):\n",
    "        self._state = dict(\n",
    "            has_vocab=vocabulary is not None,\n",
    "            pad_to_last_sequence=pad_to_last_sequence,\n",
    "            padding=padding\n",
    "        )\n",
    "\n",
    "        self.base = keras.Sequential([\n",
    "            keras.layers.InputLayer(input_shape=(), dtype='string'),\n",
    "            keras.layers.TextVectorization(\n",
    "                **options, \n",
    "                name='text_vec',\n",
    "                ragged=True if pad_to_last_sequence else False,\n",
    "                vocabulary=vocabulary\n",
    "            )\n",
    "        ])\n",
    "\n",
    "    def fit(self, X, _y=None):\n",
    "        if not self._state['has_vocab']:\n",
    "            self.base.get_layer('text_vec').adapt(X)\n",
    "\n",
    "        self.base.compile()\n",
    "        return self\n",
    "\n",
    "    def vocabulary_size(self):\n",
    "        return self.base.get_layer('text_vec').vocabulary_size()\n",
    "\n",
    "    def transform(self, X, _y=None):\n",
    "        r = self.base(X)\n",
    "        if (isinstance(r, tf.RaggedTensor) \n",
    "                and self._state.get('pad_to_last_sequence')):\n",
    "            last_seq_len = self._state.get('last_seq_length')\n",
    "\n",
    "            if last_seq_len is not None:\n",
    "                r = r.to_tensor(\n",
    "                    default_value=self._state.get('padding'), \n",
    "                    shape=[None, last_seq_len]\n",
    "                )\n",
    "            else:\n",
    "                r = r.to_tensor()\n",
    "                self._state['last_seq_length'] = r.shape[-1]\n",
    "                \n",
    "        return r\n",
    "\n",
    "    def __getstate__(self):\n",
    "        return dict(\n",
    "            config=self.base.get_config(),\n",
    "            weights=self.base.get_weights(),\n",
    "            state=self._state\n",
    "        )\n",
    "\n",
    "    def __setstate__(self, d):\n",
    "        self.base = keras.Sequential.from_config(d['config'])\n",
    "        if not tf.equal(tf.size(d['weights']), 0):\n",
    "            self.base.set_weights(d['weights'])\n",
    "        self._state = d['state']"
   ]
  },
  {
   "cell_type": "code",
   "execution_count": 110,
   "metadata": {},
   "outputs": [],
   "source": [
    "class SpacyTextVectorizer(KerasTextVectorizer):\n",
    "    def __init__(self, **kwargs):\n",
    "        %package spacy[cuda-autodetect,transformers,lookups]\n",
    "\n",
    "        import spacy\n",
    "        #import spacy_transformers\n",
    "        spacy.prefer_gpu()\n",
    "        \n",
    "        #spacy.cli.download('en_core_web_lg', False, False, '--quiet')\n",
    "\n",
    "        nlp = spacy.load('en_core_web_lg')\n",
    "        super().__init__(\n",
    "            vocabulary=list(nlp.vocab.strings),\n",
    "            **kwargs\n",
    "        )"
   ]
  },
  {
   "cell_type": "markdown",
   "metadata": {},
   "source": [
    "#### Classifier"
   ]
  },
  {
   "cell_type": "code",
   "execution_count": 111,
   "metadata": {},
   "outputs": [],
   "source": [
    "class KerasTextClassifier(skeras.wrappers.KerasClassifier):\n",
    "    def __init__(self, vocabulary_size, **kwargs):\n",
    "        super().__init__(**kwargs)\n",
    "        self.vocabulary_size = vocabulary_size\n",
    "\n",
    "    # see https://www.adriangb.com/scikeras/stable/notebooks/MLPClassifier_MLPRegressor.html#4.1-Subclassing\n",
    "    def _keras_build_fn(self, meta, compile_kwargs, params):\n",
    "        layers = []\n",
    "\n",
    "        # input\n",
    "        layers += [\n",
    "            keras.layers.InputLayer(\n",
    "                input_shape=self.X_shape_[1:],\n",
    "                ragged=True\n",
    "            ),\n",
    "            keras.layers.Embedding(\n",
    "                input_dim=self.vocabulary_size,\n",
    "                output_dim=128,\n",
    "                mask_zero=True\n",
    "            )\n",
    "        ]\n",
    "\n",
    "        # hidden layers\n",
    "        layers += [\n",
    "            #keras.layers.Conv1D(\n",
    "            #    filters=32, kernel_size=3, \n",
    "            #    padding='same', \n",
    "            #    activation='relu'\n",
    "            #),\n",
    "            #keras.layers.MaxPooling1D(pool_size=10),\n",
    "            #keras.layers.Dropout(.1),\n",
    "\n",
    "            keras.layers.SpatialDropout1D(.2),\n",
    "\n",
    "            keras.layers.Bidirectional(keras.layers.LSTM(64, return_sequences=True)),\n",
    "            keras.layers.Bidirectional(keras.layers.LSTM(64)),\n",
    "\n",
    "            keras.layers.Dense(128, activation='relu')\n",
    "        ]\n",
    "\n",
    "        # output\n",
    "        if self.target_type_ == 'binary':\n",
    "            layers += [\n",
    "                keras.layers.Dense(\n",
    "                    units=1,\n",
    "                    activation='sigmoid'\n",
    "                )\n",
    "            ]\n",
    "        elif self.target_type_ == 'multiclass':\n",
    "            layers += [\n",
    "                keras.layers.Dense(\n",
    "                    units=self.n_classes_,\n",
    "                    activation='softmax'\n",
    "                )\n",
    "            ]\n",
    "        else:\n",
    "            raise NotImplementedError(\n",
    "                fr'unsupported task type: {self.target_type_}'\n",
    "            )\n",
    "        \n",
    "        return keras.Sequential(layers)\n",
    "\n",
    "    def fit(self, X, y, sample_weight=None, **kwargs):\n",
    "        self._save_meta = dict(\n",
    "            shape_X=np.shape(X),\n",
    "            y_fit=y\n",
    "        )\n",
    "        return super().fit(X, y, sample_weight, **kwargs)\n",
    "\n",
    "    def __getstate__(self):\n",
    "        return dict(\n",
    "            model=self.model_,\n",
    "            meta=self._save_meta\n",
    "        )\n",
    "\n",
    "    def __setstate__(self, d):\n",
    "        super().__init__(d['model'])\n",
    "        self.initialize(\n",
    "            np.zeros(d['meta']['shape_X']),\n",
    "            d['meta']['y_fit']\n",
    "        )"
   ]
  },
  {
   "cell_type": "markdown",
   "metadata": {},
   "source": [
    "#### Predictor (Vocab From Spacy)"
   ]
  },
  {
   "cell_type": "code",
   "execution_count": 112,
   "metadata": {},
   "outputs": [],
   "source": [
    "class TextClassifierCV(\n",
    "    skl.base.BaseEstimator,\n",
    "    skl.base.ClassifierMixin\n",
    "):\n",
    "    def __init__(self, \n",
    "        options_vectorizer=dict(),\n",
    "        options_clf=dict(),\n",
    "        options_gridsearch=dict()\n",
    "    ):\n",
    "        super().__init__()\n",
    "        self.options_vectorizer = options_vectorizer\n",
    "        self.options_clf = options_clf\n",
    "        self.options_gridsearch = options_gridsearch\n",
    "\n",
    "    def fit(self, X, y):\n",
    "        self.vectorizer = (\n",
    "            KerasTextVectorizer(\n",
    "                **self.options_vectorizer,\n",
    "                output_mode='int',\n",
    "                sparse=False,\n",
    "                #pad_to_last_sequence=True,\n",
    "                output_sequence_length=128\n",
    "            )\n",
    "                .fit(X)\n",
    "        )\n",
    "\n",
    "        X = self.vectorizer.transform(X)\n",
    "        self.base = (\n",
    "            skl.model_selection.GridSearchCV(\n",
    "                KerasTextClassifier(\n",
    "                    **self.options_clf,\n",
    "                    optimizer=tf.keras.optimizers.legacy.Adam(),\n",
    "                    loss='sparse_categorical_crossentropy',\n",
    "                    vocabulary_size=self.vectorizer.vocabulary_size(),\n",
    "                    metrics=['accuracy']\n",
    "                ),\n",
    "                **self.options_gridsearch,\n",
    "                param_grid={\n",
    "                    'epochs': [50],\n",
    "                    'batch_size': [1024],\n",
    "                    #'optimizer__learning_rate': [.01]\n",
    "                },\n",
    "                cv=skl.model_selection.RepeatedStratifiedKFold(\n",
    "                    n_splits=3, n_repeats=1\n",
    "                )\n",
    "            )\n",
    "                .fit(X, y)\n",
    "        )\n",
    "\n",
    "        return self\n",
    "\n",
    "    def best_model(self):\n",
    "        return skl.pipeline.Pipeline([\n",
    "            ('vectorizer', self.vectorizer),\n",
    "            ('model', self.base.best_estimator_)\n",
    "        ])\n",
    "\n",
    "    def predict(self, X):\n",
    "        X = self.vectorizer.transform(X)\n",
    "        return self.base.predict(X)\n",
    "\n",
    "    def score(self, X, y):\n",
    "        X = self.vectorizer.transform(X)\n",
    "        return self.base.score(X, y)"
   ]
  },
  {
   "cell_type": "code",
   "execution_count": 113,
   "metadata": {},
   "outputs": [],
   "source": [
    "class IMSDBParagraphTrainer:\n",
    "    def __init__(self, \n",
    "        col_name='movie_name', \n",
    "        col_script_paragraphs='script_paragraphs',\n",
    "        options_clf=dict(),\n",
    "        options_gridsearch=dict()\n",
    "    ):\n",
    "        self.col_name = col_name\n",
    "        self.col_script_paragraphs = col_script_paragraphs\n",
    "\n",
    "        self.base = TextClassifierCV(\n",
    "            options_vectorizer=dict(\n",
    "                max_tokens=None,\n",
    "                standardize='lower_and_strip_punctuation',\n",
    "                split='whitespace',\n",
    "                #ngrams=(1, 2),\n",
    "                #output_sequence_length=64\n",
    "            ),\n",
    "            options_clf=dict(\n",
    "                **options_clf,\n",
    "            ),\n",
    "            options_gridsearch=dict(\n",
    "                refit=True,\n",
    "                **options_gridsearch\n",
    "            )\n",
    "        )\n",
    "\n",
    "    def fit(self, df: pd.DataFrame):\n",
    "        self.base = self.base.fit(\n",
    "            X=df[self.col_script_paragraphs],\n",
    "            y=df[self.col_name]\n",
    "        )\n",
    "        return self\n",
    "\n",
    "    def predict(self, script_paragraphs: pd.Series):\n",
    "        return self.base.predict(script_paragraphs)\n",
    "\n",
    "    def best_model(self):\n",
    "        return self.base.best_model()\n",
    "\n",
    "    def best_score(self):\n",
    "        return self.base.base.best_score_"
   ]
  },
  {
   "cell_type": "code",
   "execution_count": 114,
   "metadata": {},
   "outputs": [
    {
     "data": {
      "text/plain": [
       "Reusing TensorBoard on port 6006 (pid 123661), started 0:24:29 ago. (Use '!kill 123661' to kill it.)"
      ]
     },
     "metadata": {},
     "output_type": "display_data"
    },
    {
     "data": {
      "text/html": [
       "\n",
       "      <iframe id=\"tensorboard-frame-d77890d07cc48ffe\" width=\"100%\" height=\"800\" frameborder=\"0\">\n",
       "      </iframe>\n",
       "      <script>\n",
       "        (function() {\n",
       "          const frame = document.getElementById(\"tensorboard-frame-d77890d07cc48ffe\");\n",
       "          const url = new URL(\"http://localhost\");\n",
       "          const port = 6006;\n",
       "          if (port) {\n",
       "            url.port = port;\n",
       "          }\n",
       "          frame.src = url;\n",
       "        })();\n",
       "      </script>\n",
       "    "
      ],
      "text/plain": [
       "<IPython.core.display.HTML object>"
      ]
     },
     "metadata": {},
     "output_type": "display_data"
    }
   ],
   "source": [
    "%tensorboard --logdir '{session_storage}/tensorboard/model_nn_spacy'\n",
    "\n",
    "model = IMSDBParagraphTrainer(\n",
    "    options_clf=dict(\n",
    "        verbose=0,\n",
    "        callbacks=[\n",
    "            keras.callbacks.TensorBoard(\n",
    "                fr'{session_storage}/tensorboard/model_nn_spacy'\n",
    "            ),\n",
    "            tfa.callbacks.TQDMProgressBar(\n",
    "                show_epoch_progress=False\n",
    "            )\n",
    "            #keras.callbacks.EarlyStopping(\n",
    "            #    monitor='loss', \n",
    "            #    patience=3, \n",
    "            #    min_delta=0.0001\n",
    "            #)\n",
    "        ]\n",
    "    ),\n",
    "    options_gridsearch=dict(\n",
    "        verbose=3,\n",
    "        #n_jobs=-1\n",
    "    )\n",
    ")"
   ]
  },
  {
   "cell_type": "markdown",
   "metadata": {},
   "source": [
    "Train on the first few samples"
   ]
  },
  {
   "cell_type": "code",
   "execution_count": null,
   "metadata": {},
   "outputs": [],
   "source": [
    "df_scripts_para_ = df_scripts_para.drop(df_scripts_outliers.index)\n",
    "df_scripts_para_ = df_scripts_para_[\n",
    "    df_scripts_para_['movie_name'].isin(\n",
    "        pd.Series(df_scripts_para_['movie_name'].unique()).head(100)\n",
    "    )\n",
    "]\n",
    "df_scripts_para_['movie_name'] = (\n",
    "    df_scripts_para_['movie_name']\n",
    "        .cat.remove_unused_categories()\n",
    ")\n",
    "#df_scripts_para_ = df_scripts_para_.groupby('movie_name').head(1000)\n",
    "\n",
    "_ = model.fit(df_scripts_para_)"
   ]
  },
  {
   "cell_type": "code",
   "execution_count": 108,
   "metadata": {},
   "outputs": [],
   "source": [
    "keras.backend.clear_session()"
   ]
  },
  {
   "cell_type": "markdown",
   "metadata": {},
   "source": [
    "Train on the whole dataset"
   ]
  },
  {
   "cell_type": "code",
   "execution_count": 115,
   "metadata": {},
   "outputs": [
    {
     "ename": "",
     "evalue": "",
     "output_type": "error",
     "traceback": [
      "\u001b[1;31mThe Kernel crashed while executing code in the the current cell or a previous cell. Please review the code in the cell(s) to identify a possible cause of the failure. Click <a href='https://aka.ms/vscodeJupyterKernelCrash'>here</a> for more info. View Jupyter <a href='command:jupyter.viewOutput'>log</a> for further details."
     ]
    },
    {
     "ename": "",
     "evalue": "",
     "output_type": "error",
     "traceback": [
      "\u001b[1;31mCanceled future for execute_request message before replies were done"
     ]
    }
   ],
   "source": [
    "_ = model.fit(df_scripts_para)"
   ]
  },
  {
   "cell_type": "code",
   "execution_count": 91,
   "metadata": {},
   "outputs": [
    {
     "data": {
      "text/plain": [
       "0.8258998365343433"
      ]
     },
     "execution_count": 91,
     "metadata": {},
     "output_type": "execute_result"
    }
   ],
   "source": [
    "model.best_score()"
   ]
  },
  {
   "cell_type": "markdown",
   "metadata": {},
   "source": [
    "Save the best model"
   ]
  },
  {
   "cell_type": "code",
   "execution_count": 92,
   "metadata": {},
   "outputs": [],
   "source": [
    "clf_best = model.best_model()"
   ]
  },
  {
   "cell_type": "code",
   "execution_count": 100,
   "metadata": {},
   "outputs": [
    {
     "data": {
      "text/plain": [
       "array(['12 Years a Slave', 'Groundhog Day', 'Groundhog Day',\n",
       "       '10 Things I Hate About You', 'Groundhog Day', 'Groundhog Day',\n",
       "       'Groundhog Day'], dtype=object)"
      ]
     },
     "execution_count": 100,
     "metadata": {},
     "output_type": "execute_result"
    }
   ],
   "source": [
    "clf_best.predict(X=np.array([\n",
    "    'test', \n",
    "    'heehee', \n",
    "    'very funny', \n",
    "    'can you believe it? she ate the whole thing',\n",
    "    # description of movie Groundhog Day\n",
    "    '''\n",
    "    A cynical TV weatherman finds himself reliving the same day \n",
    "    over and over again when he goes on location to the small town \n",
    "    of Punxsutawney to film a report about their annual Groundhog Day. \n",
    "    His predicament drives him to distraction, \n",
    "    until he sees a way of turning the situation to his advantage.\n",
    "    ''',\n",
    "    '''\n",
    "    A cynical TV weatherman finds himself reliving the same day \n",
    "    over and over again when he goes on location to a small town\n",
    "    to film a report about their annual festival. \n",
    "    His predicament drives him to distraction, \n",
    "    until he sees a way of turning the situation to his advantage.\n",
    "    ''',\n",
    "    '''\n",
    "    TV weatherman went to a small town to film a report about a festival \n",
    "    and got trapped in a time loop.\n",
    "    '''\n",
    "]))"
   ]
  },
  {
   "cell_type": "code",
   "execution_count": 50,
   "metadata": {},
   "outputs": [
    {
     "name": "stderr",
     "output_type": "stream",
     "text": [
      "WARNING:absl:Found untraced functions such as _jit_compiled_convolution_op, lstm_cell_49_layer_call_fn, lstm_cell_49_layer_call_and_return_conditional_losses, lstm_cell_50_layer_call_fn, lstm_cell_50_layer_call_and_return_conditional_losses while saving (showing 5 of 9). These functions will not be directly callable after loading.\n"
     ]
    },
    {
     "name": "stdout",
     "output_type": "stream",
     "text": [
      "INFO:tensorflow:Assets written to: ram:///tmp/tmpyzj6aei4/assets\n"
     ]
    },
    {
     "name": "stderr",
     "output_type": "stream",
     "text": [
      "INFO:tensorflow:Assets written to: ram:///tmp/tmpyzj6aei4/assets\n"
     ]
    }
   ],
   "source": [
    "import pickle\n",
    "\n",
    "with open(fr'{session_storage}/clf_nn_spacy', 'wb') as f:\n",
    "    pickle.dump(clf_best, f)"
   ]
  },
  {
   "cell_type": "markdown",
   "metadata": {},
   "source": [
    "Load the best model"
   ]
  },
  {
   "cell_type": "code",
   "execution_count": 51,
   "metadata": {},
   "outputs": [],
   "source": [
    "with open(fr'{session_storage}/clf_nn_spacy', 'rb') as f:\n",
    "    clf_best = pickle.load(f)"
   ]
  },
  {
   "cell_type": "code",
   "execution_count": 52,
   "metadata": {},
   "outputs": [
    {
     "name": "stdout",
     "output_type": "stream",
     "text": [
      "1/1 [==============================] - ETA: 0s\b\b\b\b\b\b\b\b\b\b\b\b\b\b\b\b\b\b\b\b\b\b\b\b\b\b\b\b\b\b\b\b\b\b\b\b\b\b\b\b\b\b\b\b\b\b\r1/1 [==============================] - 1s 1s/step\n"
     ]
    },
    {
     "data": {
      "text/plain": [
       "array(['Anastasia'], dtype=object)"
      ]
     },
     "execution_count": 52,
     "metadata": {},
     "output_type": "execute_result"
    }
   ],
   "source": [
    "clf_best.predict(X=np.array(['test']))"
   ]
  },
  {
   "cell_type": "code",
   "execution_count": 472,
   "metadata": {},
   "outputs": [
    {
     "data": {
      "text/plain": [
       "array([['28 Days Later Script'],\n",
       "       ['28 Days Later Script'],\n",
       "       ['Blast from the Past, The Script'],\n",
       "       ['Hackers Script'],\n",
       "       ['Un Singe en Hiver Script'],\n",
       "       ['28 Days Later Script'],\n",
       "       ['Clash of the Titans Script']], dtype=object)"
      ]
     },
     "execution_count": 472,
     "metadata": {},
     "output_type": "execute_result"
    }
   ],
   "source": [
    "def _clf_test_script_28_days_later(model, df):\n",
    "    sample = df[df['movie_name'] == '28 Days Later']\n",
    "    if sample.empty:\n",
    "        return\n",
    "\n",
    "    sample_para = '''\n",
    "    With practiced speed, Selena starts to open the kitchen\n",
    "          cupboards, selecting packets of biscuits and cans from the\n",
    "          shelves, and stuffing them into her backpack.\n",
    "    '''\n",
    "    return model.predict(X=np.array([\n",
    "        sample_para,\n",
    "        'Selena took food from kitchen shelves',\n",
    "        'Woman backpacking biscuits and cans in the kitchen',\n",
    "        'Woman searching for food',\n",
    "        'Selena Quintanilla nació el 16 de abril de 1971 en Lake Jackson, Texas, Estados Unidos',\n",
    "        'Selena Quintanilla was born on April 16, 1971, in Lake Jackson, Texas, United States',\n",
    "        'Script'\n",
    "    ]))\n",
    "    \n",
    "_clf_test_script_28_days_later(model, df_scripts_para)"
   ]
  },
  {
   "cell_type": "code",
   "execution_count": 455,
   "metadata": {},
   "outputs": [
    {
     "name": "stdout",
     "output_type": "stream",
     "text": [
      "CYNTHIA (CONT'D)\n",
      "               I'm guilty of lying... to Unity\n",
      "               House. I promised to be part of\n",
      "               it... Forever. They expected me\n",
      "               to keep my word.\n",
      "                   (pause)\n",
      "               They still do.\n"
     ]
    },
    {
     "data": {
      "text/plain": [
       "array([['Bad Dreams Script'],\n",
       "       ['Bad Dreams Script'],\n",
       "       ['Bad Dreams Script'],\n",
       "       ['Bad Dreams Script'],\n",
       "       ['Bad Dreams Script'],\n",
       "       ['Bad Dreams Script'],\n",
       "       ['Bad Dreams Script']], dtype=object)"
      ]
     },
     "execution_count": 455,
     "metadata": {},
     "output_type": "execute_result"
    }
   ],
   "source": [
    "def _clf_test_script_bad_dreams(model, df):\n",
    "    sample = df[df['movie_name'] == 'Bad Dreams']\n",
    "    if sample.empty:\n",
    "        return\n",
    "\n",
    "    sample_para = sample.iloc[0]['script_paragraphs']\n",
    "\n",
    "    print(sample_para)\n",
    "    return model.predict(X=np.array([\n",
    "        sample_para,\n",
    "        'Synthia betrayed Unity House and is ashamed of herself',\n",
    "        'Woman betrayed the cult and is ashamed of herself',\n",
    "        'Woman betrayed the cult',\n",
    "        'Woman is ashamed of herself',\n",
    "        'Woman',\n",
    "        'Script'\n",
    "    ]))\n",
    "\n",
    "_clf_test_script_bad_dreams(model, df_scripts_para)"
   ]
  }
 ],
 "metadata": {
  "kernelspec": {
   "display_name": "base",
   "language": "python",
   "name": "base"
  },
  "vscode": {
   "interpreter": {
    "hash": "d4d1e4263499bec80672ea0156c357c1ee493ec2b1c70f0acce89fc37c4a6abe"
   }
  }
 },
 "nbformat": 4,
 "nbformat_minor": 4
}
