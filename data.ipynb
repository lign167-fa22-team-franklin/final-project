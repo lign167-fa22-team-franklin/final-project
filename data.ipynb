{
 "cells": [
  {
   "cell_type": "code",
   "execution_count": 1,
   "metadata": {},
   "outputs": [],
   "source": [
    "!{__import__('sys').executable} -m pip install --quiet --upgrade -r requirements.txt"
   ]
  },
  {
   "cell_type": "code",
   "execution_count": 2,
   "metadata": {},
   "outputs": [],
   "source": [
    "session_storage = 'downloads'\n",
    "\n",
    "import os\n",
    "os.makedirs(session_storage, exist_ok=True)"
   ]
  },
  {
   "cell_type": "code",
   "execution_count": 3,
   "metadata": {},
   "outputs": [],
   "source": [
    "import fsspec\n",
    "\n",
    "fs_dataset = fsspec.filesystem(\n",
    "    'simplecache', \n",
    "    target_protocol='https', \n",
    "    cache_storage=session_storage,\n",
    ")"
   ]
  },
  {
   "cell_type": "code",
   "execution_count": 4,
   "metadata": {},
   "outputs": [],
   "source": [
    "\n",
    "# https://www.diva-portal.org/smash/get/diva2:1571821/FULLTEXT02\n",
    "\n",
    "# https://keras.io/examples/vision/attention_mil_classification/\n",
    "# https://machinelearningmastery.com/sequence-classification-lstm-recurrent-neural-networks-python-keras/"
   ]
  },
  {
   "cell_type": "code",
   "execution_count": 5,
   "metadata": {},
   "outputs": [],
   "source": [
    "#from urllib.parse import urlparse\n",
    "#import os\n",
    "#os.path.split(\n",
    "#    urlparse('/Movie Scripts/Reservoir Dogs Script.html').path\n",
    "#)\n",
    "#len(list(filter(lambda s: s.endswith('.html'), get_movie_links())))"
   ]
  },
  {
   "cell_type": "code",
   "execution_count": 6,
   "metadata": {},
   "outputs": [],
   "source": [
    "import requests\n",
    "import lxml\n",
    "import lxml.html\n",
    "\n",
    "#\n",
    "import lxml.etree\n",
    "\n",
    "import os\n",
    "import urllib\n",
    "import joblib\n",
    "\n",
    "\n",
    "def get_all_links(url):\n",
    "    return lxml.html.fromstring(\n",
    "        requests.get(url).text\n",
    "    ).xpath('//a')\n",
    "\n",
    "def get_all_hrefs(url, default=None):\n",
    "    return map(\n",
    "        lambda x: x.attrib.get('href', default),\n",
    "        get_all_links(url)\n",
    "    )\n",
    "\n",
    "def get_script(script_link):\n",
    "    res = ''\n",
    "    for el in lxml.html.fromstring(\n",
    "        requests.get('https://imsdb.com/' + script_link).text\n",
    "    ).xpath('//td[@class=\"scrtext\"]/pre'):    \n",
    "        res += el.text_content() \n",
    "    return res    \n",
    "\n",
    "def get_movie_links():\n",
    "    return {\n",
    "        l.attrib.get('href'): l.text_content()\n",
    "            for l in filter(\n",
    "                lambda x: os.path.dirname(x.attrib.get('href')) == '/Movie Scripts',\n",
    "                get_all_links('https://imsdb.com/all-scripts.html')\n",
    "            )\n",
    "    }\n",
    "\n",
    "def get_movie_details(movie_links):\n",
    "    raise NotImplementedError\n",
    "\n",
    "def get_script_links(movie_link):\n",
    "    return set(\n",
    "        filter(\n",
    "            lambda u: u is not None and os.path.dirname(u) == '/scripts',            \n",
    "            get_all_hrefs('https://imsdb.com/' + movie_link)\n",
    "        )\n",
    "    )\n",
    "    \n",
    "def get_movie_name(movie_link):\n",
    "    name, _ = os.path.splitext(\n",
    "        os.path.basename(movie_link)\n",
    "    )\n",
    "    return name\n",
    "    \n",
    "def get_movie_script_links():\n",
    "    def _f(movie_link, movie_name):\n",
    "        return (movie_name, get_script_links(movie_link))\n",
    "    return joblib.Parallel(n_jobs=-1)(\n",
    "        joblib.delayed(_f)(movie_link, movie_name)\n",
    "            for movie_link, movie_name in get_movie_links().items()\n",
    "    )\n",
    "\n",
    "def get_scripts(movie_script_links):\n",
    "    def _f(movie_name, script_link):\n",
    "        return (\n",
    "            movie_name,\n",
    "            list(map(\n",
    "                get_script,\n",
    "                script_link\n",
    "            ))\n",
    "        )\n",
    "\n",
    "    return joblib.Parallel(n_jobs=-1)(\n",
    "        joblib.delayed(_f)(movie_name, script_link) \n",
    "            for movie_name, script_link in movie_script_links\n",
    "    )"
   ]
  },
  {
   "cell_type": "code",
   "execution_count": 7,
   "metadata": {},
   "outputs": [],
   "source": [
    "import pandas as pd\n",
    "\n",
    "df = pd.DataFrame(\n",
    "    get_scripts(\n",
    "        get_movie_script_links()\n",
    "    ),\n",
    "    columns=['movie_name', 'script_text']\n",
    ")"
   ]
  },
  {
   "cell_type": "code",
   "execution_count": 8,
   "metadata": {},
   "outputs": [
    {
     "name": "stdout",
     "output_type": "stream",
     "text": [
      "<class 'pandas.core.frame.DataFrame'>\n",
      "RangeIndex: 1209 entries, 0 to 1208\n",
      "Data columns (total 2 columns):\n",
      " #   Column       Non-Null Count  Dtype \n",
      "---  ------       --------------  ----- \n",
      " 0   movie_name   1209 non-null   object\n",
      " 1   script_text  1209 non-null   object\n",
      "dtypes: object(2)\n",
      "memory usage: 19.0+ KB\n"
     ]
    }
   ],
   "source": [
    "df.info()"
   ]
  },
  {
   "cell_type": "code",
   "execution_count": 9,
   "metadata": {},
   "outputs": [],
   "source": [
    "df.to_pickle('./dataset.pkl', compression='gzip')"
   ]
  },
  {
   "cell_type": "code",
   "execution_count": 10,
   "metadata": {},
   "outputs": [
    {
     "data": {
      "text/html": [
       "<div>\n",
       "<style scoped>\n",
       "    .dataframe tbody tr th:only-of-type {\n",
       "        vertical-align: middle;\n",
       "    }\n",
       "\n",
       "    .dataframe tbody tr th {\n",
       "        vertical-align: top;\n",
       "    }\n",
       "\n",
       "    .dataframe thead th {\n",
       "        text-align: right;\n",
       "    }\n",
       "</style>\n",
       "<table border=\"1\" class=\"dataframe\">\n",
       "  <thead>\n",
       "    <tr style=\"text-align: right;\">\n",
       "      <th></th>\n",
       "      <th>movie_name</th>\n",
       "      <th>script_text</th>\n",
       "    </tr>\n",
       "  </thead>\n",
       "  <tbody>\n",
       "    <tr>\n",
       "      <th>0</th>\n",
       "      <td>Reservoir Dogs</td>\n",
       "      <td>[\\r\\n\\r\\n\\r\\n\\r\\n\\r\\n\\r\\n                     ...</td>\n",
       "    </tr>\n",
       "    <tr>\n",
       "      <th>1</th>\n",
       "      <td>How to Train Your Dragon</td>\n",
       "      <td>[\\r\\n\\r\\n\\r\\n                            HOW T...</td>\n",
       "    </tr>\n",
       "    <tr>\n",
       "      <th>2</th>\n",
       "      <td>Scream</td>\n",
       "      <td>[                                \\r\\n         ...</td>\n",
       "    </tr>\n",
       "    <tr>\n",
       "      <th>3</th>\n",
       "      <td>Groundhog Day</td>\n",
       "      <td>[\\r\\n\\r\\n \\r\\n                                ...</td>\n",
       "    </tr>\n",
       "    <tr>\n",
       "      <th>4</th>\n",
       "      <td>Black Panther</td>\n",
       "      <td>[\\r\\n\\r\\n\\r\\n \\r\\n                          BL...</td>\n",
       "    </tr>\n",
       "    <tr>\n",
       "      <th>...</th>\n",
       "      <td>...</td>\n",
       "      <td>...</td>\n",
       "    </tr>\n",
       "    <tr>\n",
       "      <th>1204</th>\n",
       "      <td>You've Got Mail</td>\n",
       "      <td>[\\r\\n\\r\\nYou've Got Mail\\r\\n\\r\\n\\r\\n\\r\\n\\t\\t\\t...</td>\n",
       "    </tr>\n",
       "    <tr>\n",
       "      <th>1205</th>\n",
       "      <td>Youth in Revolt</td>\n",
       "      <td>[ \\r\\n          \\r\\n\\r\\n                      ...</td>\n",
       "    </tr>\n",
       "    <tr>\n",
       "      <th>1206</th>\n",
       "      <td>Zero Dark Thirty</td>\n",
       "      <td>[\\r\\n\\r\\n \\r\\n                                ...</td>\n",
       "    </tr>\n",
       "    <tr>\n",
       "      <th>1207</th>\n",
       "      <td>Zerophilia</td>\n",
       "      <td>[\\r\\n\\r\\n\\r\\n\\r\\n                             ...</td>\n",
       "    </tr>\n",
       "    <tr>\n",
       "      <th>1208</th>\n",
       "      <td>Zootopia</td>\n",
       "      <td>[\\r\\n\\r\\n\\r\\n\\r\\n                            Z...</td>\n",
       "    </tr>\n",
       "  </tbody>\n",
       "</table>\n",
       "<p>1209 rows × 2 columns</p>\n",
       "</div>"
      ],
      "text/plain": [
       "                    movie_name  \\\n",
       "0               Reservoir Dogs   \n",
       "1     How to Train Your Dragon   \n",
       "2                       Scream   \n",
       "3                Groundhog Day   \n",
       "4                Black Panther   \n",
       "...                        ...   \n",
       "1204           You've Got Mail   \n",
       "1205           Youth in Revolt   \n",
       "1206          Zero Dark Thirty   \n",
       "1207                Zerophilia   \n",
       "1208                  Zootopia   \n",
       "\n",
       "                                            script_text  \n",
       "0     [\\r\\n\\r\\n\\r\\n\\r\\n\\r\\n\\r\\n                     ...  \n",
       "1     [\\r\\n\\r\\n\\r\\n                            HOW T...  \n",
       "2     [                                \\r\\n         ...  \n",
       "3     [\\r\\n\\r\\n \\r\\n                                ...  \n",
       "4     [\\r\\n\\r\\n\\r\\n \\r\\n                          BL...  \n",
       "...                                                 ...  \n",
       "1204  [\\r\\n\\r\\nYou've Got Mail\\r\\n\\r\\n\\r\\n\\r\\n\\t\\t\\t...  \n",
       "1205  [ \\r\\n          \\r\\n\\r\\n                      ...  \n",
       "1206  [\\r\\n\\r\\n \\r\\n                                ...  \n",
       "1207  [\\r\\n\\r\\n\\r\\n\\r\\n                             ...  \n",
       "1208  [\\r\\n\\r\\n\\r\\n\\r\\n                            Z...  \n",
       "\n",
       "[1209 rows x 2 columns]"
      ]
     },
     "execution_count": 10,
     "metadata": {},
     "output_type": "execute_result"
    }
   ],
   "source": [
    "pd.read_pickle('./dataset.pkl', compression='gzip')"
   ]
  },
  {
   "cell_type": "code",
   "execution_count": 13,
   "metadata": {},
   "outputs": [],
   "source": [
    "#print(df.iloc[0]['script_text'][0])"
   ]
  }
 ],
 "metadata": {
  "kernelspec": {
   "display_name": "Python 3 (clean)",
   "language": "python",
   "name": "python3_clean"
  },
  "language_info": {
   "codemirror_mode": {
    "name": "ipython",
    "version": 3
   },
   "file_extension": ".py",
   "mimetype": "text/x-python",
   "name": "python",
   "nbconvert_exporter": "python",
   "pygments_lexer": "ipython3",
   "version": "3.9.5"
  },
  "vscode": {
   "interpreter": {
    "hash": "d4d1e4263499bec80672ea0156c357c1ee493ec2b1c70f0acce89fc37c4a6abe"
   }
  }
 },
 "nbformat": 4,
 "nbformat_minor": 4
}
