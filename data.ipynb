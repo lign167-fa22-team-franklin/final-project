{
 "cells": [
  {
   "cell_type": "code",
   "execution_count": 1,
   "metadata": {},
   "outputs": [],
   "source": [
    "!{__import__('sys').executable} -m pip install --quiet --upgrade -r requirements.txt"
   ]
  },
  {
   "cell_type": "code",
   "execution_count": 2,
   "metadata": {},
   "outputs": [],
   "source": [
    "session_storage = 'downloads'\n",
    "\n",
    "import os\n",
    "os.makedirs(session_storage, exist_ok=True)"
   ]
  },
  {
   "cell_type": "code",
   "execution_count": 3,
   "metadata": {},
   "outputs": [],
   "source": [
    "import fsspec\n",
    "\n",
    "fs_dataset = fsspec.filesystem(\n",
    "    'simplecache', \n",
    "    target_protocol='https', \n",
    "    cache_storage=session_storage,\n",
    ")"
   ]
  },
  {
   "cell_type": "code",
   "execution_count": 4,
   "metadata": {},
   "outputs": [],
   "source": [
    "\n",
    "# https://www.diva-portal.org/smash/get/diva2:1571821/FULLTEXT02\n",
    "\n",
    "# https://keras.io/examples/vision/attention_mil_classification/\n",
    "# https://machinelearningmastery.com/sequence-classification-lstm-recurrent-neural-networks-python-keras/"
   ]
  },
  {
   "cell_type": "code",
   "execution_count": 5,
   "metadata": {},
   "outputs": [],
   "source": [
    "#from urllib.parse import urlparse\n",
    "#import os\n",
    "#os.path.split(\n",
    "#    urlparse('/Movie Scripts/Reservoir Dogs Script.html').path\n",
    "#)\n",
    "#len(list(filter(lambda s: s.endswith('.html'), get_movie_links())))"
   ]
  },
  {
   "cell_type": "code",
   "execution_count": 6,
   "metadata": {},
   "outputs": [],
   "source": [
    "import requests\n",
    "import lxml\n",
    "import lxml.html\n",
    "\n",
    "import os\n",
    "import urllib\n",
    "\n",
    "\n",
    "def get_all_hrefs(url):\n",
    "    return map(\n",
    "        lambda s: urllib.parse.urlparse(s).path,\n",
    "        lxml.html.fromstring(\n",
    "            requests.get(url).text\n",
    "        ).xpath('//a/@href')\n",
    "    )\n",
    "\n",
    "\n",
    "import joblib\n",
    "\n",
    "def get_script(script_link):\n",
    "    res = ''\n",
    "    for el in lxml.html.fromstring(\n",
    "        requests.get('https://imsdb.com/' + script_link).text\n",
    "    ).xpath('//td[@class=\"scrtext\"]/pre'):    \n",
    "        res += ''.join(el.itertext())\n",
    "    return res    \n",
    "\n",
    "def get_movie_links():\n",
    "    return set(\n",
    "        filter(\n",
    "            lambda u: os.path.dirname(u) == '/Movie Scripts',\n",
    "            get_all_hrefs('https://imsdb.com/all-scripts.html')\n",
    "        )\n",
    "    )\n",
    "\n",
    "def get_script_links(movie_link):\n",
    "    return set(\n",
    "        filter(\n",
    "            lambda u: os.path.dirname(u) == '/scripts',            \n",
    "            get_all_hrefs('https://imsdb.com/' + movie_link)\n",
    "        )\n",
    "    )\n",
    "    \n",
    "def get_movie_name(movie_link):\n",
    "    name, _ = os.path.splitext(\n",
    "        os.path.basename(movie_link)\n",
    "    )\n",
    "    return name\n",
    "    \n",
    "def get_movie_script_links():\n",
    "    def _f(movie_link):\n",
    "        return (\n",
    "            get_movie_name(movie_link),\n",
    "            get_script_links(movie_link)\n",
    "        )\n",
    "    return joblib.Parallel(n_jobs=-1)(\n",
    "        joblib.delayed(_f)(movie_link) for movie_link in get_movie_links()\n",
    "    )\n",
    "\n",
    "def get_scripts(movie_script_links):\n",
    "    def _f(movie_name, script_link):\n",
    "        return (\n",
    "            movie_name,\n",
    "            list(map(\n",
    "                get_script,\n",
    "                script_link\n",
    "            ))\n",
    "        )\n",
    "\n",
    "    return joblib.Parallel(n_jobs=-1)(\n",
    "        joblib.delayed(_f)(movie_name, script_link) \n",
    "            for movie_name, script_link in movie_script_links\n",
    "    )\n"
   ]
  },
  {
   "cell_type": "code",
   "execution_count": 7,
   "metadata": {},
   "outputs": [],
   "source": [
    "import pandas as pd\n",
    "\n",
    "df = pd.DataFrame(\n",
    "    get_scripts(\n",
    "        get_movie_script_links()\n",
    "    ),\n",
    "    columns=['script_name', 'script_text']\n",
    ")"
   ]
  },
  {
   "cell_type": "code",
   "execution_count": 8,
   "metadata": {},
   "outputs": [
    {
     "name": "stdout",
     "output_type": "stream",
     "text": [
      "<class 'pandas.core.frame.DataFrame'>\n",
      "RangeIndex: 1209 entries, 0 to 1208\n",
      "Data columns (total 2 columns):\n",
      " #   Column       Non-Null Count  Dtype \n",
      "---  ------       --------------  ----- \n",
      " 0   script_name  1209 non-null   object\n",
      " 1   script_text  1209 non-null   object\n",
      "dtypes: object(2)\n",
      "memory usage: 19.0+ KB\n"
     ]
    }
   ],
   "source": [
    "df.info()"
   ]
  },
  {
   "cell_type": "code",
   "execution_count": 9,
   "metadata": {},
   "outputs": [],
   "source": [
    "df.to_pickle('./dataset.pkl', compression='gzip')"
   ]
  },
  {
   "cell_type": "code",
   "execution_count": 10,
   "metadata": {},
   "outputs": [
    {
     "data": {
      "text/html": [
       "<div>\n",
       "<style scoped>\n",
       "    .dataframe tbody tr th:only-of-type {\n",
       "        vertical-align: middle;\n",
       "    }\n",
       "\n",
       "    .dataframe tbody tr th {\n",
       "        vertical-align: top;\n",
       "    }\n",
       "\n",
       "    .dataframe thead th {\n",
       "        text-align: right;\n",
       "    }\n",
       "</style>\n",
       "<table border=\"1\" class=\"dataframe\">\n",
       "  <thead>\n",
       "    <tr style=\"text-align: right;\">\n",
       "      <th></th>\n",
       "      <th>script_name</th>\n",
       "      <th>script_text</th>\n",
       "    </tr>\n",
       "  </thead>\n",
       "  <tbody>\n",
       "    <tr>\n",
       "      <th>0</th>\n",
       "      <td>No Country for Old Men Script</td>\n",
       "      <td>[\\r\\n\\r\\n\\r\\n \\r\\n                          NO...</td>\n",
       "    </tr>\n",
       "    <tr>\n",
       "      <th>1</th>\n",
       "      <td>Strangers on a Train Script</td>\n",
       "      <td>[                   STRANGERS ON A TRAIN\\r\\n\\r...</td>\n",
       "    </tr>\n",
       "    <tr>\n",
       "      <th>2</th>\n",
       "      <td>Sex, Lies and Videotape Script</td>\n",
       "      <td>[\\r\\n\\r\\n&lt;b&gt;&lt;!--\\r\\n&lt;/b&gt;if (window!= top)\\r\\nt...</td>\n",
       "    </tr>\n",
       "    <tr>\n",
       "      <th>3</th>\n",
       "      <td>Absolute Power Script</td>\n",
       "      <td>[ABSOLUTE POWER\\r\\n\\r\\n      Written by\\r\\n   ...</td>\n",
       "    </tr>\n",
       "    <tr>\n",
       "      <th>4</th>\n",
       "      <td>World is not Enough, The Script</td>\n",
       "      <td>[\\t\\t\\r\\n\\r\\n       T H E   W O R L D   I S   ...</td>\n",
       "    </tr>\n",
       "    <tr>\n",
       "      <th>...</th>\n",
       "      <td>...</td>\n",
       "      <td>...</td>\n",
       "    </tr>\n",
       "    <tr>\n",
       "      <th>1204</th>\n",
       "      <td>Shivers Script</td>\n",
       "      <td>[\\r\\n\\r\\n\\r\\n                                 ...</td>\n",
       "    </tr>\n",
       "    <tr>\n",
       "      <th>1205</th>\n",
       "      <td>American Psycho Script</td>\n",
       "      <td>[\\r\\n\\r\\n\\r\\n&lt;b&gt;&lt;!--\\r\\n&lt;/b&gt;if (window!= top)\\...</td>\n",
       "    </tr>\n",
       "    <tr>\n",
       "      <th>1206</th>\n",
       "      <td>Five Easy Pieces Script</td>\n",
       "      <td>[\\r\\n\\r\\n\\r\\n&lt;b&gt;&lt;!--\\r\\n&lt;/b&gt;if (window!= top)\\...</td>\n",
       "    </tr>\n",
       "    <tr>\n",
       "      <th>1207</th>\n",
       "      <td>Saving Mr. Banks Script</td>\n",
       "      <td>[\\r\\n\\r\\n\\r\\n                                 ...</td>\n",
       "    </tr>\n",
       "    <tr>\n",
       "      <th>1208</th>\n",
       "      <td>Get Carter Script</td>\n",
       "      <td>[\\r\\n\\r\\n\\r\\n\\r\\n                             ...</td>\n",
       "    </tr>\n",
       "  </tbody>\n",
       "</table>\n",
       "<p>1209 rows × 2 columns</p>\n",
       "</div>"
      ],
      "text/plain": [
       "                          script_name  \\\n",
       "0       No Country for Old Men Script   \n",
       "1         Strangers on a Train Script   \n",
       "2      Sex, Lies and Videotape Script   \n",
       "3               Absolute Power Script   \n",
       "4     World is not Enough, The Script   \n",
       "...                               ...   \n",
       "1204                   Shivers Script   \n",
       "1205           American Psycho Script   \n",
       "1206          Five Easy Pieces Script   \n",
       "1207          Saving Mr. Banks Script   \n",
       "1208                Get Carter Script   \n",
       "\n",
       "                                            script_text  \n",
       "0     [\\r\\n\\r\\n\\r\\n \\r\\n                          NO...  \n",
       "1     [                   STRANGERS ON A TRAIN\\r\\n\\r...  \n",
       "2     [\\r\\n\\r\\n<b><!--\\r\\n</b>if (window!= top)\\r\\nt...  \n",
       "3     [ABSOLUTE POWER\\r\\n\\r\\n      Written by\\r\\n   ...  \n",
       "4     [\\t\\t\\r\\n\\r\\n       T H E   W O R L D   I S   ...  \n",
       "...                                                 ...  \n",
       "1204  [\\r\\n\\r\\n\\r\\n                                 ...  \n",
       "1205  [\\r\\n\\r\\n\\r\\n<b><!--\\r\\n</b>if (window!= top)\\...  \n",
       "1206  [\\r\\n\\r\\n\\r\\n<b><!--\\r\\n</b>if (window!= top)\\...  \n",
       "1207  [\\r\\n\\r\\n\\r\\n                                 ...  \n",
       "1208  [\\r\\n\\r\\n\\r\\n\\r\\n                             ...  \n",
       "\n",
       "[1209 rows x 2 columns]"
      ]
     },
     "execution_count": 10,
     "metadata": {},
     "output_type": "execute_result"
    }
   ],
   "source": [
    "pd.read_pickle('./dataset.pkl', compression='gzip')"
   ]
  },
  {
   "cell_type": "code",
   "execution_count": 11,
   "metadata": {},
   "outputs": [],
   "source": [
    "#print(df.iloc[1]['script_text'][0])"
   ]
  },
  {
   "cell_type": "code",
   "execution_count": 12,
   "metadata": {},
   "outputs": [],
   "source": [
    "import pandas as pd"
   ]
  },
  {
   "cell_type": "code",
   "execution_count": null,
   "metadata": {},
   "outputs": [],
   "source": []
  },
  {
   "cell_type": "code",
   "execution_count": 13,
   "metadata": {},
   "outputs": [
    {
     "data": {
      "text/plain": [
       "'Ace-Ventura-Pet-Detective'"
      ]
     },
     "execution_count": 13,
     "metadata": {},
     "output_type": "execute_result"
    }
   ],
   "source": [
    "str('Ace-Ventura-Pet-Detective.html').replace('.html', '')"
   ]
  },
  {
   "cell_type": "code",
   "execution_count": 14,
   "metadata": {},
   "outputs": [],
   "source": [
    "def get_movie_details(movie_links):\n",
    "    pass\n",
    "\n"
   ]
  },
  {
   "cell_type": "code",
   "execution_count": null,
   "metadata": {},
   "outputs": [],
   "source": []
  }
 ],
 "metadata": {
  "kernelspec": {
   "display_name": "Python 3 (clean)",
   "language": "python",
   "name": "python3_clean"
  },
  "language_info": {
   "codemirror_mode": {
    "name": "ipython",
    "version": 3
   },
   "file_extension": ".py",
   "mimetype": "text/x-python",
   "name": "python",
   "nbconvert_exporter": "python",
   "pygments_lexer": "ipython3",
   "version": "3.9.5"
  },
  "vscode": {
   "interpreter": {
    "hash": "d4d1e4263499bec80672ea0156c357c1ee493ec2b1c70f0acce89fc37c4a6abe"
   }
  }
 },
 "nbformat": 4,
 "nbformat_minor": 4
}
