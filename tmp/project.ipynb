{
 "cells": [
  {
   "cell_type": "code",
   "execution_count": 1,
   "metadata": {},
   "outputs": [
    {
     "name": "stdout",
     "output_type": "stream",
     "text": [
      "/bin/bash: /opt/conda/lib/libtinfo.so.6: no version information available (required by /bin/bash)\n",
      "\u001b[31mERROR: pip's dependency resolver does not currently take into account all the packages that are installed. This behaviour is the source of the following dependency conflicts.\r\n",
      "tensorflow-gpu 2.6.0 requires numpy~=1.19.2, but you have numpy 1.22.4 which is incompatible.\u001b[0m\r\n"
     ]
    }
   ],
   "source": [
    "!{__import__('sys').executable} -m pip install --quiet --upgrade -r requirements.txt"
   ]
  },
  {
   "cell_type": "code",
   "execution_count": 2,
   "metadata": {},
   "outputs": [],
   "source": [
    "session_storage = 'downloads'\n",
    "\n",
    "import os\n",
    "os.makedirs(session_storage, exist_ok=True)"
   ]
  },
  {
   "cell_type": "code",
   "execution_count": 3,
   "metadata": {},
   "outputs": [],
   "source": [
    "import fsspec\n",
    "\n",
    "fs_dataset = fsspec.filesystem(\n",
    "    'simplecache', \n",
    "    target_protocol='https', \n",
    "    cache_storage=session_storage,\n",
    ")"
   ]
  },
  {
   "cell_type": "code",
   "execution_count": 4,
   "metadata": {},
   "outputs": [],
   "source": [
    "import pandas as pd\n",
    "'''\n",
    "import swifter\n",
    "swifter.set_defaults(\n",
    "    npartitions=None,\n",
    "    dask_thres=1,\n",
    "    scheduler='processes',\n",
    "    progress_bar=True,\n",
    "    progress_bar_desc=None,\n",
    "    allow_dask_on_strings=True,\n",
    "    force_parallel=False\n",
    ")\n",
    "'''\n",
    "\n",
    "import sklearn as skl\n",
    "import sklearn.base\n",
    "import sklearn.compose\n",
    "#import sklearn.ensemble\n",
    "import sklearn.feature_extraction\n",
    "import sklearn.linear_model\n",
    "import sklearn.metrics\n",
    "import sklearn.model_selection\n",
    "import sklearn.pipeline\n",
    "import sklearn.svm\n",
    "\n",
    "import xgboost\n",
    "\n",
    "import numpy as np"
   ]
  },
  {
   "cell_type": "code",
   "execution_count": 5,
   "metadata": {},
   "outputs": [
    {
     "name": "stderr",
     "output_type": "stream",
     "text": [
      "Intel(R) Extension for Scikit-learn* enabled (https://github.com/intel/scikit-learn-intelex)\n"
     ]
    }
   ],
   "source": [
    "import sklearnex\n",
    "sklearnex.patch_sklearn()"
   ]
  },
  {
   "cell_type": "markdown",
   "metadata": {},
   "source": [
    "## Dataset\n",
    "\n",
    "See https://ftp.funet.fi/pub/mirrors/ftp.imdb.com/pub/frozendata"
   ]
  },
  {
   "cell_type": "code",
   "execution_count": 6,
   "metadata": {},
   "outputs": [],
   "source": [
    "import re\n",
    "\n",
    "def _parse_imdb_list(fo):\n",
    "    pattern = re.compile(\n",
    "        fr'^(?P<key>[^:]+):\\s+(?P<value>.*)$', \n",
    "        flags=re.DOTALL\n",
    "    )\n",
    "    for l in fo.read().splitlines():\n",
    "        m = re.match(pattern, l)\n",
    "        if not m:\n",
    "            continue\n",
    "        yield m.groupdict()\n",
    "\n",
    "def _parse_imdb_list_plot(f):\n",
    "    r = None\n",
    "\n",
    "    for entry in _parse_imdb_list(f):\n",
    "        # \n",
    "        if entry['key'] == 'MV':\n",
    "            if r is not None:\n",
    "                yield r\n",
    "\n",
    "            r = dict()\n",
    "            r['name'] = entry['value']\n",
    "\n",
    "        if r is None:\n",
    "            # error\n",
    "            continue\n",
    "\n",
    "        if entry['key'] == 'BY':\n",
    "            r.setdefault('plot_authors', [])\n",
    "            r['plot_authors'].append(entry['value'])\n",
    "\n",
    "        if entry['key'] == 'PL':\n",
    "            r.setdefault('plot_text', [])\n",
    "            r['plot_text'].append(entry['value'])"
   ]
  },
  {
   "cell_type": "code",
   "execution_count": 7,
   "metadata": {},
   "outputs": [],
   "source": [
    "dataset_plots = None\n",
    "with fs_dataset.open(\n",
    "    'https://ftp.funet.fi/pub/mirrors/ftp.imdb.com/pub/frozendata/plot.list.gz', \n",
    "    compression='gzip', \n",
    "    mode='rt', errors='ignore'\n",
    ") as f:\n",
    "    dataset_plots = pd.DataFrame(\n",
    "        list(_parse_imdb_list_plot(f))\n",
    "    )"
   ]
  },
  {
   "cell_type": "code",
   "execution_count": 8,
   "metadata": {},
   "outputs": [
    {
     "data": {
      "text/html": [
       "<div>\n",
       "<style scoped>\n",
       "    .dataframe tbody tr th:only-of-type {\n",
       "        vertical-align: middle;\n",
       "    }\n",
       "\n",
       "    .dataframe tbody tr th {\n",
       "        vertical-align: top;\n",
       "    }\n",
       "\n",
       "    .dataframe thead th {\n",
       "        text-align: right;\n",
       "    }\n",
       "</style>\n",
       "<table border=\"1\" class=\"dataframe\">\n",
       "  <thead>\n",
       "    <tr style=\"text-align: right;\">\n",
       "      <th></th>\n",
       "      <th>name</th>\n",
       "      <th>plot_text</th>\n",
       "      <th>plot_authors</th>\n",
       "    </tr>\n",
       "  </thead>\n",
       "  <tbody>\n",
       "    <tr>\n",
       "      <th>0</th>\n",
       "      <td>\"#7DaysLater\" (2013)</td>\n",
       "      <td>[#7dayslater is an interactive comedy series f...</td>\n",
       "      <td>[Sum Whan]</td>\n",
       "    </tr>\n",
       "    <tr>\n",
       "      <th>1</th>\n",
       "      <td>\"#BlackLove\" (2015) {Bringing Sexy Back (#1.3)}</td>\n",
       "      <td>[This week, the five women work on getting wha...</td>\n",
       "      <td>NaN</td>\n",
       "    </tr>\n",
       "    <tr>\n",
       "      <th>2</th>\n",
       "      <td>\"#BlackLove\" (2015) {Crash the Party (#1.9)}</td>\n",
       "      <td>[With just one week left in the workshops, the...</td>\n",
       "      <td>NaN</td>\n",
       "    </tr>\n",
       "    <tr>\n",
       "      <th>3</th>\n",
       "      <td>\"#BlackLove\" (2015) {Like a Virgin (#1.4)}</td>\n",
       "      <td>[All of the women are struggling with what mak...</td>\n",
       "      <td>NaN</td>\n",
       "    </tr>\n",
       "    <tr>\n",
       "      <th>4</th>\n",
       "      <td>\"#BlackLove\" (2015) {Making Lemonade Out of Le...</td>\n",
       "      <td>[All of the women start making strides towards...</td>\n",
       "      <td>NaN</td>\n",
       "    </tr>\n",
       "    <tr>\n",
       "      <th>...</th>\n",
       "      <td>...</td>\n",
       "      <td>...</td>\n",
       "      <td>...</td>\n",
       "    </tr>\n",
       "    <tr>\n",
       "      <th>596421</th>\n",
       "      <td>deux (2017)</td>\n",
       "      <td>[When 2 Musicians throw coins in the same wish...</td>\n",
       "      <td>[Randy Abbassi]</td>\n",
       "    </tr>\n",
       "    <tr>\n",
       "      <th>596422</th>\n",
       "      <td>propos: philosophie (2016)</td>\n",
       "      <td>[Is happiness good for human beings? Is truth ...</td>\n",
       "      <td>[Sebastian Kthe]</td>\n",
       "    </tr>\n",
       "    <tr>\n",
       "      <th>596423</th>\n",
       "      <td>a gote le ciel (2014)</td>\n",
       "      <td>[The 'Sky's the Limit' is the story of an 11 y...</td>\n",
       "      <td>[Anonymous]</td>\n",
       "    </tr>\n",
       "    <tr>\n",
       "      <th>596424</th>\n",
       "      <td>solo un nastro che gira (2017)</td>\n",
       "      <td>[A woman in crisis finds in a peculiar bar the...</td>\n",
       "      <td>NaN</td>\n",
       "    </tr>\n",
       "    <tr>\n",
       "      <th>596425</th>\n",
       "      <td>X-Driver the Movie (2002) (V)</td>\n",
       "      <td>[The squeal of smoking tires, the roar of the ...</td>\n",
       "      <td>NaN</td>\n",
       "    </tr>\n",
       "  </tbody>\n",
       "</table>\n",
       "<p>596426 rows × 3 columns</p>\n",
       "</div>"
      ],
      "text/plain": [
       "                                                     name  \\\n",
       "0                                    \"#7DaysLater\" (2013)   \n",
       "1         \"#BlackLove\" (2015) {Bringing Sexy Back (#1.3)}   \n",
       "2            \"#BlackLove\" (2015) {Crash the Party (#1.9)}   \n",
       "3              \"#BlackLove\" (2015) {Like a Virgin (#1.4)}   \n",
       "4       \"#BlackLove\" (2015) {Making Lemonade Out of Le...   \n",
       "...                                                   ...   \n",
       "596421                                        deux (2017)   \n",
       "596422                         propos: philosophie (2016)   \n",
       "596423                              a gote le ciel (2014)   \n",
       "596424                     solo un nastro che gira (2017)   \n",
       "596425                      X-Driver the Movie (2002) (V)   \n",
       "\n",
       "                                                plot_text      plot_authors  \n",
       "0       [#7dayslater is an interactive comedy series f...        [Sum Whan]  \n",
       "1       [This week, the five women work on getting wha...               NaN  \n",
       "2       [With just one week left in the workshops, the...               NaN  \n",
       "3       [All of the women are struggling with what mak...               NaN  \n",
       "4       [All of the women start making strides towards...               NaN  \n",
       "...                                                   ...               ...  \n",
       "596421  [When 2 Musicians throw coins in the same wish...   [Randy Abbassi]  \n",
       "596422  [Is happiness good for human beings? Is truth ...  [Sebastian Kthe]  \n",
       "596423  [The 'Sky's the Limit' is the story of an 11 y...       [Anonymous]  \n",
       "596424  [A woman in crisis finds in a peculiar bar the...               NaN  \n",
       "596425  [The squeal of smoking tires, the roar of the ...               NaN  \n",
       "\n",
       "[596426 rows x 3 columns]"
      ]
     },
     "execution_count": 8,
     "metadata": {},
     "output_type": "execute_result"
    }
   ],
   "source": [
    "dataset_plots"
   ]
  },
  {
   "cell_type": "code",
   "execution_count": 19,
   "metadata": {},
   "outputs": [
    {
     "data": {
      "text/plain": [
       "count    596426.000000\n",
       "mean          8.835435\n",
       "std           6.687068\n",
       "min           1.000000\n",
       "25%           5.000000\n",
       "50%           7.000000\n",
       "75%          10.000000\n",
       "max         273.000000\n",
       "Name: plot_text, dtype: float64"
      ]
     },
     "execution_count": 19,
     "metadata": {},
     "output_type": "execute_result"
    }
   ],
   "source": [
    "dataset_plots['plot_text'].str.len().describe()"
   ]
  },
  {
   "cell_type": "code",
   "execution_count": 15,
   "metadata": {},
   "outputs": [
    {
     "data": {
      "text/plain": [
       "['The Escapee presents a woman on the verge of abandoning her upcoming',\n",
       " 'marriage and perhaps a way of life as she inspects what is important in her',\n",
       " 'life and what is merely the dictate of convention providing us with an',\n",
       " 'insight to her unique way of looking at things.']"
      ]
     },
     "execution_count": 15,
     "metadata": {},
     "output_type": "execute_result"
    }
   ],
   "source": [
    "dataset_plots.iloc[5000]['plot_text']"
   ]
  },
  {
   "cell_type": "code",
   "execution_count": 9,
   "metadata": {},
   "outputs": [
    {
     "name": "stdout",
     "output_type": "stream",
     "text": [
      "<class 'pandas.core.frame.DataFrame'>\n",
      "RangeIndex: 596426 entries, 0 to 596425\n",
      "Data columns (total 3 columns):\n",
      " #   Column        Non-Null Count   Dtype \n",
      "---  ------        --------------   ----- \n",
      " 0   name          596426 non-null  object\n",
      " 1   plot_text     596426 non-null  object\n",
      " 2   plot_authors  506486 non-null  object\n",
      "dtypes: object(3)\n",
      "memory usage: 13.7+ MB\n"
     ]
    }
   ],
   "source": [
    "dataset_plots.info()"
   ]
  }
 ],
 "metadata": {
  "kernelspec": {
   "display_name": "base",
   "language": "python",
   "name": "python3"
  },
  "language_info": {
   "codemirror_mode": {
    "name": "ipython",
    "version": 3
   },
   "file_extension": ".py",
   "mimetype": "text/x-python",
   "name": "python",
   "nbconvert_exporter": "python",
   "pygments_lexer": "ipython3",
   "version": "3.9.5"
  },
  "orig_nbformat": 4,
  "vscode": {
   "interpreter": {
    "hash": "d4d1e4263499bec80672ea0156c357c1ee493ec2b1c70f0acce89fc37c4a6abe"
   }
  }
 },
 "nbformat": 4,
 "nbformat_minor": 2
}
